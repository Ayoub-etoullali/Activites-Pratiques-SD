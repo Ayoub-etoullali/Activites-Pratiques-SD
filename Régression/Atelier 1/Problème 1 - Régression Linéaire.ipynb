{
 "cells": [
  {
   "cell_type": "markdown",
   "id": "152052e7",
   "metadata": {},
   "source": [
    "Dans la première et deuxième partie de cet atelier, on va utiliser la base de données Advertising.Alors, l’objectif principal est de créer un modèle de régression pour prédire la variable Sales. \n",
    "\n",
    "La troisième partie traite le problème de classification en appliquant la régression logistique sur la base de données diabetescsv.csv. \n",
    "\n",
    "Pour cela, on commence à savoir comment :\n",
    "\n",
    "- Récupérer des données à partir d’un fichier csv et découvrir ses principales caractéristiques.\n",
    "- Visualiser les données sous forme de graphe."
   ]
  },
  {
   "cell_type": "markdown",
   "id": "e1a05ceb",
   "metadata": {},
   "source": [
    "# Partie 1 : Régression linéaire simple"
   ]
  },
  {
   "cell_type": "markdown",
   "id": "0710f090",
   "metadata": {},
   "source": [
    "## 1. Récupérer des données à partir de fichier advertising.csv et découvrir ses principales caractéristiques."
   ]
  },
  {
   "cell_type": "code",
   "execution_count": 2,
   "id": "bb8708c3",
   "metadata": {},
   "outputs": [],
   "source": [
    "import pandas as pd"
   ]
  },
  {
   "cell_type": "code",
   "execution_count": 3,
   "id": "67845cdd",
   "metadata": {},
   "outputs": [],
   "source": [
    "data = pd.read_csv(\"data/advertising.csv\")"
   ]
  },
  {
   "cell_type": "code",
   "execution_count": 4,
   "id": "3508eecf",
   "metadata": {},
   "outputs": [
    {
     "data": {
      "text/html": [
       "<div>\n",
       "<style scoped>\n",
       "    .dataframe tbody tr th:only-of-type {\n",
       "        vertical-align: middle;\n",
       "    }\n",
       "\n",
       "    .dataframe tbody tr th {\n",
       "        vertical-align: top;\n",
       "    }\n",
       "\n",
       "    .dataframe thead th {\n",
       "        text-align: right;\n",
       "    }\n",
       "</style>\n",
       "<table border=\"1\" class=\"dataframe\">\n",
       "  <thead>\n",
       "    <tr style=\"text-align: right;\">\n",
       "      <th></th>\n",
       "      <th>TV</th>\n",
       "      <th>Radio</th>\n",
       "      <th>Newspaper</th>\n",
       "      <th>Sales</th>\n",
       "    </tr>\n",
       "  </thead>\n",
       "  <tbody>\n",
       "    <tr>\n",
       "      <th>0</th>\n",
       "      <td>230.1</td>\n",
       "      <td>37.8</td>\n",
       "      <td>69.2</td>\n",
       "      <td>22.1</td>\n",
       "    </tr>\n",
       "    <tr>\n",
       "      <th>1</th>\n",
       "      <td>44.5</td>\n",
       "      <td>39.3</td>\n",
       "      <td>45.1</td>\n",
       "      <td>10.4</td>\n",
       "    </tr>\n",
       "    <tr>\n",
       "      <th>2</th>\n",
       "      <td>17.2</td>\n",
       "      <td>45.9</td>\n",
       "      <td>69.3</td>\n",
       "      <td>12.0</td>\n",
       "    </tr>\n",
       "    <tr>\n",
       "      <th>3</th>\n",
       "      <td>151.5</td>\n",
       "      <td>41.3</td>\n",
       "      <td>58.5</td>\n",
       "      <td>16.5</td>\n",
       "    </tr>\n",
       "    <tr>\n",
       "      <th>4</th>\n",
       "      <td>180.8</td>\n",
       "      <td>10.8</td>\n",
       "      <td>58.4</td>\n",
       "      <td>17.9</td>\n",
       "    </tr>\n",
       "    <tr>\n",
       "      <th>...</th>\n",
       "      <td>...</td>\n",
       "      <td>...</td>\n",
       "      <td>...</td>\n",
       "      <td>...</td>\n",
       "    </tr>\n",
       "    <tr>\n",
       "      <th>195</th>\n",
       "      <td>38.2</td>\n",
       "      <td>3.7</td>\n",
       "      <td>13.8</td>\n",
       "      <td>7.6</td>\n",
       "    </tr>\n",
       "    <tr>\n",
       "      <th>196</th>\n",
       "      <td>94.2</td>\n",
       "      <td>4.9</td>\n",
       "      <td>8.1</td>\n",
       "      <td>14.0</td>\n",
       "    </tr>\n",
       "    <tr>\n",
       "      <th>197</th>\n",
       "      <td>177.0</td>\n",
       "      <td>9.3</td>\n",
       "      <td>6.4</td>\n",
       "      <td>14.8</td>\n",
       "    </tr>\n",
       "    <tr>\n",
       "      <th>198</th>\n",
       "      <td>283.6</td>\n",
       "      <td>42.0</td>\n",
       "      <td>66.2</td>\n",
       "      <td>25.5</td>\n",
       "    </tr>\n",
       "    <tr>\n",
       "      <th>199</th>\n",
       "      <td>232.1</td>\n",
       "      <td>8.6</td>\n",
       "      <td>8.7</td>\n",
       "      <td>18.4</td>\n",
       "    </tr>\n",
       "  </tbody>\n",
       "</table>\n",
       "<p>200 rows × 4 columns</p>\n",
       "</div>"
      ],
      "text/plain": [
       "        TV  Radio  Newspaper  Sales\n",
       "0    230.1   37.8       69.2   22.1\n",
       "1     44.5   39.3       45.1   10.4\n",
       "2     17.2   45.9       69.3   12.0\n",
       "3    151.5   41.3       58.5   16.5\n",
       "4    180.8   10.8       58.4   17.9\n",
       "..     ...    ...        ...    ...\n",
       "195   38.2    3.7       13.8    7.6\n",
       "196   94.2    4.9        8.1   14.0\n",
       "197  177.0    9.3        6.4   14.8\n",
       "198  283.6   42.0       66.2   25.5\n",
       "199  232.1    8.6        8.7   18.4\n",
       "\n",
       "[200 rows x 4 columns]"
      ]
     },
     "execution_count": 4,
     "metadata": {},
     "output_type": "execute_result"
    }
   ],
   "source": [
    "data"
   ]
  },
  {
   "cell_type": "code",
   "execution_count": 5,
   "id": "988a59ab",
   "metadata": {},
   "outputs": [
    {
     "data": {
      "text/html": [
       "<div>\n",
       "<style scoped>\n",
       "    .dataframe tbody tr th:only-of-type {\n",
       "        vertical-align: middle;\n",
       "    }\n",
       "\n",
       "    .dataframe tbody tr th {\n",
       "        vertical-align: top;\n",
       "    }\n",
       "\n",
       "    .dataframe thead th {\n",
       "        text-align: right;\n",
       "    }\n",
       "</style>\n",
       "<table border=\"1\" class=\"dataframe\">\n",
       "  <thead>\n",
       "    <tr style=\"text-align: right;\">\n",
       "      <th></th>\n",
       "      <th>TV</th>\n",
       "      <th>Radio</th>\n",
       "      <th>Newspaper</th>\n",
       "      <th>Sales</th>\n",
       "    </tr>\n",
       "  </thead>\n",
       "  <tbody>\n",
       "    <tr>\n",
       "      <th>0</th>\n",
       "      <td>230.1</td>\n",
       "      <td>37.8</td>\n",
       "      <td>69.2</td>\n",
       "      <td>22.1</td>\n",
       "    </tr>\n",
       "    <tr>\n",
       "      <th>1</th>\n",
       "      <td>44.5</td>\n",
       "      <td>39.3</td>\n",
       "      <td>45.1</td>\n",
       "      <td>10.4</td>\n",
       "    </tr>\n",
       "    <tr>\n",
       "      <th>2</th>\n",
       "      <td>17.2</td>\n",
       "      <td>45.9</td>\n",
       "      <td>69.3</td>\n",
       "      <td>12.0</td>\n",
       "    </tr>\n",
       "    <tr>\n",
       "      <th>3</th>\n",
       "      <td>151.5</td>\n",
       "      <td>41.3</td>\n",
       "      <td>58.5</td>\n",
       "      <td>16.5</td>\n",
       "    </tr>\n",
       "    <tr>\n",
       "      <th>4</th>\n",
       "      <td>180.8</td>\n",
       "      <td>10.8</td>\n",
       "      <td>58.4</td>\n",
       "      <td>17.9</td>\n",
       "    </tr>\n",
       "  </tbody>\n",
       "</table>\n",
       "</div>"
      ],
      "text/plain": [
       "      TV  Radio  Newspaper  Sales\n",
       "0  230.1   37.8       69.2   22.1\n",
       "1   44.5   39.3       45.1   10.4\n",
       "2   17.2   45.9       69.3   12.0\n",
       "3  151.5   41.3       58.5   16.5\n",
       "4  180.8   10.8       58.4   17.9"
      ]
     },
     "execution_count": 5,
     "metadata": {},
     "output_type": "execute_result"
    }
   ],
   "source": [
    "data.head()"
   ]
  },
  {
   "cell_type": "code",
   "execution_count": 6,
   "id": "4af418c9",
   "metadata": {},
   "outputs": [
    {
     "data": {
      "text/plain": [
       "TV           float64\n",
       "Radio        float64\n",
       "Newspaper    float64\n",
       "Sales        float64\n",
       "dtype: object"
      ]
     },
     "execution_count": 6,
     "metadata": {},
     "output_type": "execute_result"
    }
   ],
   "source": [
    "data.dtypes"
   ]
  },
  {
   "cell_type": "code",
   "execution_count": 7,
   "id": "9ed6c01e",
   "metadata": {},
   "outputs": [
    {
     "name": "stdout",
     "output_type": "stream",
     "text": [
      "<class 'pandas.core.frame.DataFrame'>\n",
      "RangeIndex: 200 entries, 0 to 199\n",
      "Data columns (total 4 columns):\n",
      " #   Column     Non-Null Count  Dtype  \n",
      "---  ------     --------------  -----  \n",
      " 0   TV         200 non-null    float64\n",
      " 1   Radio      200 non-null    float64\n",
      " 2   Newspaper  200 non-null    float64\n",
      " 3   Sales      200 non-null    float64\n",
      "dtypes: float64(4)\n",
      "memory usage: 6.4 KB\n"
     ]
    }
   ],
   "source": [
    "data.info()"
   ]
  },
  {
   "cell_type": "code",
   "execution_count": 8,
   "id": "a74d4288",
   "metadata": {},
   "outputs": [
    {
     "data": {
      "text/html": [
       "<div>\n",
       "<style scoped>\n",
       "    .dataframe tbody tr th:only-of-type {\n",
       "        vertical-align: middle;\n",
       "    }\n",
       "\n",
       "    .dataframe tbody tr th {\n",
       "        vertical-align: top;\n",
       "    }\n",
       "\n",
       "    .dataframe thead th {\n",
       "        text-align: right;\n",
       "    }\n",
       "</style>\n",
       "<table border=\"1\" class=\"dataframe\">\n",
       "  <thead>\n",
       "    <tr style=\"text-align: right;\">\n",
       "      <th></th>\n",
       "      <th>TV</th>\n",
       "      <th>Radio</th>\n",
       "      <th>Newspaper</th>\n",
       "      <th>Sales</th>\n",
       "    </tr>\n",
       "  </thead>\n",
       "  <tbody>\n",
       "    <tr>\n",
       "      <th>count</th>\n",
       "      <td>200.000000</td>\n",
       "      <td>200.000000</td>\n",
       "      <td>200.000000</td>\n",
       "      <td>200.000000</td>\n",
       "    </tr>\n",
       "    <tr>\n",
       "      <th>mean</th>\n",
       "      <td>147.042500</td>\n",
       "      <td>23.264000</td>\n",
       "      <td>30.554000</td>\n",
       "      <td>15.130500</td>\n",
       "    </tr>\n",
       "    <tr>\n",
       "      <th>std</th>\n",
       "      <td>85.854236</td>\n",
       "      <td>14.846809</td>\n",
       "      <td>21.778621</td>\n",
       "      <td>5.283892</td>\n",
       "    </tr>\n",
       "    <tr>\n",
       "      <th>min</th>\n",
       "      <td>0.700000</td>\n",
       "      <td>0.000000</td>\n",
       "      <td>0.300000</td>\n",
       "      <td>1.600000</td>\n",
       "    </tr>\n",
       "    <tr>\n",
       "      <th>25%</th>\n",
       "      <td>74.375000</td>\n",
       "      <td>9.975000</td>\n",
       "      <td>12.750000</td>\n",
       "      <td>11.000000</td>\n",
       "    </tr>\n",
       "    <tr>\n",
       "      <th>50%</th>\n",
       "      <td>149.750000</td>\n",
       "      <td>22.900000</td>\n",
       "      <td>25.750000</td>\n",
       "      <td>16.000000</td>\n",
       "    </tr>\n",
       "    <tr>\n",
       "      <th>75%</th>\n",
       "      <td>218.825000</td>\n",
       "      <td>36.525000</td>\n",
       "      <td>45.100000</td>\n",
       "      <td>19.050000</td>\n",
       "    </tr>\n",
       "    <tr>\n",
       "      <th>max</th>\n",
       "      <td>296.400000</td>\n",
       "      <td>49.600000</td>\n",
       "      <td>114.000000</td>\n",
       "      <td>27.000000</td>\n",
       "    </tr>\n",
       "  </tbody>\n",
       "</table>\n",
       "</div>"
      ],
      "text/plain": [
       "               TV       Radio   Newspaper       Sales\n",
       "count  200.000000  200.000000  200.000000  200.000000\n",
       "mean   147.042500   23.264000   30.554000   15.130500\n",
       "std     85.854236   14.846809   21.778621    5.283892\n",
       "min      0.700000    0.000000    0.300000    1.600000\n",
       "25%     74.375000    9.975000   12.750000   11.000000\n",
       "50%    149.750000   22.900000   25.750000   16.000000\n",
       "75%    218.825000   36.525000   45.100000   19.050000\n",
       "max    296.400000   49.600000  114.000000   27.000000"
      ]
     },
     "execution_count": 8,
     "metadata": {},
     "output_type": "execute_result"
    }
   ],
   "source": [
    "data.describe()"
   ]
  },
  {
   "cell_type": "code",
   "execution_count": 24,
   "id": "7fb8ecf1",
   "metadata": {},
   "outputs": [
    {
     "data": {
      "text/plain": [
       "TV           0\n",
       "Radio        0\n",
       "Newspaper    0\n",
       "Sales        0\n",
       "dtype: int64"
      ]
     },
     "execution_count": 24,
     "metadata": {},
     "output_type": "execute_result"
    }
   ],
   "source": [
    "#Checking null values\n",
    "data.isnull().sum()"
   ]
  },
  {
   "cell_type": "code",
   "execution_count": 25,
   "id": "a4108d29",
   "metadata": {},
   "outputs": [],
   "source": [
    "# data = data.dropna()"
   ]
  },
  {
   "cell_type": "markdown",
   "id": "a2048a55",
   "metadata": {},
   "source": [
    "## 2. Initialiser X (predictors, variable indépendante) par la variable TV et y (cible, variable dépendante)."
   ]
  },
  {
   "cell_type": "code",
   "execution_count": 26,
   "id": "963d83f0",
   "metadata": {},
   "outputs": [],
   "source": [
    "X = data['TV'].values\n",
    "y = data['Sales'].values"
   ]
  },
  {
   "cell_type": "code",
   "execution_count": 27,
   "id": "6beb1fc2",
   "metadata": {},
   "outputs": [
    {
     "data": {
      "text/plain": [
       "array([230.1,  44.5,  17.2, 151.5, 180.8,   8.7,  57.5, 120.2,   8.6,\n",
       "       199.8,  66.1, 214.7,  23.8,  97.5, 204.1, 195.4,  67.8, 281.4,\n",
       "        69.2, 147.3, 218.4, 237.4,  13.2, 228.3,  62.3, 262.9, 142.9,\n",
       "       240.1, 248.8,  70.6, 292.9, 112.9,  97.2, 265.6,  95.7, 290.7,\n",
       "       266.9,  74.7,  43.1, 228. , 202.5, 177. , 293.6, 206.9,  25.1,\n",
       "       175.1,  89.7, 239.9, 227.2,  66.9, 199.8, 100.4, 216.4, 182.6,\n",
       "       262.7, 198.9,   7.3, 136.2, 210.8, 210.7,  53.5, 261.3, 239.3,\n",
       "       102.7, 131.1,  69. ,  31.5, 139.3, 237.4, 216.8, 199.1, 109.8,\n",
       "        26.8, 129.4, 213.4,  16.9,  27.5, 120.5,   5.4, 116. ,  76.4,\n",
       "       239.8,  75.3,  68.4, 213.5, 193.2,  76.3, 110.7,  88.3, 109.8,\n",
       "       134.3,  28.6, 217.7, 250.9, 107.4, 163.3, 197.6, 184.9, 289.7,\n",
       "       135.2, 222.4, 296.4, 280.2, 187.9, 238.2, 137.9,  25. ,  90.4,\n",
       "        13.1, 255.4, 225.8, 241.7, 175.7, 209.6,  78.2,  75.1, 139.2,\n",
       "        76.4, 125.7,  19.4, 141.3,  18.8, 224. , 123.1, 229.5,  87.2,\n",
       "         7.8,  80.2, 220.3,  59.6,   0.7, 265.2,   8.4, 219.8,  36.9,\n",
       "        48.3,  25.6, 273.7,  43. , 184.9,  73.4, 193.7, 220.5, 104.6,\n",
       "        96.2, 140.3, 240.1, 243.2,  38. ,  44.7, 280.7, 121. , 197.6,\n",
       "       171.3, 187.8,   4.1,  93.9, 149.8,  11.7, 131.7, 172.5,  85.7,\n",
       "       188.4, 163.5, 117.2, 234.5,  17.9, 206.8, 215.4, 284.3,  50. ,\n",
       "       164.5,  19.6, 168.4, 222.4, 276.9, 248.4, 170.2, 276.7, 165.6,\n",
       "       156.6, 218.5,  56.2, 287.6, 253.8, 205. , 139.5, 191.1, 286. ,\n",
       "        18.7,  39.5,  75.5,  17.2, 166.8, 149.7,  38.2,  94.2, 177. ,\n",
       "       283.6, 232.1])"
      ]
     },
     "execution_count": 27,
     "metadata": {},
     "output_type": "execute_result"
    }
   ],
   "source": [
    "X"
   ]
  },
  {
   "cell_type": "code",
   "execution_count": 28,
   "id": "eb042adc",
   "metadata": {},
   "outputs": [
    {
     "data": {
      "text/plain": [
       "array([22.1, 10.4, 12. , 16.5, 17.9,  7.2, 11.8, 13.2,  4.8, 15.6, 12.6,\n",
       "       17.4,  9.2, 13.7, 19. , 22.4, 12.5, 24.4, 11.3, 14.6, 18. , 17.5,\n",
       "        5.6, 20.5,  9.7, 17. , 15. , 20.9, 18.9, 10.5, 21.4, 11.9, 13.2,\n",
       "       17.4, 11.9, 17.8, 25.4, 14.7, 10.1, 21.5, 16.6, 17.1, 20.7, 17.9,\n",
       "        8.5, 16.1, 10.6, 23.2, 19.8,  9.7, 16.4, 10.7, 22.6, 21.2, 20.2,\n",
       "       23.7,  5.5, 13.2, 23.8, 18.4,  8.1, 24.2, 20.7, 14. , 16. , 11.3,\n",
       "       11. , 13.4, 18.9, 22.3, 18.3, 12.4,  8.8, 11. , 17. ,  8.7,  6.9,\n",
       "       14.2,  5.3, 11. , 11.8, 17.3, 11.3, 13.6, 21.7, 20.2, 12. , 16. ,\n",
       "       12.9, 16.7, 14. ,  7.3, 19.4, 22.2, 11.5, 16.9, 16.7, 20.5, 25.4,\n",
       "       17.2, 16.7, 23.8, 19.8, 19.7, 20.7, 15. ,  7.2, 12. ,  5.3, 19.8,\n",
       "       18.4, 21.8, 17.1, 20.9, 14.6, 12.6, 12.2,  9.4, 15.9,  6.6, 15.5,\n",
       "        7. , 16.6, 15.2, 19.7, 10.6,  6.6, 11.9, 24.7,  9.7,  1.6, 17.7,\n",
       "        5.7, 19.6, 10.8, 11.6,  9.5, 20.8,  9.6, 20.7, 10.9, 19.2, 20.1,\n",
       "       10.4, 12.3, 10.3, 18.2, 25.4, 10.9, 10.1, 16.1, 11.6, 16.6, 16. ,\n",
       "       20.6,  3.2, 15.3, 10.1,  7.3, 12.9, 16.4, 13.3, 19.9, 18. , 11.9,\n",
       "       16.9,  8. , 17.2, 17.1, 20. ,  8.4, 17.5,  7.6, 16.7, 16.5, 27. ,\n",
       "       20.2, 16.7, 16.8, 17.6, 15.5, 17.2,  8.7, 26.2, 17.6, 22.6, 10.3,\n",
       "       17.3, 20.9,  6.7, 10.8, 11.9,  5.9, 19.6, 17.3,  7.6, 14. , 14.8,\n",
       "       25.5, 18.4])"
      ]
     },
     "execution_count": 28,
     "metadata": {},
     "output_type": "execute_result"
    }
   ],
   "source": [
    "y"
   ]
  },
  {
   "cell_type": "code",
   "execution_count": 29,
   "id": "1b6b591a",
   "metadata": {},
   "outputs": [
    {
     "data": {
      "text/plain": [
       "296.4"
      ]
     },
     "execution_count": 29,
     "metadata": {},
     "output_type": "execute_result"
    }
   ],
   "source": [
    "X.max()"
   ]
  },
  {
   "cell_type": "markdown",
   "id": "269e2b2f",
   "metadata": {},
   "source": [
    "## 3. Pourquoi il s’agit d’un problème de régression"
   ]
  },
  {
   "cell_type": "markdown",
   "id": "31617090",
   "metadata": {},
   "source": [
    "(Apprentissatge supervisé : on a la colonne cible, c'est une prédiction)"
   ]
  },
  {
   "cell_type": "markdown",
   "id": "dbf64306",
   "metadata": {},
   "source": [
    "Il s'agit d'un problème de régression parce que l'objectif principal est de prédire une variable continue (dans ce cas, la variable \"Sales\") en fonction d'une autre variable ou d'un ensemble de variables (dans ce cas, la variable \"TV\"). En régression, vous cherchez à établir une relation fonctionnelle entre les variables d'entrée (prédicteurs) et la variable de sortie (cible) de manière à pouvoir faire des prédictions sur cette variable de sortie pour de nouvelles données.\n",
    "\n",
    "Dans ce contexte spécifique :\n",
    "\n",
    "- La variable \"TV\" est utilisée comme prédicteur, c'est-à-dire une variable qui sert à expliquer ou à prédire une autre variable.\n",
    "\n",
    "- La variable \"Sales\" est la variable de sortie ou la cible que vous essayez de prédire.\n",
    "\n",
    "Le modèle de régression linéaire simple qui est décrit par l'équation \"y = w0 + w1x\" est un modèle qui tente de modéliser la relation linéaire entre la publicité à la télévision (variable \"TV\") et les ventes (variable \"Sales\"). Vous cherchez à trouver les paramètres (w0 et w1) qui minimisent l'erreur entre les valeurs prédites et les valeurs réelles de \"Sales\". Cette approche est caractéristique d'un problème de régression, car la variable cible (\"Sales\") est continue, et vous cherchez à estimer une relation continue entre les variables.\n",
    "\n",
    "En résumé, le problème est de nature régressive parce qu'il vise à prédire une quantité numérique (ventes) en fonction d'une autre variable (publicité TV), ce qui correspond à la définition d'un problème de régression."
   ]
  },
  {
   "cell_type": "markdown",
   "id": "beca4f35",
   "metadata": {},
   "source": [
    "## 4. Visualiser la base de données avec matplotlib."
   ]
  },
  {
   "cell_type": "code",
   "execution_count": 38,
   "id": "2550b0fb",
   "metadata": {},
   "outputs": [
    {
     "data": {
      "image/png": "[encoded data removed]",
      "text/plain": [
       "<Figure size 1000x400 with 2 Axes>"
      ]
     },
     "metadata": {},
     "output_type": "display_data"
    }
   ],
   "source": [
    "import matplotlib.pyplot as plt\n",
    "\n",
    "plt.figure(figsize=(10, 4))\n",
    "\n",
    "plt.subplot(1, 2, 1)\n",
    "plt.plot(X,y,\"b*\")\n",
    "\n",
    "plt.subplot(1, 2, 2)\n",
    "plt.scatter(X, y)\n",
    "plt.xlabel('TV Advertising Budget')\n",
    "plt.ylabel('Sales')\n",
    "\n",
    "plt.show()"
   ]
  },
  {
   "cell_type": "markdown",
   "id": "ece77f72",
   "metadata": {},
   "source": [
    "### (a) à l’aide de train test split de sklearn.model selection, diviser la base de données en base d’apprentissage et base de test"
   ]
  },
  {
   "cell_type": "markdown",
   "id": "3532a058",
   "metadata": {},
   "source": [
    "80% pour la base d’apprentissage et 20% pour la base de test"
   ]
  },
  {
   "cell_type": "code",
   "execution_count": 46,
   "id": "fba3fac4",
   "metadata": {},
   "outputs": [],
   "source": [
    "from sklearn.model_selection import train_test_split\n",
    "\n",
    "# Split the data into training and testing sets\n",
    "X_train, X_test, y_train, y_test = train_test_split(X, y, test_size=0.2, random_state=42)"
   ]
  },
  {
   "cell_type": "markdown",
   "id": "085793b8",
   "metadata": {},
   "source": [
    "### (b) Définir une fonction MSE(X,y,W) qui retourne la moyenne des erreurs entre la valeur théorique et la valeur réelle."
   ]
  },
  {
   "cell_type": "markdown",
   "id": "95f12de4",
   "metadata": {},
   "source": [
    "on utilise MSE pour le cas de dérivé en 0"
   ]
  },
  {
   "cell_type": "code",
   "execution_count": 47,
   "id": "3bc13f9b",
   "metadata": {},
   "outputs": [],
   "source": [
    "def MSE(X,y,w0, w1):\n",
    "    y_pred = w0 + w1 * X\n",
    "    return np.mean((y - y_pred)**2, axis=0)"
   ]
  },
  {
   "cell_type": "markdown",
   "id": "a7d4fccd",
   "metadata": {},
   "source": [
    "- The sum of elements, along with an axis divided by the number of elements, is known as arithmetic mean. \n",
    "- The numpy.mean() function is used to compute the arithmetic mean along the specified axis.\n",
    "- This function returns the average of the array elements."
   ]
  },
  {
   "cell_type": "markdown",
   "id": "ed473de0",
   "metadata": {},
   "source": [
    "### (c) Définir la fonction Gradient(X,y,W)"
   ]
  },
  {
   "cell_type": "code",
   "execution_count": 48,
   "id": "2ca76fab",
   "metadata": {},
   "outputs": [],
   "source": [
    "import numpy as np\n",
    "\n",
    "def Gradient(X, y, w0, w1):\n",
    "    y_pred = w0 + w1 * X\n",
    "    dW0 = -2 * np.mean(y - y_pred)\n",
    "    dW1 = -2 * np.mean((y - y_pred) * X)\n",
    "    return dW0, dW1"
   ]
  },
  {
   "cell_type": "markdown",
   "id": "597358d4",
   "metadata": {},
   "source": [
    "### (d) Etablir une fonction de mise à jour des paramètres W MiseJour(grad,W,alpha)"
   ]
  },
  {
   "cell_type": "markdown",
   "id": "e499ce00",
   "metadata": {},
   "source": [
    "La fonction (d) \"Etablir une fonction de mise à jour des paramètres W MiseJour(grad, W, alpha)\" est un composant essentiel de l'algorithme de descente de gradient. Cette fonction est responsable de la mise à jour des paramètres du modèle (dans ce cas, les poids W) en fonction du gradient de la fonction de coût et d'un taux d'apprentissage (alpha). Voici une explication détaillée de cette fonction :\n",
    "\n",
    "- `grad`: C'est un vecteur contenant les gradients des paramètres du modèle. Dans le contexte de la régression linéaire simple, il s'agit généralement d'un vecteur de deux éléments, où le premier élément représente la dérivée partielle de la fonction de coût par rapport à w0 (l'ordonnée à l'origine) et le deuxième élément représente la dérivée partielle par rapport à w1 (le coefficient de la variable prédictive).\n",
    "\n",
    "- `W`: C'est un vecteur contenant les paramètres actuels du modèle. Dans le cas de la régression linéaire simple, W = [w0, w1].\n",
    "\n",
    "- `alpha`: C'est le taux d'apprentissage, également appelé \"pas d'apprentissage\". Il détermine la taille des pas que l'algorithme de descente de gradient effectuera pour mettre à jour les paramètres. Le choix de cette valeur est important car un alpha trop petit peut entraîner une convergence lente, tandis qu'un alpha trop grand peut empêcher la convergence.\n",
    "\n",
    "La fonction de mise à jour des paramètres W MiseJour(grad, W, alpha) est généralement implémentée de la manière suivante pour la régression linéaire simple :\n",
    "\n",
    "- Mettez à jour w0 et w1 comme suit :\n",
    "  - w0_new = w0 - alpha * grad[0]\n",
    "  - w1_new = w1 - alpha * grad[1]\n",
    "\n",
    "En d'autres termes, vous soustrayez le produit du taux d'apprentissage (alpha) et de la dérivée partielle de la fonction de coût par rapport à chaque paramètre (w0 et w1) des paramètres actuels pour obtenir les nouveaux paramètres. Cela permet à l'algorithme de se rapprocher des valeurs optimales des paramètres qui minimisent la fonction de coût.\n",
    "\n",
    "La mise à jour des paramètres se fait itérativement à chaque étape de la descente de gradient, contribuant ainsi à la convergence de l'algorithme vers les paramètres optimaux qui donnent le meilleur ajustement du modèle aux données."
   ]
  },
  {
   "cell_type": "code",
   "execution_count": 49,
   "id": "4b9b0f03",
   "metadata": {},
   "outputs": [],
   "source": [
    "def MiseJour(grad, W, alpha):\n",
    "    return [w - alpha * g for w, g in zip(W, grad)]"
   ]
  },
  {
   "cell_type": "markdown",
   "id": "53788c97",
   "metadata": {},
   "source": [
    "Le code `[w - alpha * g for w, g in zip(W, grad)]` est une expression de liste en Python qui met en œuvre la mise à jour des paramètres du modèle à l'aide du gradient et du taux d'apprentissage (alpha). Il effectue la mise à jour des paramètres en soustrayant le produit de `alpha` et du gradient (`g`) correspondant à chaque paramètre (`w`) dans le vecteur `W`. Voici comment cela fonctionne :\n",
    "\n",
    "- `W` est le vecteur contenant les paramètres actuels du modèle. Dans le contexte de la régression linéaire simple, `W` est un vecteur avec deux éléments, représentant `w0` et `w1`.\n",
    "\n",
    "- `grad` est le vecteur contenant les gradients correspondant à chaque paramètre dans `W`. Dans le contexte de la régression linéaire simple, `grad` est également un vecteur avec deux éléments, correspondant aux dérivées partielles de la fonction de coût par rapport à `w0` et `w1`.\n",
    "\n",
    "- `alpha` est le taux d'apprentissage, qui détermine la taille des pas de mise à jour.\n",
    "\n",
    "L'expression `[w - alpha * g for w, g in zip(W, grad)]` crée un nouveau vecteur de paramètres mis à jour en parcourant simultanément les éléments de `W` et de `grad`, en effectuant la mise à jour pour chaque paire de paramètres.\n",
    "\n",
    "Voici une description détaillée de ce code :\n",
    "\n",
    "- `w` et `g` sont les éléments correspondants de `W` et `grad` à chaque itération.\n",
    "\n",
    "- `w - alpha * g` calcule la nouvelle valeur du paramètre en soustrayant le produit de `alpha` (le taux d'apprentissage) et `g` (le gradient) de la valeur actuelle de `w`.\n",
    "\n",
    "- La compréhension de liste `[w - alpha * g for w, g in zip(W, grad)]` parcourt tous les éléments de `W` et `grad`, effectue ces mises à jour pour chaque élément et retourne un nouveau vecteur de paramètres mis à jour.\n",
    "\n",
    "Cela permet d'ajuster itérativement les paramètres du modèle à mesure que vous descendez dans la direction du gradient, en cherchant à minimiser la fonction de coût."
   ]
  },
  {
   "cell_type": "markdown",
   "id": "4ce5415b",
   "metadata": {},
   "source": [
    "### (e) Ecrire la fonction Batch Gradient Descent(X,y,W,N max,alpha,eps), qui retourne les meilleurs paramètres estimés et de plus affiche l’évolution de MSE après chaque itération"
   ]
  },
  {
   "cell_type": "code",
   "execution_count": 50,
   "id": "8e04eb82",
   "metadata": {},
   "outputs": [],
   "source": [
    "def Batch_Gradient_Descent(X, y, W, N_max, alpha, eps):\n",
    "    errors = []\n",
    "    for _ in range(N_max):\n",
    "        grad = Gradient(X, y, W[0], W[1])\n",
    "#         print(\"grad: \", grad)\n",
    "        W = MiseJour(grad, W, alpha)\n",
    "#         print(\"W: \",W)\n",
    "        error = MSE(X, y, W[0], W[1])\n",
    "#         print(\"error: \",error)\n",
    "        errors.append(error)\n",
    "#         print(\"errors: \",errors)\n",
    "        if error < eps:\n",
    "            break\n",
    "    return W, errors"
   ]
  },
  {
   "cell_type": "code",
   "execution_count": 51,
   "id": "4586983c",
   "metadata": {},
   "outputs": [],
   "source": [
    "# Initialisation des paramètres et appel de la descente de gradient\n",
    "initial_w0, initial_w1 = 0, 0\n",
    "alpha = 0.000001\n",
    "N_max = 50\n",
    "eps = 0.0001\n",
    "\n",
    "W, errors = Batch_Gradient_Descent(X_train, y_train, [initial_w0, initial_w1], N_max, alpha, eps)"
   ]
  },
  {
   "cell_type": "code",
   "execution_count": 52,
   "id": "1a15f224",
   "metadata": {},
   "outputs": [
    {
     "data": {
      "text/plain": [
       "[0.000607296363806343, 0.08669824502545603]"
      ]
     },
     "execution_count": 52,
     "metadata": {},
     "output_type": "execute_result"
    }
   ],
   "source": [
    "W"
   ]
  },
  {
   "cell_type": "code",
   "execution_count": 53,
   "id": "a707dfe2",
   "metadata": {},
   "outputs": [
    {
     "data": {
      "text/plain": [
       "[233.6796032870343,\n",
       " 208.764613210696,\n",
       " 186.71116746476437,\n",
       " 167.1906109052026,\n",
       " 149.91203520970043,\n",
       " 134.61794356579375,\n",
       " 121.08041327982228,\n",
       " 109.09769911933726,\n",
       " 98.491226769679,\n",
       " 89.10293159918733,\n",
       " 80.79290307353122,\n",
       " 73.43729971463162,\n",
       " 66.92650353149068,\n",
       " 61.163486419011726,\n",
       " 56.0623641797835,\n",
       " 51.54711661988798,\n",
       " 47.55045464473565,\n",
       " 44.012817471627756,\n",
       " 40.88148501483073,\n",
       " 38.10979221532732,\n",
       " 35.656433606656584,\n",
       " 33.48484775301442,\n",
       " 31.56267238609617,\n",
       " 29.86126212076333,\n",
       " 28.355261562208433,\n",
       " 27.02222744277297,\n",
       " 25.84229415724687,\n",
       " 24.797877712230964,\n",
       " 23.87341367761644,\n",
       " 23.05512523495749,\n",
       " 22.3308178660378,\n",
       " 21.68969762194144,\n",
       " 21.122210264351395,\n",
       " 20.619898881851007,\n",
       " 20.17527785933036,\n",
       " 19.781721322304925,\n",
       " 19.433364393668377,\n",
       " 19.12501579134128,\n",
       " 18.85208046428678,\n",
       " 18.610491113963196,\n",
       " 18.39664758069993,\n",
       " 18.207363191691673,\n",
       " 18.03981727105259,\n",
       " 17.89151310420322,\n",
       " 17.760240730147128,\n",
       " 17.644044007142718,\n",
       " 17.541191460960597,\n",
       " 17.45015048128772,\n",
       " 17.36956448173553,\n",
       " 17.298232683075337]"
      ]
     },
     "execution_count": 53,
     "metadata": {},
     "output_type": "execute_result"
    }
   ],
   "source": [
    "errors"
   ]
  },
  {
   "cell_type": "markdown",
   "id": "378735d3",
   "metadata": {},
   "source": [
    "### (f) Tracer l'évolution de l'erreur MSE après chaque itération"
   ]
  },
  {
   "cell_type": "code",
   "execution_count": 54,
   "id": "d73a12f9",
   "metadata": {},
   "outputs": [
    {
     "data": {
      "image/png": "[encoded data removed]",
      "text/plain": [
       "<Figure size 640x480 with 1 Axes>"
      ]
     },
     "metadata": {},
     "output_type": "display_data"
    }
   ],
   "source": [
    "plt.plot(errors)\n",
    "plt.xlabel('Iterations')\n",
    "plt.ylabel('MSE')\n",
    "plt.title('Évolution de l\\'erreur MSE')\n",
    "plt.show()"
   ]
  },
  {
   "cell_type": "markdown",
   "id": "a4552d72",
   "metadata": {},
   "source": [
    "### (g) Donner l’erreur de ce modèle"
   ]
  },
  {
   "cell_type": "code",
   "execution_count": 55,
   "id": "25c98dd3",
   "metadata": {},
   "outputs": [
    {
     "name": "stdout",
     "output_type": "stream",
     "text": [
      "Erreur sur l'ensemble de test (MSE) : 21.028218759138923\n"
     ]
    }
   ],
   "source": [
    "test_error = MSE(X_test, y_test,W[0], W[1])\n",
    "print(f'Erreur sur l\\'ensemble de test (MSE) : {test_error}')"
   ]
  },
  {
   "cell_type": "code",
   "execution_count": 56,
   "id": "34c543a2",
   "metadata": {},
   "outputs": [
    {
     "data": {
      "text/plain": [
       "[0.000607296363806343, 0.08669824502545603]"
      ]
     },
     "execution_count": 56,
     "metadata": {},
     "output_type": "execute_result"
    }
   ],
   "source": [
    "W"
   ]
  },
  {
   "cell_type": "markdown",
   "id": "04364726",
   "metadata": {},
   "source": [
    "# ---------------------Régression Linéaire---------------------"
   ]
  },
  {
   "cell_type": "code",
   "execution_count": 745,
   "id": "a8a1b9dc",
   "metadata": {},
   "outputs": [
    {
     "name": "stderr",
     "output_type": "stream",
     "text": [
      "C:\\Users\\ayoub\\anaconda3\\Lib\\site-packages\\sklearn\\base.py:464: UserWarning: X does not have valid feature names, but LinearRegression was fitted with feature names\n",
      "  warnings.warn(\n"
     ]
    },
    {
     "name": "stdout",
     "output_type": "stream",
     "text": [
      "mse: 5.2177438977951285 calculated mse: 5.2177438977951285\n",
      "mae: 1.8305872641932417 calculated mae: 1.8305872641932417\n",
      "accuracy : 81.22% \n"
     ]
    },
    {
     "data": {
      "image/png": "[encoded data removed]",
      "text/plain": [
       "<Figure size 640x480 with 1 Axes>"
      ]
     },
     "metadata": {},
     "output_type": "display_data"
    }
   ],
   "source": [
    "from sklearn.linear_model import LinearRegression\n",
    "import pandas as pd\n",
    "import matplotlib.pyplot as plt\n",
    "from sklearn import metrics \n",
    "import numpy as np\n",
    "\n",
    "\n",
    "#Data collection\n",
    "data = pd.read_csv(\"data/Advertising.csv\")\n",
    "\n",
    "#Data initialization\n",
    "X=data[['TV']]\n",
    "y=data[['Sales']]\n",
    "\n",
    "#Creating Model\n",
    "h=LinearRegression()\n",
    "h.fit(X,y)\n",
    "\n",
    "#Plotting Inputs and real y\n",
    "plt.plot(X,y,'ro')\n",
    "\n",
    "#Plotting the Model\n",
    "min = X.min().values[0] \n",
    "max = X.max().values[0] \n",
    "plt.plot([[min],[max]],h.predict([[min],[max]]))\n",
    "\n",
    "#Mean Squared Error & Mean Absolute Error\n",
    "y_predicted=h.predict(X)\n",
    "y_real=y\n",
    "mean_squared_error=metrics.mean_squared_error(y_predicted,y_real)\n",
    "mean_absolute_error=metrics.mean_absolute_error(y_predicted,y_real)\n",
    "\n",
    "#MSE & MAE from Scratch\n",
    "calculatedmse=(1/X.size)*np.sum(np.square(y_predicted-y_real))\n",
    "calculatedmae=np.sum(np.abs(y_predicted-y_real))/X.size\n",
    "\n",
    "#Accuracy\n",
    "accuracy=h.score(X,y)\n",
    "\n",
    "#Printing MSE , MAE and accuracy \n",
    "print(\"mse: {} calculated mse: {}\".format(mean_squared_error,np.float64(calculatedmse)))\n",
    "print(\"mae: {} calculated mae: {}\".format(mean_absolute_error,np.float64(calculatedmae)))\n",
    "print(\"accuracy : {:.2f}% \".format(accuracy*100))\n",
    "\n",
    "#showing the plot\n",
    "plt.show()"
   ]
  },
  {
   "cell_type": "markdown",
   "id": "2595672a",
   "metadata": {},
   "source": [
    "# ---------------------Gradient Descent---------------------"
   ]
  },
  {
   "cell_type": "code",
   "execution_count": 746,
   "id": "d2361dff",
   "metadata": {},
   "outputs": [
    {
     "name": "stdout",
     "output_type": "stream",
     "text": [
      "iteration: 0, mse: 256.71195\n",
      "iteration: 1, mse: 229.81170003329458\n",
      "iteration: 2, mse: 205.9369594941359\n",
      "iteration: 3, mse: 184.74744487010827\n",
      "iteration: 4, mse: 165.9411448378589\n",
      "iteration: 5, mse: 149.25001573348575\n",
      "iteration: 6, mse: 134.4361611597267\n",
      "iteration: 7, mse: 121.28844127836874\n",
      "iteration: 8, mse: 109.6194634605461\n",
      "iteration: 9, mse: 99.26291140304296\n",
      "iteration: 10, mse: 90.0711746428286\n",
      "iteration: 11, mse: 81.91324468359316\n",
      "iteration: 12, mse: 74.67284774803795\n",
      "iteration: 13, mse: 68.24678754227295\n",
      "iteration: 14, mse: 62.54347441194903\n",
      "iteration: 15, mse: 57.48161992637191\n",
      "iteration: 16, mse: 52.989078284668224\n",
      "iteration: 17, mse: 49.00181803071047\n",
      "iteration: 18, mse: 45.463009420782996\n",
      "iteration: 19, mse: 42.322214436353725\n",
      "iteration: 20, mse: 39.53466789730556\n",
      "iteration: 21, mse: 37.060639429424036\n",
      "iteration: 22, mse: 34.86486719234363\n",
      "iteration: 23, mse: 32.916055296948116\n",
      "iteration: 24, mse: 31.18642774897785\n",
      "iteration: 25, mse: 29.65133256125827\n",
      "iteration: 26, mse: 28.28889039201049\n",
      "iteration: 27, mse: 27.079682701329855\n",
      "iteration: 28, mse: 26.006474981165866\n",
      "iteration: 29, mse: 25.05397111403484\n",
      "iteration: 30, mse: 24.208595359370875\n",
      "iteration: 31, mse: 23.458298860193853\n",
      "iteration: 32, mse: 22.792387912258036\n",
      "iteration: 33, mse: 22.20137154802327\n",
      "iteration: 34, mse: 21.67682626308185\n",
      "iteration: 35, mse: 21.211275957003917\n",
      "iteration: 36, mse: 20.798085377413283\n",
      "iteration: 37, mse: 20.43136554856531\n",
      "iteration: 38, mse: 20.105889836512304\n",
      "iteration: 39, mse: 19.81701945454369\n",
      "iteration: 40, mse: 19.560637347139302\n",
      "iteration: 41, mse: 19.33308951009207\n",
      "iteration: 42, mse: 19.131132910443146\n",
      "iteration: 43, mse: 18.951889263938853\n",
      "iteration: 44, mse: 18.792804011205234\n",
      "iteration: 45, mse: 18.65160990793288\n",
      "iteration: 46, mse: 18.526294710127406\n",
      "iteration: 47, mse: 18.415072493847493\n",
      "iteration: 48, mse: 18.316358200654403\n",
      "iteration: 49, mse: 18.2287450459723\n"
     ]
    },
    {
     "data": {
      "image/png": "[encoded data removed]",
      "text/plain": [
       "<Figure size 1050x1050 with 2 Axes>"
      ]
     },
     "metadata": {},
     "output_type": "display_data"
    }
   ],
   "source": [
    "import numpy as np\n",
    "import matplotlib.pyplot as plt\n",
    "import pandas as pd\n",
    "\n",
    "\n",
    "# X=np.array([1,2,3,4])\n",
    "# y_real=np.array([1,2,3,4])\n",
    "\n",
    "#Data collection\n",
    "data = pd.read_csv(\"data/Advertising.csv\")\n",
    "\n",
    "#Data initialization\n",
    "X=np.array(data['TV'])\n",
    "y_real=np.array(data['Sales'])\n",
    "\n",
    "#X=np.array([230.1,44.5,17.2,151.5,180.8,8.7,57.5,120.2,8.6,199.8])\n",
    "#y_real=np.array([22.1,10.4,9.3,18.5,12.9,7.2,11.8,13.2,4.8,10.6])\n",
    "\n",
    "\n",
    "def findW(X):\n",
    "    n_iterations=50\n",
    "    w0=0\n",
    "    w1=0 #initialization\n",
    "    learning_rate=0.000001\n",
    "    list_w1=[]\n",
    "    list_w0=[]\n",
    "    list_mse=[]\n",
    "    for i in range(n_iterations):\n",
    "        y_predicted=w1*X+w0\n",
    "        mean_squared_error=(1/X.size)*np.sum(np.square(y_predicted-y_real))\n",
    "        print(\"iteration: {}, mse: {}\".format(i,mean_squared_error))\n",
    "        list_w1.append(w1)\n",
    "        list_w0.append(w0)\n",
    "        list_mse.append(mean_squared_error)\n",
    "        dw1=-(2/X.size)*sum(X*(y_real-y_predicted))\n",
    "        dw0=-(2/X.size)*sum(y_real-y_predicted)\n",
    "        w1=w1-learning_rate*dw1\n",
    "        w0=w0-learning_rate*dw0\n",
    "    return list_w0,list_w1,list_mse\n",
    "        \n",
    "list_w0,list_w1,liste_mse=findW(X)\n",
    "fig = plt.figure(facecolor='white')\n",
    "fig.suptitle('Gradient Descent', fontsize=11)\n",
    "fig.subplots_adjust(top=0.9,hspace=0.4,wspace=0.4)\n",
    "\n",
    "fig.set_size_inches(10.5, 10.5, forward=True)\n",
    "ax =fig.add_subplot(1, 2, 1)\n",
    "\n",
    "plt.plot(list_w0,liste_mse)\n",
    "plt.plot(list_w0,liste_mse,\"ro\")\n",
    "plt.xlabel(\"W0\")\n",
    "plt.ylabel(\"MSE\")\n",
    "plt.title('MSe Decreasing in function of W0')\n",
    "\n",
    "ax1=fig.add_subplot(1, 2, 2)\n",
    "plt.plot(list_w1,liste_mse)\n",
    "plt.plot(list_w1,liste_mse,\"ro\")\n",
    "plt.xlabel(\"W1\")\n",
    "plt.ylabel(\"MSE\")\n",
    "plt.title('MSe Decreasing in function of W1')\n",
    "\n",
    "plt.show()"
   ]
  },
  {
   "cell_type": "markdown",
   "id": "1d0e412c",
   "metadata": {},
   "source": [
    "# Partie 2 : Régression linéaire multiple"
   ]
  },
  {
   "cell_type": "markdown",
   "id": "39b526dc",
   "metadata": {},
   "source": [
    "Soit le modèle de régression linéaire multiple définit par :      y = w0 + ∑︁ wi xi"
   ]
  },
  {
   "cell_type": "markdown",
   "id": "753cd124",
   "metadata": {},
   "source": [
    "## 1. Adapter les étapes de la partie précédente pour estimer les paramètres de modèle de régression multiple"
   ]
  },
  {
   "cell_type": "markdown",
   "id": "e548a224",
   "metadata": {},
   "source": [
    "### Récupérer des données à partir de fichier advertising.scv et découvrir ses principales caractéristiques."
   ]
  },
  {
   "cell_type": "code",
   "execution_count": 63,
   "id": "440e59fc",
   "metadata": {},
   "outputs": [],
   "source": [
    "import pandas as pd"
   ]
  },
  {
   "cell_type": "code",
   "execution_count": 64,
   "id": "88fbf859",
   "metadata": {},
   "outputs": [],
   "source": [
    "data = pd.read_csv(\"data/advertising.csv\")"
   ]
  },
  {
   "cell_type": "code",
   "execution_count": 65,
   "id": "9dedc5fe",
   "metadata": {},
   "outputs": [
    {
     "data": {
      "text/html": [
       "<div>\n",
       "<style scoped>\n",
       "    .dataframe tbody tr th:only-of-type {\n",
       "        vertical-align: middle;\n",
       "    }\n",
       "\n",
       "    .dataframe tbody tr th {\n",
       "        vertical-align: top;\n",
       "    }\n",
       "\n",
       "    .dataframe thead th {\n",
       "        text-align: right;\n",
       "    }\n",
       "</style>\n",
       "<table border=\"1\" class=\"dataframe\">\n",
       "  <thead>\n",
       "    <tr style=\"text-align: right;\">\n",
       "      <th></th>\n",
       "      <th>TV</th>\n",
       "      <th>Radio</th>\n",
       "      <th>Newspaper</th>\n",
       "      <th>Sales</th>\n",
       "    </tr>\n",
       "  </thead>\n",
       "  <tbody>\n",
       "    <tr>\n",
       "      <th>0</th>\n",
       "      <td>230.1</td>\n",
       "      <td>37.8</td>\n",
       "      <td>69.2</td>\n",
       "      <td>22.1</td>\n",
       "    </tr>\n",
       "    <tr>\n",
       "      <th>1</th>\n",
       "      <td>44.5</td>\n",
       "      <td>39.3</td>\n",
       "      <td>45.1</td>\n",
       "      <td>10.4</td>\n",
       "    </tr>\n",
       "    <tr>\n",
       "      <th>2</th>\n",
       "      <td>17.2</td>\n",
       "      <td>45.9</td>\n",
       "      <td>69.3</td>\n",
       "      <td>12.0</td>\n",
       "    </tr>\n",
       "    <tr>\n",
       "      <th>3</th>\n",
       "      <td>151.5</td>\n",
       "      <td>41.3</td>\n",
       "      <td>58.5</td>\n",
       "      <td>16.5</td>\n",
       "    </tr>\n",
       "    <tr>\n",
       "      <th>4</th>\n",
       "      <td>180.8</td>\n",
       "      <td>10.8</td>\n",
       "      <td>58.4</td>\n",
       "      <td>17.9</td>\n",
       "    </tr>\n",
       "  </tbody>\n",
       "</table>\n",
       "</div>"
      ],
      "text/plain": [
       "      TV  Radio  Newspaper  Sales\n",
       "0  230.1   37.8       69.2   22.1\n",
       "1   44.5   39.3       45.1   10.4\n",
       "2   17.2   45.9       69.3   12.0\n",
       "3  151.5   41.3       58.5   16.5\n",
       "4  180.8   10.8       58.4   17.9"
      ]
     },
     "execution_count": 65,
     "metadata": {},
     "output_type": "execute_result"
    }
   ],
   "source": [
    "data.head()"
   ]
  },
  {
   "cell_type": "markdown",
   "id": "b6d66f4f",
   "metadata": {},
   "source": [
    "### Initialiser X (predictors, variable indépendante) par la variable TV et y (cible, variable dépendante)."
   ]
  },
  {
   "cell_type": "code",
   "execution_count": 66,
   "id": "61eacb18",
   "metadata": {},
   "outputs": [],
   "source": [
    "X = data[['TV', 'Radio', 'Newspaper']].values\n",
    "y = data['Sales'].values"
   ]
  },
  {
   "cell_type": "code",
   "execution_count": 67,
   "id": "b1a4ce6e",
   "metadata": {},
   "outputs": [
    {
     "data": {
      "text/plain": [
       "array([[230.1,  37.8,  69.2],\n",
       "       [ 44.5,  39.3,  45.1],\n",
       "       [ 17.2,  45.9,  69.3],\n",
       "       [151.5,  41.3,  58.5],\n",
       "       [180.8,  10.8,  58.4],\n",
       "       [  8.7,  48.9,  75. ],\n",
       "       [ 57.5,  32.8,  23.5],\n",
       "       [120.2,  19.6,  11.6],\n",
       "       [  8.6,   2.1,   1. ],\n",
       "       [199.8,   2.6,  21.2],\n",
       "       [ 66.1,   5.8,  24.2],\n",
       "       [214.7,  24. ,   4. ],\n",
       "       [ 23.8,  35.1,  65.9],\n",
       "       [ 97.5,   7.6,   7.2],\n",
       "       [204.1,  32.9,  46. ],\n",
       "       [195.4,  47.7,  52.9],\n",
       "       [ 67.8,  36.6, 114. ],\n",
       "       [281.4,  39.6,  55.8],\n",
       "       [ 69.2,  20.5,  18.3],\n",
       "       [147.3,  23.9,  19.1],\n",
       "       [218.4,  27.7,  53.4],\n",
       "       [237.4,   5.1,  23.5],\n",
       "       [ 13.2,  15.9,  49.6],\n",
       "       [228.3,  16.9,  26.2],\n",
       "       [ 62.3,  12.6,  18.3],\n",
       "       [262.9,   3.5,  19.5],\n",
       "       [142.9,  29.3,  12.6],\n",
       "       [240.1,  16.7,  22.9],\n",
       "       [248.8,  27.1,  22.9],\n",
       "       [ 70.6,  16. ,  40.8],\n",
       "       [292.9,  28.3,  43.2],\n",
       "       [112.9,  17.4,  38.6],\n",
       "       [ 97.2,   1.5,  30. ],\n",
       "       [265.6,  20. ,   0.3],\n",
       "       [ 95.7,   1.4,   7.4],\n",
       "       [290.7,   4.1,   8.5],\n",
       "       [266.9,  43.8,   5. ],\n",
       "       [ 74.7,  49.4,  45.7],\n",
       "       [ 43.1,  26.7,  35.1],\n",
       "       [228. ,  37.7,  32. ],\n",
       "       [202.5,  22.3,  31.6],\n",
       "       [177. ,  33.4,  38.7],\n",
       "       [293.6,  27.7,   1.8],\n",
       "       [206.9,   8.4,  26.4],\n",
       "       [ 25.1,  25.7,  43.3],\n",
       "       [175.1,  22.5,  31.5],\n",
       "       [ 89.7,   9.9,  35.7],\n",
       "       [239.9,  41.5,  18.5],\n",
       "       [227.2,  15.8,  49.9],\n",
       "       [ 66.9,  11.7,  36.8],\n",
       "       [199.8,   3.1,  34.6],\n",
       "       [100.4,   9.6,   3.6],\n",
       "       [216.4,  41.7,  39.6],\n",
       "       [182.6,  46.2,  58.7],\n",
       "       [262.7,  28.8,  15.9],\n",
       "       [198.9,  49.4,  60. ],\n",
       "       [  7.3,  28.1,  41.4],\n",
       "       [136.2,  19.2,  16.6],\n",
       "       [210.8,  49.6,  37.7],\n",
       "       [210.7,  29.5,   9.3],\n",
       "       [ 53.5,   2. ,  21.4],\n",
       "       [261.3,  42.7,  54.7],\n",
       "       [239.3,  15.5,  27.3],\n",
       "       [102.7,  29.6,   8.4],\n",
       "       [131.1,  42.8,  28.9],\n",
       "       [ 69. ,   9.3,   0.9],\n",
       "       [ 31.5,  24.6,   2.2],\n",
       "       [139.3,  14.5,  10.2],\n",
       "       [237.4,  27.5,  11. ],\n",
       "       [216.8,  43.9,  27.2],\n",
       "       [199.1,  30.6,  38.7],\n",
       "       [109.8,  14.3,  31.7],\n",
       "       [ 26.8,  33. ,  19.3],\n",
       "       [129.4,   5.7,  31.3],\n",
       "       [213.4,  24.6,  13.1],\n",
       "       [ 16.9,  43.7,  89.4],\n",
       "       [ 27.5,   1.6,  20.7],\n",
       "       [120.5,  28.5,  14.2],\n",
       "       [  5.4,  29.9,   9.4],\n",
       "       [116. ,   7.7,  23.1],\n",
       "       [ 76.4,  26.7,  22.3],\n",
       "       [239.8,   4.1,  36.9],\n",
       "       [ 75.3,  20.3,  32.5],\n",
       "       [ 68.4,  44.5,  35.6],\n",
       "       [213.5,  43. ,  33.8],\n",
       "       [193.2,  18.4,  65.7],\n",
       "       [ 76.3,  27.5,  16. ],\n",
       "       [110.7,  40.6,  63.2],\n",
       "       [ 88.3,  25.5,  73.4],\n",
       "       [109.8,  47.8,  51.4],\n",
       "       [134.3,   4.9,   9.3],\n",
       "       [ 28.6,   1.5,  33. ],\n",
       "       [217.7,  33.5,  59. ],\n",
       "       [250.9,  36.5,  72.3],\n",
       "       [107.4,  14. ,  10.9],\n",
       "       [163.3,  31.6,  52.9],\n",
       "       [197.6,   3.5,   5.9],\n",
       "       [184.9,  21. ,  22. ],\n",
       "       [289.7,  42.3,  51.2],\n",
       "       [135.2,  41.7,  45.9],\n",
       "       [222.4,   4.3,  49.8],\n",
       "       [296.4,  36.3, 100.9],\n",
       "       [280.2,  10.1,  21.4],\n",
       "       [187.9,  17.2,  17.9],\n",
       "       [238.2,  34.3,   5.3],\n",
       "       [137.9,  46.4,  59. ],\n",
       "       [ 25. ,  11. ,  29.7],\n",
       "       [ 90.4,   0.3,  23.2],\n",
       "       [ 13.1,   0.4,  25.6],\n",
       "       [255.4,  26.9,   5.5],\n",
       "       [225.8,   8.2,  56.5],\n",
       "       [241.7,  38. ,  23.2],\n",
       "       [175.7,  15.4,   2.4],\n",
       "       [209.6,  20.6,  10.7],\n",
       "       [ 78.2,  46.8,  34.5],\n",
       "       [ 75.1,  35. ,  52.7],\n",
       "       [139.2,  14.3,  25.6],\n",
       "       [ 76.4,   0.8,  14.8],\n",
       "       [125.7,  36.9,  79.2],\n",
       "       [ 19.4,  16. ,  22.3],\n",
       "       [141.3,  26.8,  46.2],\n",
       "       [ 18.8,  21.7,  50.4],\n",
       "       [224. ,   2.4,  15.6],\n",
       "       [123.1,  34.6,  12.4],\n",
       "       [229.5,  32.3,  74.2],\n",
       "       [ 87.2,  11.8,  25.9],\n",
       "       [  7.8,  38.9,  50.6],\n",
       "       [ 80.2,   0. ,   9.2],\n",
       "       [220.3,  49. ,   3.2],\n",
       "       [ 59.6,  12. ,  43.1],\n",
       "       [  0.7,  39.6,   8.7],\n",
       "       [265.2,   2.9,  43. ],\n",
       "       [  8.4,  27.2,   2.1],\n",
       "       [219.8,  33.5,  45.1],\n",
       "       [ 36.9,  38.6,  65.6],\n",
       "       [ 48.3,  47. ,   8.5],\n",
       "       [ 25.6,  39. ,   9.3],\n",
       "       [273.7,  28.9,  59.7],\n",
       "       [ 43. ,  25.9,  20.5],\n",
       "       [184.9,  43.9,   1.7],\n",
       "       [ 73.4,  17. ,  12.9],\n",
       "       [193.7,  35.4,  75.6],\n",
       "       [220.5,  33.2,  37.9],\n",
       "       [104.6,   5.7,  34.4],\n",
       "       [ 96.2,  14.8,  38.9],\n",
       "       [140.3,   1.9,   9. ],\n",
       "       [240.1,   7.3,   8.7],\n",
       "       [243.2,  49. ,  44.3],\n",
       "       [ 38. ,  40.3,  11.9],\n",
       "       [ 44.7,  25.8,  20.6],\n",
       "       [280.7,  13.9,  37. ],\n",
       "       [121. ,   8.4,  48.7],\n",
       "       [197.6,  23.3,  14.2],\n",
       "       [171.3,  39.7,  37.7],\n",
       "       [187.8,  21.1,   9.5],\n",
       "       [  4.1,  11.6,   5.7],\n",
       "       [ 93.9,  43.5,  50.5],\n",
       "       [149.8,   1.3,  24.3],\n",
       "       [ 11.7,  36.9,  45.2],\n",
       "       [131.7,  18.4,  34.6],\n",
       "       [172.5,  18.1,  30.7],\n",
       "       [ 85.7,  35.8,  49.3],\n",
       "       [188.4,  18.1,  25.6],\n",
       "       [163.5,  36.8,   7.4],\n",
       "       [117.2,  14.7,   5.4],\n",
       "       [234.5,   3.4,  84.8],\n",
       "       [ 17.9,  37.6,  21.6],\n",
       "       [206.8,   5.2,  19.4],\n",
       "       [215.4,  23.6,  57.6],\n",
       "       [284.3,  10.6,   6.4],\n",
       "       [ 50. ,  11.6,  18.4],\n",
       "       [164.5,  20.9,  47.4],\n",
       "       [ 19.6,  20.1,  17. ],\n",
       "       [168.4,   7.1,  12.8],\n",
       "       [222.4,   3.4,  13.1],\n",
       "       [276.9,  48.9,  41.8],\n",
       "       [248.4,  30.2,  20.3],\n",
       "       [170.2,   7.8,  35.2],\n",
       "       [276.7,   2.3,  23.7],\n",
       "       [165.6,  10. ,  17.6],\n",
       "       [156.6,   2.6,   8.3],\n",
       "       [218.5,   5.4,  27.4],\n",
       "       [ 56.2,   5.7,  29.7],\n",
       "       [287.6,  43. ,  71.8],\n",
       "       [253.8,  21.3,  30. ],\n",
       "       [205. ,  45.1,  19.6],\n",
       "       [139.5,   2.1,  26.6],\n",
       "       [191.1,  28.7,  18.2],\n",
       "       [286. ,  13.9,   3.7],\n",
       "       [ 18.7,  12.1,  23.4],\n",
       "       [ 39.5,  41.1,   5.8],\n",
       "       [ 75.5,  10.8,   6. ],\n",
       "       [ 17.2,   4.1,  31.6],\n",
       "       [166.8,  42. ,   3.6],\n",
       "       [149.7,  35.6,   6. ],\n",
       "       [ 38.2,   3.7,  13.8],\n",
       "       [ 94.2,   4.9,   8.1],\n",
       "       [177. ,   9.3,   6.4],\n",
       "       [283.6,  42. ,  66.2],\n",
       "       [232.1,   8.6,   8.7]])"
      ]
     },
     "execution_count": 67,
     "metadata": {},
     "output_type": "execute_result"
    }
   ],
   "source": [
    "X"
   ]
  },
  {
   "cell_type": "code",
   "execution_count": 68,
   "id": "5c4c779a",
   "metadata": {},
   "outputs": [
    {
     "data": {
      "text/plain": [
       "array([22.1, 10.4, 12. , 16.5, 17.9,  7.2, 11.8, 13.2,  4.8, 15.6, 12.6,\n",
       "       17.4,  9.2, 13.7, 19. , 22.4, 12.5, 24.4, 11.3, 14.6, 18. , 17.5,\n",
       "        5.6, 20.5,  9.7, 17. , 15. , 20.9, 18.9, 10.5, 21.4, 11.9, 13.2,\n",
       "       17.4, 11.9, 17.8, 25.4, 14.7, 10.1, 21.5, 16.6, 17.1, 20.7, 17.9,\n",
       "        8.5, 16.1, 10.6, 23.2, 19.8,  9.7, 16.4, 10.7, 22.6, 21.2, 20.2,\n",
       "       23.7,  5.5, 13.2, 23.8, 18.4,  8.1, 24.2, 20.7, 14. , 16. , 11.3,\n",
       "       11. , 13.4, 18.9, 22.3, 18.3, 12.4,  8.8, 11. , 17. ,  8.7,  6.9,\n",
       "       14.2,  5.3, 11. , 11.8, 17.3, 11.3, 13.6, 21.7, 20.2, 12. , 16. ,\n",
       "       12.9, 16.7, 14. ,  7.3, 19.4, 22.2, 11.5, 16.9, 16.7, 20.5, 25.4,\n",
       "       17.2, 16.7, 23.8, 19.8, 19.7, 20.7, 15. ,  7.2, 12. ,  5.3, 19.8,\n",
       "       18.4, 21.8, 17.1, 20.9, 14.6, 12.6, 12.2,  9.4, 15.9,  6.6, 15.5,\n",
       "        7. , 16.6, 15.2, 19.7, 10.6,  6.6, 11.9, 24.7,  9.7,  1.6, 17.7,\n",
       "        5.7, 19.6, 10.8, 11.6,  9.5, 20.8,  9.6, 20.7, 10.9, 19.2, 20.1,\n",
       "       10.4, 12.3, 10.3, 18.2, 25.4, 10.9, 10.1, 16.1, 11.6, 16.6, 16. ,\n",
       "       20.6,  3.2, 15.3, 10.1,  7.3, 12.9, 16.4, 13.3, 19.9, 18. , 11.9,\n",
       "       16.9,  8. , 17.2, 17.1, 20. ,  8.4, 17.5,  7.6, 16.7, 16.5, 27. ,\n",
       "       20.2, 16.7, 16.8, 17.6, 15.5, 17.2,  8.7, 26.2, 17.6, 22.6, 10.3,\n",
       "       17.3, 20.9,  6.7, 10.8, 11.9,  5.9, 19.6, 17.3,  7.6, 14. , 14.8,\n",
       "       25.5, 18.4])"
      ]
     },
     "execution_count": 68,
     "metadata": {},
     "output_type": "execute_result"
    }
   ],
   "source": [
    "y"
   ]
  },
  {
   "cell_type": "markdown",
   "id": "510424bd",
   "metadata": {},
   "source": [
    "### Visualiser la base de données avec matplotlib."
   ]
  },
  {
   "cell_type": "code",
   "execution_count": 69,
   "id": "5c64f4ce",
   "metadata": {},
   "outputs": [
    {
     "data": {
      "image/png": "[encoded data removed]",
      "text/plain": [
       "<Figure size 640x480 with 1 Axes>"
      ]
     },
     "metadata": {},
     "output_type": "display_data"
    }
   ],
   "source": [
    "import matplotlib.pyplot as plt\n",
    "\n",
    "plt.plot(X,y,\"b*\")\n",
    "plt.show()"
   ]
  },
  {
   "cell_type": "markdown",
   "id": "55441155",
   "metadata": {},
   "source": [
    "### Diviser la base de données en base d’apprentissage et base de test"
   ]
  },
  {
   "cell_type": "markdown",
   "id": "43829fff",
   "metadata": {},
   "source": [
    "80% pour la base d’apprentissage et 20% pour la base de test"
   ]
  },
  {
   "cell_type": "code",
   "execution_count": 70,
   "id": "2bdacc62",
   "metadata": {},
   "outputs": [],
   "source": [
    "from sklearn.model_selection import train_test_split\n",
    "\n",
    "# Split the data into training and testing sets\n",
    "X_train, X_test, y_train, y_test = train_test_split(X, y, test_size=0.2, random_state=42)"
   ]
  },
  {
   "cell_type": "markdown",
   "id": "c2c6ff70",
   "metadata": {},
   "source": [
    "### Définir une fonction MSE(X,y,W) qui retourne la moyenne des erreurs entre la valeur théorique et la valeur réelle."
   ]
  },
  {
   "cell_type": "code",
   "execution_count": 71,
   "id": "a0bb56ba",
   "metadata": {},
   "outputs": [],
   "source": [
    "def y_pred_M(X, W):\n",
    "    return np.dot(X, W)   # W[0] + W[1] * X['TV'] + W[2] * X['Radio'] + W[3] * X['Newspaper']"
   ]
  },
  {
   "cell_type": "code",
   "execution_count": 72,
   "id": "95e0481e",
   "metadata": {},
   "outputs": [],
   "source": [
    "def MSE_M(X, y, W):\n",
    "    y_pred = np.dot(X, W)\n",
    "    return np.mean((y - y_pred) ** 2, axis=0) "
   ]
  },
  {
   "cell_type": "markdown",
   "id": "6ea1f30f",
   "metadata": {},
   "source": [
    "### Définir la fonction Gradient(X,y,W)"
   ]
  },
  {
   "cell_type": "code",
   "execution_count": 73,
   "id": "2b952158",
   "metadata": {},
   "outputs": [],
   "source": [
    "def Gradient_M(X, y, W):\n",
    "    y_pred = np.dot(X, W)\n",
    "    grad = -2 * np.dot(X.T, (y - y_pred)) / len(y)\n",
    "    return grad"
   ]
  },
  {
   "cell_type": "code",
   "execution_count": 118,
   "id": "66437eb0",
   "metadata": {},
   "outputs": [],
   "source": [
    "def Gradient_M1(X, y, W):\n",
    "    y_pred = np.dot(X, W)\n",
    "    grad = -2 * np.mean(X.T * (y - y_pred), axis=1)\n",
    "    return grad"
   ]
  },
  {
   "cell_type": "markdown",
   "id": "7f38514f",
   "metadata": {},
   "source": [
    "### Etablir une fonction de mise à jour des paramètres W MiseJour(grad,W,alpha)"
   ]
  },
  {
   "cell_type": "code",
   "execution_count": 119,
   "id": "7106045f",
   "metadata": {},
   "outputs": [],
   "source": [
    "def MiseJour_M(grad, W, alpha):\n",
    "    return W - alpha * grad"
   ]
  },
  {
   "cell_type": "markdown",
   "id": "bddc0b0c",
   "metadata": {},
   "source": [
    "### Ecrire la fonction Batch Gradient Descent(X,y,W,N max,alpha,eps), qui retourne les meilleurs paramètres estimés et de plus affiche l’évolution de MSE après chaque itération"
   ]
  },
  {
   "cell_type": "code",
   "execution_count": 120,
   "id": "b5e79aa2",
   "metadata": {},
   "outputs": [],
   "source": [
    "def Batch_Gradient_Descent_M(X, y, W, N_max, alpha, eps):\n",
    "    errors = []\n",
    "    for _ in range(N_max):\n",
    "        grad = Gradient_M1(X, y, W)\n",
    "#         print(\"grad :\", grad)\n",
    "        W = MiseJour_M(grad, W, alpha)\n",
    "        error = MSE_M(X, y, W)\n",
    "#         print(\"error :\", error)\n",
    "        errors.append(error)\n",
    "        if error < eps:\n",
    "            break\n",
    "    return W, errors"
   ]
  },
  {
   "cell_type": "code",
   "execution_count": 121,
   "id": "65e2a22b",
   "metadata": {},
   "outputs": [],
   "source": [
    "# Initialisation des paramètres et appel de la descente de gradient\n",
    "initial_W = np.zeros(3)  # 3 pour le nombre de caractéristiques (TV, Radio, Newspaper)\n",
    "alpha = 0.000001\n",
    "N_max = 50\n",
    "eps = 0.000001\n",
    "\n",
    "W, errors = Batch_Gradient_Descent_M(X_train, y_train, initial_W, N_max, alpha, eps)"
   ]
  },
  {
   "cell_type": "code",
   "execution_count": 122,
   "id": "e71d1410",
   "metadata": {},
   "outputs": [
    {
     "data": {
      "text/plain": [
       "array([0.08307651, 0.01503135, 0.01796997])"
      ]
     },
     "execution_count": 122,
     "metadata": {},
     "output_type": "execute_result"
    }
   ],
   "source": [
    "W"
   ]
  },
  {
   "cell_type": "code",
   "execution_count": 123,
   "id": "4f9b5fca",
   "metadata": {},
   "outputs": [
    {
     "data": {
      "text/plain": [
       "[232.2897747874381,\n",
       " 206.26804797150834,\n",
       " 183.34347384436336,\n",
       " 163.1471512497639,\n",
       " 145.3541195362817,\n",
       " 129.67812471953945,\n",
       " 115.86700905690559,\n",
       " 103.69864977879138,\n",
       " 92.97738156545377,\n",
       " 83.53084514944877,\n",
       " 75.20721128709162,\n",
       " 67.87273538800156,\n",
       " 61.40960341741216,\n",
       " 55.7140343771895,\n",
       " 50.694608803976095,\n",
       " 46.27079636312722,\n",
       " 42.37165882375768,\n",
       " 38.934707524918764,\n",
       " 35.90489693117036,\n",
       " 33.23373806767941,\n",
       " 30.878517555764187,\n",
       " 28.801609670612983,\n",
       " 26.969870341127354,\n",
       " 25.354103331606392,\n",
       " 23.928590007554384,\n",
       " 22.670675111985055,\n",
       " 21.560401880704593,\n",
       " 20.5801906197132,\n",
       " 19.71455556786865,\n",
       " 18.949855484581036,\n",
       " 18.274073945485462,\n",
       " 17.67662580751847,\n",
       " 17.148186726310268,\n",
       " 16.680542980087324,\n",
       " 16.266459181337723,\n",
       " 15.899561745593804,\n",
       " 15.574236240471365,\n",
       " 15.285536961661652,\n",
       " 15.029107279500195,\n",
       " 14.80110947320848,\n",
       " 14.598162922713536,\n",
       " 14.417289662558321,\n",
       " 14.255866420990097,\n",
       " 14.111582371764863,\n",
       " 13.982401918215235,\n",
       " 13.866531910179242,\n",
       " 13.762392765783483,\n",
       " 13.668593032965902,\n",
       " 13.583906981024256,\n",
       " 13.50725486127808]"
      ]
     },
     "execution_count": 123,
     "metadata": {},
     "output_type": "execute_result"
    }
   ],
   "source": [
    "errors"
   ]
  },
  {
   "cell_type": "markdown",
   "id": "73070f92",
   "metadata": {},
   "source": [
    "### Tracer l'évolution de l'erreur MSE après chaque itération"
   ]
  },
  {
   "cell_type": "code",
   "execution_count": 776,
   "id": "f38375c3",
   "metadata": {},
   "outputs": [
    {
     "data": {
      "image/png": "[encoded data removed]",
      "text/plain": [
       "<Figure size 640x480 with 1 Axes>"
      ]
     },
     "metadata": {},
     "output_type": "display_data"
    }
   ],
   "source": [
    "import matplotlib.pyplot as plt\n",
    "plt.plot(errors)\n",
    "plt.xlabel('Iterations')\n",
    "plt.ylabel('MSE')\n",
    "plt.show()"
   ]
  },
  {
   "cell_type": "markdown",
   "id": "208ac8f3",
   "metadata": {},
   "source": [
    "## 2. Donner l’erreur de ce modèle"
   ]
  },
  {
   "cell_type": "code",
   "execution_count": 777,
   "id": "3c00636b",
   "metadata": {},
   "outputs": [
    {
     "name": "stdout",
     "output_type": "stream",
     "text": [
      "Erreur sur l'ensemble de test (MSE) : 16.744943368383268\n"
     ]
    }
   ],
   "source": [
    "test_error = MSE_M(X_test, y_test, W)\n",
    "print(f'Erreur sur l\\'ensemble de test (MSE) : {test_error}')"
   ]
  },
  {
   "cell_type": "markdown",
   "id": "3eb7b36d",
   "metadata": {},
   "source": [
    "# ---------------------Multi Variable---------------------"
   ]
  },
  {
   "cell_type": "code",
   "execution_count": 765,
   "id": "a52e5d49",
   "metadata": {},
   "outputs": [
    {
     "name": "stdout",
     "output_type": "stream",
     "text": [
      "[0. 0. 0.]\n"
     ]
    },
    {
     "ename": "ValueError",
     "evalue": "shapes (3,200,1) and (3,) not aligned: 1 (dim 2) != 3 (dim 0)",
     "output_type": "error",
     "traceback": [
      "\u001b[1;31m---------------------------------------------------------------------------\u001b[0m",
      "\u001b[1;31mValueError\u001b[0m                                Traceback (most recent call last)",
      "Cell \u001b[1;32mIn[765], line 21\u001b[0m\n\u001b[0;32m     19\u001b[0m     W\u001b[38;5;241m=\u001b[39mW\u001b[38;5;241m-\u001b[39mlearninrate\u001b[38;5;241m*\u001b[39mdw\n\u001b[0;32m     20\u001b[0m     \u001b[38;5;28mprint\u001b[39m(W)\n\u001b[1;32m---> 21\u001b[0m predict(X,\u001b[38;5;241m0.000001\u001b[39m)\n",
      "Cell \u001b[1;32mIn[765], line 17\u001b[0m, in \u001b[0;36mpredict\u001b[1;34m(X, learninrate)\u001b[0m\n\u001b[0;32m     15\u001b[0m \u001b[38;5;28mprint\u001b[39m(W)\n\u001b[0;32m     16\u001b[0m n\u001b[38;5;241m=\u001b[39m\u001b[38;5;28mlen\u001b[39m(X)\n\u001b[1;32m---> 17\u001b[0m y_predicted\u001b[38;5;241m=\u001b[39mb\u001b[38;5;241m+\u001b[39mnp\u001b[38;5;241m.\u001b[39mdot(X,W)\n\u001b[0;32m     18\u001b[0m dw\u001b[38;5;241m=\u001b[39m(\u001b[38;5;241m2\u001b[39m\u001b[38;5;241m/\u001b[39mn)\u001b[38;5;241m*\u001b[39mnp\u001b[38;5;241m.\u001b[39mdot(X\u001b[38;5;241m.\u001b[39mT,(y_predicted\u001b[38;5;241m-\u001b[39my_real))\n\u001b[0;32m     19\u001b[0m W\u001b[38;5;241m=\u001b[39mW\u001b[38;5;241m-\u001b[39mlearninrate\u001b[38;5;241m*\u001b[39mdw\n",
      "File \u001b[1;32m<__array_function__ internals>:200\u001b[0m, in \u001b[0;36mdot\u001b[1;34m(*args, **kwargs)\u001b[0m\n",
      "\u001b[1;31mValueError\u001b[0m: shapes (3,200,1) and (3,) not aligned: 1 (dim 2) != 3 (dim 0)"
     ]
    }
   ],
   "source": [
    "import numpy as np\n",
    "import matplotlib.pyplot as plt\n",
    "import pandas as pd\n",
    "\n",
    "\n",
    "data = pd.read_csv(\"data/Advertising.csv\")\n",
    "\n",
    "\n",
    "X=[data[['TV']],data[['Radio']],data[['Newspaper']]]\n",
    "y_real=data[['Sales']]\n",
    "\n",
    "def predict(X,learninrate):\n",
    "    b=np.zeros(3)\n",
    "    W=np.zeros(3)\n",
    "    print(W)\n",
    "    n=len(X)\n",
    "    y_predicted=b+np.dot(X,W)\n",
    "    dw=(2/n)*np.dot(X.T,(y_predicted-y_real))\n",
    "    W=W-learninrate*dw\n",
    "    print(W)\n",
    "predict(X,0.000001)     "
   ]
  },
  {
   "cell_type": "markdown",
   "id": "675198f7",
   "metadata": {},
   "source": [
    "# +++++++++++++++++++++++++++++++++++++++++"
   ]
  },
  {
   "cell_type": "code",
   "execution_count": 2,
   "id": "743ac063",
   "metadata": {},
   "outputs": [
    {
     "name": "stdout",
     "output_type": "stream",
     "text": [
      "[ 67.79561224 130.54902153  43.31876722]\n"
     ]
    },
    {
     "data": {
      "image/png": "[encoded data removed]",
      "text/plain": [
       "<Figure size 640x480 with 1 Axes>"
      ]
     },
     "metadata": {},
     "output_type": "display_data"
    }
   ],
   "source": [
    "import numpy as np\n",
    "from sklearn.model_selection import train_test_split\n",
    "import pandas as pd\n",
    "import matplotlib.pyplot as plt\n",
    "\n",
    "\n",
    "lr=0.00001\n",
    "n_iters=1000\n",
    "weights=None\n",
    "bias=None\n",
    "\n",
    "def fit(X,y):\n",
    "    n_samples,n_features=X.shape\n",
    "    weights=np.zeros(n_features)\n",
    "    list_err=[]\n",
    "    list_iter=[]\n",
    "    list_weights=np.zeros(3)\n",
    "    bias=0\n",
    "    for _ in range(n_iters):\n",
    "        y_predicted=np.dot(X,weights)+bias\n",
    "        mean_squared_error=(1/X.size)*np.sum(np.square(y_predicted-y))\n",
    "        dw=(2/n_samples)*np.dot(X.T,(y_predicted-y))\n",
    "        db=(2/n_samples)*np.sum(y_predicted-y)\n",
    "        list_iter.append(_)\n",
    "        list_err.append(mean_squared_error)\n",
    "        weights-=lr*dw\n",
    "        bias-=lr*db\n",
    "        list_weights+=weights\n",
    "        \n",
    "        \n",
    "    return bias,weights,list_iter,list_err,list_weights\n",
    "\n",
    "df=pd.read_csv(\"data/Advertising.csv\")\n",
    "y=df.Sales\n",
    "X=df[['TV', 'Radio', 'Newspaper']]\n",
    "X_train,X_test,y_train,y_test=train_test_split(X,y,test_size=0.2, random_state=12)\n",
    "\n",
    "\n",
    "b,w,list_iter,list_err,list_weights=fit(X_train,y_train)\n",
    "def predict(X):\n",
    "    predicted_y=np.dot(X,w)+b\n",
    "    return predicted_y\n",
    "predictions=predict(X_test)\n",
    "\n",
    "print(list_weights)\n",
    "\n",
    "plt.plot(list_iter,list_err)\n",
    "plt.show()"
   ]
  },
  {
   "cell_type": "code",
   "execution_count": null,
   "id": "3a125576",
   "metadata": {},
   "outputs": [],
   "source": []
  }
 ],
 "metadata": {
  "kernelspec": {
   "display_name": "Python 3 (ipykernel)",
   "language": "python",
   "name": "python3"
  },
  "language_info": {
   "codemirror_mode": {
    "name": "ipython",
    "version": 3
   },
   "file_extension": ".py",
   "mimetype": "text/x-python",
   "name": "python",
   "nbconvert_exporter": "python",
   "pygments_lexer": "ipython3",
   "version": "3.11.4"
  }
 },
 "nbformat": 4,
 "nbformat_minor": 5
}
