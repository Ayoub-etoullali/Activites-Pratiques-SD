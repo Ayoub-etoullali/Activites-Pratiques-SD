{
 "cells": [
  {
   "cell_type": "markdown",
   "id": "19bf6f8c",
   "metadata": {},
   "source": [
    "# Dans ce problème, on va utiliser le Dataset : "
   ]
  },
  {
   "cell_type": "markdown",
   "id": "bf3a9cd6",
   "metadata": {},
   "source": [
    "https://www.kaggle.com/saurabh00007/diabetescsv"
   ]
  },
  {
   "cell_type": "markdown",
   "id": "6d37b89a",
   "metadata": {},
   "source": [
    "#### — Ouvrir un data set à l’aide de pandas et récupérer un dataframe"
   ]
  },
  {
   "cell_type": "code",
   "execution_count": 7,
   "id": "1759a731",
   "metadata": {},
   "outputs": [],
   "source": [
    "import pandas as pd\n",
    "\n",
    "# Charger le jeu de données dans un DataFrame Pandas\n",
    "df = pd.read_csv(\"data/diabetes.csv\")"
   ]
  },
  {
   "cell_type": "code",
   "execution_count": 12,
   "id": "29bc8b8a",
   "metadata": {},
   "outputs": [
    {
     "data": {
      "text/html": [
       "<div>\n",
       "<style scoped>\n",
       "    .dataframe tbody tr th:only-of-type {\n",
       "        vertical-align: middle;\n",
       "    }\n",
       "\n",
       "    .dataframe tbody tr th {\n",
       "        vertical-align: top;\n",
       "    }\n",
       "\n",
       "    .dataframe thead th {\n",
       "        text-align: right;\n",
       "    }\n",
       "</style>\n",
       "<table border=\"1\" class=\"dataframe\">\n",
       "  <thead>\n",
       "    <tr style=\"text-align: right;\">\n",
       "      <th></th>\n",
       "      <th>Pregnancies</th>\n",
       "      <th>Glucose</th>\n",
       "      <th>BloodPressure</th>\n",
       "      <th>SkinThickness</th>\n",
       "      <th>Insulin</th>\n",
       "      <th>BMI</th>\n",
       "      <th>DiabetesPedigreeFunction</th>\n",
       "      <th>Age</th>\n",
       "      <th>Outcome</th>\n",
       "    </tr>\n",
       "  </thead>\n",
       "  <tbody>\n",
       "    <tr>\n",
       "      <th>0</th>\n",
       "      <td>6</td>\n",
       "      <td>148</td>\n",
       "      <td>72</td>\n",
       "      <td>35</td>\n",
       "      <td>0</td>\n",
       "      <td>33.6</td>\n",
       "      <td>0.627</td>\n",
       "      <td>50</td>\n",
       "      <td>1</td>\n",
       "    </tr>\n",
       "    <tr>\n",
       "      <th>1</th>\n",
       "      <td>1</td>\n",
       "      <td>85</td>\n",
       "      <td>66</td>\n",
       "      <td>29</td>\n",
       "      <td>0</td>\n",
       "      <td>26.6</td>\n",
       "      <td>0.351</td>\n",
       "      <td>31</td>\n",
       "      <td>0</td>\n",
       "    </tr>\n",
       "    <tr>\n",
       "      <th>2</th>\n",
       "      <td>8</td>\n",
       "      <td>183</td>\n",
       "      <td>64</td>\n",
       "      <td>0</td>\n",
       "      <td>0</td>\n",
       "      <td>23.3</td>\n",
       "      <td>0.672</td>\n",
       "      <td>32</td>\n",
       "      <td>1</td>\n",
       "    </tr>\n",
       "    <tr>\n",
       "      <th>3</th>\n",
       "      <td>1</td>\n",
       "      <td>89</td>\n",
       "      <td>66</td>\n",
       "      <td>23</td>\n",
       "      <td>94</td>\n",
       "      <td>28.1</td>\n",
       "      <td>0.167</td>\n",
       "      <td>21</td>\n",
       "      <td>0</td>\n",
       "    </tr>\n",
       "    <tr>\n",
       "      <th>4</th>\n",
       "      <td>0</td>\n",
       "      <td>137</td>\n",
       "      <td>40</td>\n",
       "      <td>35</td>\n",
       "      <td>168</td>\n",
       "      <td>43.1</td>\n",
       "      <td>2.288</td>\n",
       "      <td>33</td>\n",
       "      <td>1</td>\n",
       "    </tr>\n",
       "  </tbody>\n",
       "</table>\n",
       "</div>"
      ],
      "text/plain": [
       "   Pregnancies  Glucose  BloodPressure  SkinThickness  Insulin   BMI  \\\n",
       "0            6      148             72             35        0  33.6   \n",
       "1            1       85             66             29        0  26.6   \n",
       "2            8      183             64              0        0  23.3   \n",
       "3            1       89             66             23       94  28.1   \n",
       "4            0      137             40             35      168  43.1   \n",
       "\n",
       "   DiabetesPedigreeFunction  Age  Outcome  \n",
       "0                     0.627   50        1  \n",
       "1                     0.351   31        0  \n",
       "2                     0.672   32        1  \n",
       "3                     0.167   21        0  \n",
       "4                     2.288   33        1  "
      ]
     },
     "execution_count": 12,
     "metadata": {},
     "output_type": "execute_result"
    }
   ],
   "source": [
    "df.head()"
   ]
  },
  {
   "cell_type": "code",
   "execution_count": 13,
   "id": "cb5e8107",
   "metadata": {
    "scrolled": true
   },
   "outputs": [
    {
     "data": {
      "text/plain": [
       "Pregnancies                   int64\n",
       "Glucose                       int64\n",
       "BloodPressure                 int64\n",
       "SkinThickness                 int64\n",
       "Insulin                       int64\n",
       "BMI                         float64\n",
       "DiabetesPedigreeFunction    float64\n",
       "Age                           int64\n",
       "Outcome                       int64\n",
       "dtype: object"
      ]
     },
     "execution_count": 13,
     "metadata": {},
     "output_type": "execute_result"
    }
   ],
   "source": [
    "df.dtypes"
   ]
  },
  {
   "cell_type": "markdown",
   "id": "865bb63c",
   "metadata": {},
   "source": [
    "#### — Connaitre les dimensions du dataframe"
   ]
  },
  {
   "cell_type": "code",
   "execution_count": 14,
   "id": "5141fe80",
   "metadata": {},
   "outputs": [
    {
     "name": "stdout",
     "output_type": "stream",
     "text": [
      "Dimensions du Dataframe : (768, 9)\n"
     ]
    }
   ],
   "source": [
    "dimensions = df.shape\n",
    "print(\"Dimensions du Dataframe :\", dimensions)"
   ]
  },
  {
   "cell_type": "markdown",
   "id": "1ac6f9ed",
   "metadata": {},
   "source": [
    "#### — Explorer la liste des colonnes"
   ]
  },
  {
   "cell_type": "code",
   "execution_count": 15,
   "id": "72261d76",
   "metadata": {},
   "outputs": [
    {
     "name": "stdout",
     "output_type": "stream",
     "text": [
      "Liste des colonnes : Index(['Pregnancies', 'Glucose', 'BloodPressure', 'SkinThickness', 'Insulin',\n",
      "       'BMI', 'DiabetesPedigreeFunction', 'Age', 'Outcome'],\n",
      "      dtype='object')\n"
     ]
    }
   ],
   "source": [
    "colonnes = df.columns\n",
    "print(\"Liste des colonnes :\", colonnes)"
   ]
  },
  {
   "cell_type": "markdown",
   "id": "87ea214b",
   "metadata": {},
   "source": [
    "#### — Récupérer une colonne, un ensemble de colonnes"
   ]
  },
  {
   "cell_type": "code",
   "execution_count": 16,
   "id": "01716191",
   "metadata": {},
   "outputs": [],
   "source": [
    "age = df['Age']\n",
    "bmi = df['BMI']\n",
    "glucose = df['Glucose']\n",
    "\n",
    "age_bmi = df[[\"Age\", \"BMI\"]]"
   ]
  },
  {
   "cell_type": "code",
   "execution_count": 17,
   "id": "2bc41527",
   "metadata": {},
   "outputs": [
    {
     "data": {
      "text/plain": [
       "0    50\n",
       "1    31\n",
       "2    32\n",
       "3    21\n",
       "4    33\n",
       "Name: Age, dtype: int64"
      ]
     },
     "execution_count": 17,
     "metadata": {},
     "output_type": "execute_result"
    }
   ],
   "source": [
    "age.head()"
   ]
  },
  {
   "cell_type": "code",
   "execution_count": 18,
   "id": "92d21919",
   "metadata": {},
   "outputs": [
    {
     "data": {
      "text/html": [
       "<div>\n",
       "<style scoped>\n",
       "    .dataframe tbody tr th:only-of-type {\n",
       "        vertical-align: middle;\n",
       "    }\n",
       "\n",
       "    .dataframe tbody tr th {\n",
       "        vertical-align: top;\n",
       "    }\n",
       "\n",
       "    .dataframe thead th {\n",
       "        text-align: right;\n",
       "    }\n",
       "</style>\n",
       "<table border=\"1\" class=\"dataframe\">\n",
       "  <thead>\n",
       "    <tr style=\"text-align: right;\">\n",
       "      <th></th>\n",
       "      <th>Age</th>\n",
       "      <th>BMI</th>\n",
       "    </tr>\n",
       "  </thead>\n",
       "  <tbody>\n",
       "    <tr>\n",
       "      <th>0</th>\n",
       "      <td>50</td>\n",
       "      <td>33.6</td>\n",
       "    </tr>\n",
       "    <tr>\n",
       "      <th>1</th>\n",
       "      <td>31</td>\n",
       "      <td>26.6</td>\n",
       "    </tr>\n",
       "    <tr>\n",
       "      <th>2</th>\n",
       "      <td>32</td>\n",
       "      <td>23.3</td>\n",
       "    </tr>\n",
       "    <tr>\n",
       "      <th>3</th>\n",
       "      <td>21</td>\n",
       "      <td>28.1</td>\n",
       "    </tr>\n",
       "    <tr>\n",
       "      <th>4</th>\n",
       "      <td>33</td>\n",
       "      <td>43.1</td>\n",
       "    </tr>\n",
       "  </tbody>\n",
       "</table>\n",
       "</div>"
      ],
      "text/plain": [
       "   Age   BMI\n",
       "0   50  33.6\n",
       "1   31  26.6\n",
       "2   32  23.3\n",
       "3   21  28.1\n",
       "4   33  43.1"
      ]
     },
     "execution_count": 18,
     "metadata": {},
     "output_type": "execute_result"
    }
   ],
   "source": [
    "age_bmi.head()"
   ]
  },
  {
   "cell_type": "markdown",
   "id": "3afc6ca3",
   "metadata": {},
   "source": [
    "#### — Le max, le min, la moyenne d’une colonne"
   ]
  },
  {
   "cell_type": "code",
   "execution_count": 19,
   "id": "7fff4deb",
   "metadata": {},
   "outputs": [
    {
     "name": "stdout",
     "output_type": "stream",
     "text": [
      "Max Glucose = 199\n",
      "Min Glucose = 0\n",
      "Moyenne Glucose: 120.89\n"
     ]
    }
   ],
   "source": [
    "max_glucose = glucose.max()\n",
    "print(\"Max Glucose =\", max_glucose)\n",
    "\n",
    "min_glucose = glucose.min()\n",
    "print(\"Min Glucose =\", min_glucose)\n",
    "\n",
    "moy_glucose = glucose.mean()\n",
    "print(\"Moyenne Glucose: {:.2f}\".format(moy_glucose))"
   ]
  },
  {
   "cell_type": "markdown",
   "id": "fc9ae558",
   "metadata": {},
   "source": [
    "# Pour faire la classification, on se base sur la variable indépendante Glucose et la variable dépendante outcome de diabetes.csv"
   ]
  },
  {
   "cell_type": "markdown",
   "id": "86b6ba96",
   "metadata": {},
   "source": [
    "## 1. Quelles sont les principales étapes à suivre pour établir un modèle de Single Variate Logistic Regression basé sur sklearn ?"
   ]
  },
  {
   "cell_type": "markdown",
   "id": "0bd382bd",
   "metadata": {},
   "source": [
    "### => voici les étapes à suivre pour établir un modèle de régression logistique univariée en utilisant scikit-learn :"
   ]
  },
  {
   "cell_type": "markdown",
   "id": "6429651b",
   "metadata": {},
   "source": [
    "1. **Collecte de données** : Tout d'abord, rassemblez les données pertinentes pour votre étude. Assurez-vous d'avoir une variable dépendante binaire (variable à prédire) et une variable indépendante (caractéristique).\n",
    "\n",
    "2. **Exploration des données** : Explorez vos données pour comprendre leur distribution et détecter d'éventuelles valeurs aberrantes ou données manquantes.\n",
    "\n",
    "3. **Préparation des données** : Nettoyez vos données en supprimant les valeurs aberrantes, en traitant les données manquantes et en normalisant ou standardisant si nécessaire.\n",
    "\n",
    "4. **Division des données** : Divisez vos données en deux ensembles distincts : l'ensemble d'apprentissage (généralement 70-80% des données) et l'ensemble de test (le reste). Cela vous permettra d'évaluer la performance du modèle.\n",
    "\n",
    "5. **Création du modèle** : Utilisez la classe LogisticRegression de scikit-learn pour créer un modèle de régression logistique. Spécifiez la variable indépendante comme variable explicative et la variable dépendante comme variable cible.\n",
    "\n",
    "6. **Entraînement du modèle** : Ajustez le modèle aux données d'apprentissage en utilisant la méthode fit(). Le modèle apprendra à partir des données pour effectuer des prédictions.\n",
    "\n",
    "7. **Évaluation du modèle** : Utilisez l'ensemble de test pour évaluer la performance du modèle. Les métriques couramment utilisées incluent l'accuracy, la précision, le rappel, la F1-score et la matrice de confusion.\n",
    "\n",
    "8. **Interprétation des résultats** : Interprétez les résultats pour comprendre comment le modèle se comporte par rapport à vos données. Analysez les coefficients pour comprendre l'impact de la variable indépendante sur la variable dépendante.\n",
    "\n",
    "9. **Optimisation du modèle (si nécessaire)** : Si les performances du modèle ne sont pas satisfaisantes, vous pouvez explorer différentes techniques d'optimisation, telles que la sélection de caractéristiques, le réglage des hyperparamètres ou l'utilisation de techniques de régularisation.\n",
    "\n",
    "10. **Utilisation du modèle** : Une fois que vous êtes satisfait de la performance du modèle, vous pouvez l'utiliser pour faire des prédictions sur de nouvelles données.\n",
    "\n",
    "Ces étapes vous permettront de créer un modèle de régression logistique univariée à l'aide de scikit-learn. L'analyse et la compréhension des résultats sont essentielles pour tirer des conclusions pertinentes de votre modèle."
   ]
  },
  {
   "cell_type": "markdown",
   "id": "3fc7a528",
   "metadata": {},
   "source": [
    "### => Voici les étapes pour créer un modèle de régression logistique univariée \"from scratch\" sans utiliser une bibliothèque comme scikit-learn :"
   ]
  },
  {
   "cell_type": "markdown",
   "id": "201a063f",
   "metadata": {},
   "source": [
    " implémenter vous-même l'algorithme de régression logistique et les différentes fonctions nécessaires"
   ]
  },
  {
   "attachments": {
    "image-2.png": {
     "image/png": "[encoded data removed]"
    },
    "image.png": {
     "image/png": "[encoded data removed]"
    }
   },
   "cell_type": "markdown",
   "id": "7f412052",
   "metadata": {},
   "source": [
    "1. **Collecte de données** : Rassemblez vos données, y compris la variable dépendante binaire et la variable indépendante.\n",
    "\n",
    "2. **Initialisation des paramètres** : Initialisez les paramètres du modèle, y compris le coefficient de pente (poids) et le terme de biais (intercept). Vous pouvez les initialiser à zéro ou avec des valeurs aléatoires.\n",
    "\n",
    "3. **Définition de la fonction logistique** : Implémentez une fonction logistique (sigmoid) qui prend en entrée une valeur et renvoie la probabilité que la variable dépendante soit égale à 1. La formule de la fonction logistique est : \n",
    "\n",
    "   ![image-2.png](attachment:image-2.png)\n",
    "\n",
    "   Où \\(w_0\\) est le terme de biais, \\(w_1\\) est le poids de la variable indépendante X.\n",
    "\n",
    "4. **Définition de la fonction de coût** : Implémentez une fonction de coût qui mesure l'erreur entre les prédictions du modèle et les valeurs réelles. Une fonction de coût couramment utilisée pour la régression logistique est la log-perte (log loss) ou l'entropie croisée (cross-entropy). La formule est la suivante :\n",
    "\n",
    "    ![image.png](attachment:image.png)\n",
    "\n",
    "   Où \\(m\\) est le nombre d'échantillons, \\(y^{(i)}\\) est la vraie valeur de la variable dépendante pour l'échantillon \\(i\\), et \\(\\hat{y}^{(i)}\\) est la prédiction du modèle.\n",
    "\n",
    "5. **Mise à jour des paramètres** : Utilisez une technique d'optimisation, telle que la descente de gradient, pour mettre à jour les paramètres \\(w_0\\) et \\(w_1\\) afin de minimiser la fonction de coût.\n",
    "\n",
    "6. **Entraînement du modèle** : Appliquez itérativement l'étape de mise à jour des paramètres sur l'ensemble de données d'apprentissage jusqu'à ce que la fonction de coût converge vers un minimum.\n",
    "\n",
    "7. **Évaluation du modèle** : Évaluez la performance du modèle en utilisant l'ensemble de test ou de validation. Vous pouvez utiliser des métriques telles que l'accuracy, la précision, le rappel, la F1-score, etc.\n",
    "\n",
    "8. **Interprétation des résultats** : Interprétez les coefficients obtenus ( \\(w_0\\) et \\(w_1\\) ) pour comprendre comment la variable indépendante affecte la variable dépendante.\n",
    "\n",
    "9. **Utilisation du modèle** : Une fois que le modèle est entraîné et évalué avec succès, vous pouvez l'utiliser pour faire des prédictions sur de nouvelles données en utilisant la fonction logistique avec les paramètres appris.\n",
    "\n",
    "10. **Optimisation (si nécessaire)** : Vous pouvez explorer différentes techniques d'optimisation, telles que l'ajustement des hyperparamètres ou l'utilisation de techniques de régularisation (comme la régularisation L1 ou L2), si le modèle nécessite des améliorations de performance.\n",
    "\n",
    "La mise en œuvre de toutes ces étapes \"from scratch\" peut être un exercice instructif, mais cela peut être complexe. Vous devrez également gérer des détails tels que la gestion des données, la régularisation et la gestion des cas spéciaux. C'est pourquoi de nombreuses personnes préfèrent utiliser des bibliothèques comme scikit-learn pour gagner du temps et s'assurer de la qualité de l'implémentation."
   ]
  },
  {
   "cell_type": "markdown",
   "id": "509cb443",
   "metadata": {},
   "source": [
    "## 2. Data"
   ]
  },
  {
   "cell_type": "markdown",
   "id": "40d8c4f9",
   "metadata": {},
   "source": [
    "### (a) Définir le dataset (X,y) et les afficher"
   ]
  },
  {
   "cell_type": "code",
   "execution_count": 8,
   "id": "29d17fb8",
   "metadata": {},
   "outputs": [],
   "source": [
    "df = pd.read_csv(\"data/diabetes.csv\")"
   ]
  },
  {
   "cell_type": "code",
   "execution_count": 9,
   "id": "9688961c",
   "metadata": {},
   "outputs": [],
   "source": [
    "X = df[\"Glucose\"].values\n",
    "y = df[\"Outcome\"].values"
   ]
  },
  {
   "cell_type": "code",
   "execution_count": 10,
   "id": "4e89ea0b",
   "metadata": {},
   "outputs": [
    {
     "data": {
      "text/plain": [
       "array([148,  85, 183,  89, 137, 116,  78, 115, 197, 125], dtype=int64)"
      ]
     },
     "execution_count": 10,
     "metadata": {},
     "output_type": "execute_result"
    }
   ],
   "source": [
    "X[:10]"
   ]
  },
  {
   "cell_type": "code",
   "execution_count": 11,
   "id": "4e891a2c",
   "metadata": {},
   "outputs": [
    {
     "data": {
      "text/plain": [
       "array([1, 0, 1, 0, 1, 0, 1, 0, 1, 1], dtype=int64)"
      ]
     },
     "execution_count": 11,
     "metadata": {},
     "output_type": "execute_result"
    }
   ],
   "source": [
    "y[:10]"
   ]
  },
  {
   "cell_type": "markdown",
   "id": "9e23f0ca",
   "metadata": {},
   "source": [
    "### (b) Tracer les données à l’aide de matplotlib"
   ]
  },
  {
   "cell_type": "code",
   "execution_count": 13,
   "id": "2948d70d",
   "metadata": {},
   "outputs": [
    {
     "data": {
      "image/png": "[encoded data removed]",
      "text/plain": [
       "<Figure size 640x480 with 1 Axes>"
      ]
     },
     "metadata": {},
     "output_type": "display_data"
    }
   ],
   "source": [
    "import matplotlib.pyplot as plt\n",
    "\n",
    "plt.scatter(X, y)\n",
    "plt.xlabel('TV Advertising Budget')\n",
    "plt.ylabel('Sales')\n",
    "plt.show()"
   ]
  },
  {
   "cell_type": "markdown",
   "id": "afd607b8",
   "metadata": {},
   "source": [
    "### (c) Conclusions ?"
   ]
  },
  {
   "cell_type": "markdown",
   "id": "88362ca0",
   "metadata": {},
   "source": [
    "- La dispersion des points sur le graphique indique que les données de Glucose sont réparties en fonction de l'outcome.\n",
    "- Il semble y avoir deux valeurs distinctes pour \"Outcome\" (peut-être 0 et 1), ce qui suggère une classification binaire."
   ]
  },
  {
   "cell_type": "markdown",
   "id": "7d5e5f9f",
   "metadata": {},
   "source": [
    "### (d) à l’aide de train test split de sklearn.model selection, diviser le dataset en training dataset et test dataset (80% pour training data et 20% pour test data)"
   ]
  },
  {
   "cell_type": "code",
   "execution_count": 25,
   "id": "667b4f32",
   "metadata": {},
   "outputs": [],
   "source": [
    "from sklearn.model_selection import train_test_split\n",
    "\n",
    "X_train, X_test, y_train, y_test = train_test_split(X, y, test_size=0.2, random_state=42)"
   ]
  },
  {
   "cell_type": "markdown",
   "id": "1b216657",
   "metadata": {},
   "source": [
    "### (e) Pourquoi il faut séparer les données en données d’apprentissage et en données de test ?"
   ]
  },
  {
   "cell_type": "markdown",
   "id": "0348f50a",
   "metadata": {},
   "source": [
    "La séparation des données en ensembles d'apprentissage et de test est essentielle pour évaluer la performance d'un modèle de machine learning. Voici pourquoi c'est important :\n",
    "\n",
    "- Évaluation impartiale : En utilisant un ensemble de test distinct, vous pouvez évaluer la capacité du modèle à généraliser à de nouvelles données non vues auparavant.\n",
    "- Prévention du surajustement (overfitting) : La division des données permet de détecter si le modèle s'ajuste trop bien aux données d'entraînement (overfitting) en fournissant une mesure de performance sur des données inconnues.\n",
    "- Évaluation des performances réelles : Vous obtenez une estimation de la performance du modèle tel qu'il se comporterait dans la pratique.\n",
    "- Optimisation des hyperparamètres : Vous pouvez ajuster les paramètres du modèle (par exemple, la régularisation) en utilisant l'ensemble d'entraînement tout en évaluant son efficacité sur l'ensemble de test."
   ]
  },
  {
   "cell_type": "markdown",
   "id": "256a0720",
   "metadata": {},
   "source": [
    "La séparation des données en un ensemble d'apprentissage (training set) et un ensemble de test (test set) est une pratique essentielle dans le développement de modèles de machine learning, y compris les modèles de régression, pour plusieurs raisons importantes :\n",
    "\n",
    "1. Évaluation de la généralisation : La principale raison de cette séparation est d'évaluer la capacité du modèle à généraliser à de nouvelles données non vues. En utilisant un ensemble de test distinct, vous simulez le scénario où le modèle est confronté à des données qu'il n'a pas encore rencontrées. Cela permet de vérifier si le modèle peut faire des prédictions précises en dehors de l'ensemble d'apprentissage.\n",
    "\n",
    "2. Détection de surajustement : La séparation des données en ensembles distincts permet de détecter plus facilement le surajustement (overfitting). Le surajustement se produit lorsque le modèle s'ajuste trop précisément aux données d'apprentissage, ce qui peut entraîner de mauvaises performances sur de nouvelles données. En comparant les performances du modèle sur l'ensemble d'apprentissage et l'ensemble de test, vous pouvez identifier si le modèle surajuste ou sous-ajuste les données.\n",
    "\n",
    "3. Estimation des performances du modèle : En évaluant le modèle sur l'ensemble de test, vous obtenez une estimation plus réaliste de ses performances en dehors de l'environnement d'apprentissage. Cela vous donne une idée de la qualité des prédictions que vous pouvez attendre lorsque le modèle est déployé dans la pratique.\n",
    "\n",
    "4. Optimisation des hyperparamètres : Vous pouvez utiliser l'ensemble d'apprentissage pour ajuster les paramètres du modèle, puis utiliser l'ensemble de test pour évaluer ces paramètres et optimiser le modèle. Cela permet de choisir les valeurs d'hyperparamètres qui donnent les meilleures performances de généralisation.\n",
    "\n",
    "5. Prévention de la fuite d'information : En gardant l'ensemble de test distinct de l'ensemble d'apprentissage, vous évitez la fuite d'information. La fuite d'information se produit lorsque des informations des données de test sont utilisées accidentellement lors de l'apprentissage du modèle, ce qui fausse les résultats de l'évaluation.\n",
    "\n",
    "En résumé, la séparation des données en ensembles d'apprentissage et de test est une étape cruciale dans le développement de modèles de machine learning, car elle permet d'évaluer la capacité de généralisation du modèle et d'obtenir une estimation fiable de ses performances futures."
   ]
  },
  {
   "cell_type": "markdown",
   "id": "33a59368",
   "metadata": {},
   "source": [
    "### (f) Afficher le nombre d’enregistrement pour le training et le nombre d’enregistrement pour le test"
   ]
  },
  {
   "cell_type": "code",
   "execution_count": 26,
   "id": "42c50736",
   "metadata": {},
   "outputs": [
    {
     "name": "stdout",
     "output_type": "stream",
     "text": [
      "Nombre d’enregistrement pour le training : 614\n",
      "Nombre d’enregistrement pour le test : 154\n"
     ]
    }
   ],
   "source": [
    "print(\"Nombre d’enregistrement pour le training :\" , X_train.shape[0]) # len(X_train)\n",
    "print(\"Nombre d’enregistrement pour le test :\" , X_test.shape[0])"
   ]
  },
  {
   "cell_type": "markdown",
   "id": "75258333",
   "metadata": {},
   "source": [
    "## 3. Modèle"
   ]
  },
  {
   "cell_type": "markdown",
   "id": "6f8fe624",
   "metadata": {},
   "source": [
    "### (a) Créer le modèle"
   ]
  },
  {
   "cell_type": "markdown",
   "id": "fe9efcdb",
   "metadata": {},
   "source": [
    "Tout d'abord, vous devrez créer un modèle de régression logistique. Le modèle de régression logistique utilise une fonction logistique (sigmoid) pour modéliser la probabilité d'appartenance à une classe binaire. Vous devrez également définir une fonction d'hypothèse et une fonction de coût (par exemple, la perte logistique) pour entraîner le modèle."
   ]
  },
  {
   "cell_type": "code",
   "execution_count": 27,
   "id": "25955f42",
   "metadata": {},
   "outputs": [],
   "source": [
    "import numpy as np\n",
    "\n",
    "# Fonction logistique (sigmoid)\n",
    "def sigmoid(z):\n",
    "    return 1 / (1 + np.exp(-z))\n",
    "\n",
    "# Initialisation des paramètres du modèle\n",
    "theta = np.zeros(X_train.shape[0])\n",
    "\n",
    "# Fonction d'hypothèse\n",
    "def hypothesis(X, theta):\n",
    "    z = np.dot(X, theta)\n",
    "    return sigmoid(z)\n",
    "\n",
    "# Fonction de coût (perte logistique)\n",
    "def cost_function(X, y, theta):\n",
    "    m = len(y)\n",
    "    h = hypothesis(X, theta)\n",
    "    return (-1/m) * np.sum(y * np.log(h) + (1 - y) * np.log(1 - h))\n",
    "\n",
    "# Gradient de la fonction de coût\n",
    "def gradient(X, y, theta):\n",
    "    m = len(y)\n",
    "    h = hypothesis(X, theta)\n",
    "    grad = np.dot(X.T, (h - y)) / m\n",
    "    return grad"
   ]
  },
  {
   "cell_type": "markdown",
   "id": "9af04bbf",
   "metadata": {},
   "source": [
    "### (b) Faire l’apprentissage"
   ]
  },
  {
   "cell_type": "markdown",
   "id": "617ae17e",
   "metadata": {},
   "source": [
    "L'apprentissage consiste à ajuster les paramètres (coefficients) du modèle de régression logistique en minimisant la fonction de coût. Dans cet exemple, nous avons utilisé la descente de gradient pour mettre à jour les coefficients."
   ]
  },
  {
   "cell_type": "code",
   "execution_count": 28,
   "id": "cf91e38a",
   "metadata": {},
   "outputs": [
    {
     "name": "stderr",
     "output_type": "stream",
     "text": [
      "C:\\Users\\ayoub\\AppData\\Local\\Temp\\ipykernel_12688\\2401996743.py:5: RuntimeWarning: overflow encountered in exp\n",
      "  return 1 / (1 + np.exp(-z))\n"
     ]
    }
   ],
   "source": [
    "# Taux d'apprentissage et nombre d'itérations\n",
    "alpha = 0.01\n",
    "iterations = 1000\n",
    "\n",
    "# Entraînement du modèle\n",
    "for _ in range(iterations):\n",
    "    grad = gradient(X_train, y_train, theta)\n",
    "    theta -= alpha * grad # correction"
   ]
  },
  {
   "cell_type": "markdown",
   "id": "dbcbb628",
   "metadata": {},
   "source": [
    "### (c) Afficher les coefficients"
   ]
  },
  {
   "cell_type": "code",
   "execution_count": 29,
   "id": "833e7dfc",
   "metadata": {},
   "outputs": [
    {
     "name": "stdout",
     "output_type": "stream",
     "text": [
      "Coefficients du modèle :  [-0.1127443 -0.1127443 -0.1127443 -0.1127443 -0.1127443 -0.1127443\n",
      " -0.1127443 -0.1127443 -0.1127443 -0.1127443 -0.1127443 -0.1127443\n",
      " -0.1127443 -0.1127443 -0.1127443 -0.1127443 -0.1127443 -0.1127443\n",
      " -0.1127443 -0.1127443 -0.1127443 -0.1127443 -0.1127443 -0.1127443\n",
      " -0.1127443 -0.1127443 -0.1127443 -0.1127443 -0.1127443 -0.1127443\n",
      " -0.1127443 -0.1127443 -0.1127443 -0.1127443 -0.1127443 -0.1127443\n",
      " -0.1127443 -0.1127443 -0.1127443 -0.1127443 -0.1127443 -0.1127443\n",
      " -0.1127443 -0.1127443 -0.1127443 -0.1127443 -0.1127443 -0.1127443\n",
      " -0.1127443 -0.1127443 -0.1127443 -0.1127443 -0.1127443 -0.1127443\n",
      " -0.1127443 -0.1127443 -0.1127443 -0.1127443 -0.1127443 -0.1127443\n",
      " -0.1127443 -0.1127443 -0.1127443 -0.1127443 -0.1127443 -0.1127443\n",
      " -0.1127443 -0.1127443 -0.1127443 -0.1127443 -0.1127443 -0.1127443\n",
      " -0.1127443 -0.1127443 -0.1127443 -0.1127443 -0.1127443 -0.1127443\n",
      " -0.1127443 -0.1127443 -0.1127443 -0.1127443 -0.1127443 -0.1127443\n",
      " -0.1127443 -0.1127443 -0.1127443 -0.1127443 -0.1127443 -0.1127443\n",
      " -0.1127443 -0.1127443 -0.1127443 -0.1127443 -0.1127443 -0.1127443\n",
      " -0.1127443 -0.1127443 -0.1127443 -0.1127443 -0.1127443 -0.1127443\n",
      " -0.1127443 -0.1127443 -0.1127443 -0.1127443 -0.1127443 -0.1127443\n",
      " -0.1127443 -0.1127443 -0.1127443 -0.1127443 -0.1127443 -0.1127443\n",
      " -0.1127443 -0.1127443 -0.1127443 -0.1127443 -0.1127443 -0.1127443\n",
      " -0.1127443 -0.1127443 -0.1127443 -0.1127443 -0.1127443 -0.1127443\n",
      " -0.1127443 -0.1127443 -0.1127443 -0.1127443 -0.1127443 -0.1127443\n",
      " -0.1127443 -0.1127443 -0.1127443 -0.1127443 -0.1127443 -0.1127443\n",
      " -0.1127443 -0.1127443 -0.1127443 -0.1127443 -0.1127443 -0.1127443\n",
      " -0.1127443 -0.1127443 -0.1127443 -0.1127443 -0.1127443 -0.1127443\n",
      " -0.1127443 -0.1127443 -0.1127443 -0.1127443 -0.1127443 -0.1127443\n",
      " -0.1127443 -0.1127443 -0.1127443 -0.1127443 -0.1127443 -0.1127443\n",
      " -0.1127443 -0.1127443 -0.1127443 -0.1127443 -0.1127443 -0.1127443\n",
      " -0.1127443 -0.1127443 -0.1127443 -0.1127443 -0.1127443 -0.1127443\n",
      " -0.1127443 -0.1127443 -0.1127443 -0.1127443 -0.1127443 -0.1127443\n",
      " -0.1127443 -0.1127443 -0.1127443 -0.1127443 -0.1127443 -0.1127443\n",
      " -0.1127443 -0.1127443 -0.1127443 -0.1127443 -0.1127443 -0.1127443\n",
      " -0.1127443 -0.1127443 -0.1127443 -0.1127443 -0.1127443 -0.1127443\n",
      " -0.1127443 -0.1127443 -0.1127443 -0.1127443 -0.1127443 -0.1127443\n",
      " -0.1127443 -0.1127443 -0.1127443 -0.1127443 -0.1127443 -0.1127443\n",
      " -0.1127443 -0.1127443 -0.1127443 -0.1127443 -0.1127443 -0.1127443\n",
      " -0.1127443 -0.1127443 -0.1127443 -0.1127443 -0.1127443 -0.1127443\n",
      " -0.1127443 -0.1127443 -0.1127443 -0.1127443 -0.1127443 -0.1127443\n",
      " -0.1127443 -0.1127443 -0.1127443 -0.1127443 -0.1127443 -0.1127443\n",
      " -0.1127443 -0.1127443 -0.1127443 -0.1127443 -0.1127443 -0.1127443\n",
      " -0.1127443 -0.1127443 -0.1127443 -0.1127443 -0.1127443 -0.1127443\n",
      " -0.1127443 -0.1127443 -0.1127443 -0.1127443 -0.1127443 -0.1127443\n",
      " -0.1127443 -0.1127443 -0.1127443 -0.1127443 -0.1127443 -0.1127443\n",
      " -0.1127443 -0.1127443 -0.1127443 -0.1127443 -0.1127443 -0.1127443\n",
      " -0.1127443 -0.1127443 -0.1127443 -0.1127443 -0.1127443 -0.1127443\n",
      " -0.1127443 -0.1127443 -0.1127443 -0.1127443 -0.1127443 -0.1127443\n",
      " -0.1127443 -0.1127443 -0.1127443 -0.1127443 -0.1127443 -0.1127443\n",
      " -0.1127443 -0.1127443 -0.1127443 -0.1127443 -0.1127443 -0.1127443\n",
      " -0.1127443 -0.1127443 -0.1127443 -0.1127443 -0.1127443 -0.1127443\n",
      " -0.1127443 -0.1127443 -0.1127443 -0.1127443 -0.1127443 -0.1127443\n",
      " -0.1127443 -0.1127443 -0.1127443 -0.1127443 -0.1127443 -0.1127443\n",
      " -0.1127443 -0.1127443 -0.1127443 -0.1127443 -0.1127443 -0.1127443\n",
      " -0.1127443 -0.1127443 -0.1127443 -0.1127443 -0.1127443 -0.1127443\n",
      " -0.1127443 -0.1127443 -0.1127443 -0.1127443 -0.1127443 -0.1127443\n",
      " -0.1127443 -0.1127443 -0.1127443 -0.1127443 -0.1127443 -0.1127443\n",
      " -0.1127443 -0.1127443 -0.1127443 -0.1127443 -0.1127443 -0.1127443\n",
      " -0.1127443 -0.1127443 -0.1127443 -0.1127443 -0.1127443 -0.1127443\n",
      " -0.1127443 -0.1127443 -0.1127443 -0.1127443 -0.1127443 -0.1127443\n",
      " -0.1127443 -0.1127443 -0.1127443 -0.1127443 -0.1127443 -0.1127443\n",
      " -0.1127443 -0.1127443 -0.1127443 -0.1127443 -0.1127443 -0.1127443\n",
      " -0.1127443 -0.1127443 -0.1127443 -0.1127443 -0.1127443 -0.1127443\n",
      " -0.1127443 -0.1127443 -0.1127443 -0.1127443 -0.1127443 -0.1127443\n",
      " -0.1127443 -0.1127443 -0.1127443 -0.1127443 -0.1127443 -0.1127443\n",
      " -0.1127443 -0.1127443 -0.1127443 -0.1127443 -0.1127443 -0.1127443\n",
      " -0.1127443 -0.1127443 -0.1127443 -0.1127443 -0.1127443 -0.1127443\n",
      " -0.1127443 -0.1127443 -0.1127443 -0.1127443 -0.1127443 -0.1127443\n",
      " -0.1127443 -0.1127443 -0.1127443 -0.1127443 -0.1127443 -0.1127443\n",
      " -0.1127443 -0.1127443 -0.1127443 -0.1127443 -0.1127443 -0.1127443\n",
      " -0.1127443 -0.1127443 -0.1127443 -0.1127443 -0.1127443 -0.1127443\n",
      " -0.1127443 -0.1127443 -0.1127443 -0.1127443 -0.1127443 -0.1127443\n",
      " -0.1127443 -0.1127443 -0.1127443 -0.1127443 -0.1127443 -0.1127443\n",
      " -0.1127443 -0.1127443 -0.1127443 -0.1127443 -0.1127443 -0.1127443\n",
      " -0.1127443 -0.1127443 -0.1127443 -0.1127443 -0.1127443 -0.1127443\n",
      " -0.1127443 -0.1127443 -0.1127443 -0.1127443 -0.1127443 -0.1127443\n",
      " -0.1127443 -0.1127443 -0.1127443 -0.1127443 -0.1127443 -0.1127443\n",
      " -0.1127443 -0.1127443 -0.1127443 -0.1127443 -0.1127443 -0.1127443\n",
      " -0.1127443 -0.1127443 -0.1127443 -0.1127443 -0.1127443 -0.1127443\n",
      " -0.1127443 -0.1127443 -0.1127443 -0.1127443 -0.1127443 -0.1127443\n",
      " -0.1127443 -0.1127443 -0.1127443 -0.1127443 -0.1127443 -0.1127443\n",
      " -0.1127443 -0.1127443 -0.1127443 -0.1127443 -0.1127443 -0.1127443\n",
      " -0.1127443 -0.1127443 -0.1127443 -0.1127443 -0.1127443 -0.1127443\n",
      " -0.1127443 -0.1127443 -0.1127443 -0.1127443 -0.1127443 -0.1127443\n",
      " -0.1127443 -0.1127443 -0.1127443 -0.1127443 -0.1127443 -0.1127443\n",
      " -0.1127443 -0.1127443 -0.1127443 -0.1127443 -0.1127443 -0.1127443\n",
      " -0.1127443 -0.1127443 -0.1127443 -0.1127443 -0.1127443 -0.1127443\n",
      " -0.1127443 -0.1127443 -0.1127443 -0.1127443 -0.1127443 -0.1127443\n",
      " -0.1127443 -0.1127443 -0.1127443 -0.1127443 -0.1127443 -0.1127443\n",
      " -0.1127443 -0.1127443 -0.1127443 -0.1127443 -0.1127443 -0.1127443\n",
      " -0.1127443 -0.1127443 -0.1127443 -0.1127443 -0.1127443 -0.1127443\n",
      " -0.1127443 -0.1127443 -0.1127443 -0.1127443 -0.1127443 -0.1127443\n",
      " -0.1127443 -0.1127443 -0.1127443 -0.1127443 -0.1127443 -0.1127443\n",
      " -0.1127443 -0.1127443 -0.1127443 -0.1127443 -0.1127443 -0.1127443\n",
      " -0.1127443 -0.1127443 -0.1127443 -0.1127443 -0.1127443 -0.1127443\n",
      " -0.1127443 -0.1127443 -0.1127443 -0.1127443 -0.1127443 -0.1127443\n",
      " -0.1127443 -0.1127443 -0.1127443 -0.1127443 -0.1127443 -0.1127443\n",
      " -0.1127443 -0.1127443 -0.1127443 -0.1127443 -0.1127443 -0.1127443\n",
      " -0.1127443 -0.1127443 -0.1127443 -0.1127443 -0.1127443 -0.1127443\n",
      " -0.1127443 -0.1127443 -0.1127443 -0.1127443 -0.1127443 -0.1127443\n",
      " -0.1127443 -0.1127443 -0.1127443 -0.1127443 -0.1127443 -0.1127443\n",
      " -0.1127443 -0.1127443 -0.1127443 -0.1127443 -0.1127443 -0.1127443\n",
      " -0.1127443 -0.1127443 -0.1127443 -0.1127443 -0.1127443 -0.1127443\n",
      " -0.1127443 -0.1127443 -0.1127443 -0.1127443 -0.1127443 -0.1127443\n",
      " -0.1127443 -0.1127443]\n"
     ]
    }
   ],
   "source": [
    "# Afficher les coefficients\n",
    "print(\"Coefficients du modèle : \", theta)"
   ]
  },
  {
   "cell_type": "markdown",
   "id": "30862bd5",
   "metadata": {},
   "source": [
    "### (d) Tracer la fonction Logit (matplotlib)"
   ]
  },
  {
   "cell_type": "code",
   "execution_count": 30,
   "id": "83348354",
   "metadata": {},
   "outputs": [
    {
     "name": "stderr",
     "output_type": "stream",
     "text": [
      "C:\\Users\\ayoub\\AppData\\Local\\Temp\\ipykernel_12688\\3724000327.py:7: RuntimeWarning: invalid value encountered in log\n",
      "  logit = np.log(x / (1 - x))\n"
     ]
    },
    {
     "data": {
      "image/png": "[encoded data removed]",
      "text/plain": [
       "<Figure size 800x600 with 1 Axes>"
      ]
     },
     "metadata": {},
     "output_type": "display_data"
    }
   ],
   "source": [
    "import numpy as np\n",
    "\n",
    "# Définir une plage de valeurs pour x\n",
    "x = np.linspace(-5, 5, 1000)\n",
    "\n",
    "# Calculer la fonction Sigmoid pour chaque valeur de x\n",
    "logit = np.log(x / (1 - x))\n",
    "\n",
    "# Tracer la courbe Sigmoid\n",
    "plt.figure(figsize=(8, 6))\n",
    "plt.plot(x, logit, label=\"Logit Function\", color=\"blue\")\n",
    "plt.xlabel(\"x\")\n",
    "plt.ylabel(\"logit(x)\")\n",
    "plt.title(\"Fonction Logit\")\n",
    "plt.grid(True)\n",
    "plt.legend()\n",
    "plt.show()"
   ]
  },
  {
   "cell_type": "markdown",
   "id": "d615652c",
   "metadata": {},
   "source": [
    "### (e) Tracer la fonction Sigmoid (matplotlib)"
   ]
  },
  {
   "cell_type": "code",
   "execution_count": 31,
   "id": "787c5399",
   "metadata": {},
   "outputs": [
    {
     "data": {
      "image/png": "[encoded data removed]",
      "text/plain": [
       "<Figure size 800x600 with 1 Axes>"
      ]
     },
     "metadata": {},
     "output_type": "display_data"
    }
   ],
   "source": [
    "import numpy as np\n",
    "import matplotlib.pyplot as plt\n",
    "\n",
    "# Créer un ensemble de valeurs pour x\n",
    "x = np.linspace(-5, 5, 1000)\n",
    "\n",
    "# Calculer la fonction Sigmoid\n",
    "sigmoid_ = 1 / (1 + np.exp(-x))\n",
    "\n",
    "# Tracer la fonction Sigmoid\n",
    "plt.figure(figsize=(8, 6))\n",
    "plt.plot(x, sigmoid_, label=\"Sigmoid Function\", color=\"blue\")\n",
    "plt.xlabel(\"x\")\n",
    "plt.ylabel(\"Sigmoid(x)\")\n",
    "plt.title(\"Fonction Sigmoid (Logistique)\")\n",
    "plt.grid(True)\n",
    "plt.legend()\n",
    "plt.show()"
   ]
  },
  {
   "cell_type": "markdown",
   "id": "4e813042",
   "metadata": {},
   "source": [
    "Les termes \"Logit\" et \"Sigmoid\" sont étroitement liés, mais ils désignent des concepts légèrement différents dans le contexte de la régression logistique. Voici la différence entre les deux :\n",
    "\n",
    "1. **Sigmoid (Fonction Sigmoid)** :\n",
    "   - La fonction Sigmoid, également connue sous le nom de fonction logistique, est une fonction mathématique utilisée pour transformer des valeurs réelles en valeurs dans l'intervalle [0, 1].\n",
    "   - La formule de la fonction Sigmoid est : 1 / (1 + e^(-x)), où \"x\" est la variable d'entrée.\n",
    "   - Elle est couramment utilisée dans la régression logistique pour modéliser la probabilité qu'une observation appartienne à une classe binaire. Elle prend des valeurs réelles en entrée et renvoie une probabilité.\n",
    "\n",
    "2. **Logit (Fonction Logit)** :\n",
    "   - Le logit est la fonction inverse de la fonction Sigmoid. Il transforme les probabilités (valeurs dans [0, 1]) en valeurs réelles.\n",
    "   - La formule de la fonction logit est : log(p / (1 - p)), où \"p\" est la probabilité d'appartenance à la classe positive.\n",
    "   - Le logit est utilisé pour effectuer une transformation linéaire sur les probabilités calculées par la régression logistique, ce qui permet de modéliser la relation entre les caractéristiques d'entrée et la variable de réponse.\n",
    "\n",
    "En résumé, la fonction Sigmoid est utilisée pour calculer les probabilités dans la régression logistique, tandis que le logit est utilisé pour effectuer une transformation inverse afin de modéliser la relation entre les caractéristiques et la probabilité. Ensemble, ils sont essentiels pour créer un modèle de régression logistique efficace pour la classification binaire."
   ]
  },
  {
   "cell_type": "markdown",
   "id": "e998a5e9",
   "metadata": {},
   "source": [
    "### (f) En utilisant les coefficients trouvés par l’algorithme :"
   ]
  },
  {
   "cell_type": "markdown",
   "id": "37c66aff",
   "metadata": {},
   "source": [
    "#### i. Ecrire l’expression mathématique pour faire la prédiction pour une personne ayant le glucose 197  "
   ]
  },
  {
   "cell_type": "markdown",
   "id": "2acbd51c",
   "metadata": {},
   "source": [
    "prédiction = sigmoid(theta[0] + theta[1] * 197)"
   ]
  },
  {
   "cell_type": "markdown",
   "id": "19cfca25",
   "metadata": {},
   "source": [
    "#### ii. Calculer la sortie de cette valeur (à l’aide de python) et comment l’interpréter"
   ]
  },
  {
   "cell_type": "markdown",
   "id": "0c7f7b1c",
   "metadata": {},
   "source": [
    "Vous pouvez calculer la sortie pour cette valeur en utilisant les coefficients trouvés et l'expression mathématique. Ensuite, interprétez le résultat. Si la prédiction est proche de 1, cela signifie que la personne a une forte probabilité d'être dans la classe positive (1), sinon, elle est dans la classe négative (0)."
   ]
  },
  {
   "cell_type": "code",
   "execution_count": 32,
   "id": "bb561c44",
   "metadata": {},
   "outputs": [
    {
     "name": "stdout",
     "output_type": "stream",
     "text": [
      "2.0187521928326e-10\n",
      "Prediction : 0.00%\n"
     ]
    }
   ],
   "source": [
    "prediction = sigmoid(theta[0] + theta[1] * 197)\n",
    "print(prediction)\n",
    "print(\"Prediction : {:.2f}%\".format(prediction * 100))"
   ]
  },
  {
   "cell_type": "markdown",
   "id": "d15c2be1",
   "metadata": {},
   "source": [
    "#### iii. A quelle classe appartient cette personne ?"
   ]
  },
  {
   "cell_type": "markdown",
   "id": "13e1afc7",
   "metadata": {},
   "source": [
    "Pour déterminer la classe, vous pouvez définir un seuil (par exemple, 0,5) et considérer que si la prédiction est supérieure à ce seuil, la personne appartient à la classe positive, sinon, à la classe négative."
   ]
  },
  {
   "cell_type": "code",
   "execution_count": 33,
   "id": "ff9872b4",
   "metadata": {},
   "outputs": [
    {
     "name": "stdout",
     "output_type": "stream",
     "text": [
      "la personne appartient à la classe négative\n"
     ]
    }
   ],
   "source": [
    "if(prediction >= 0.5):\n",
    "    print(\"la personne appartient à la classe positive\")\n",
    "else:\n",
    "    print(\"la personne appartient à la classe négative\")"
   ]
  },
  {
   "cell_type": "markdown",
   "id": "f80142a6",
   "metadata": {},
   "source": [
    "### (g) En utilisant les coefficients trouvés par l’algorithme :"
   ]
  },
  {
   "cell_type": "markdown",
   "id": "21c69374",
   "metadata": {},
   "source": [
    "#### i. Ecrire l’expression mathématique pour faire la prédiction pour un ensemble de personnes ayant le glucose respectivement [110,139,100,84,44]"
   ]
  },
  {
   "cell_type": "code",
   "execution_count": 34,
   "id": "c2e4279b",
   "metadata": {},
   "outputs": [],
   "source": [
    "def sigmoid_list(list):\n",
    "    for i in range(len(list)):\n",
    "        prediction = sigmoid(theta[0] + theta[1] * i)\n",
    "        print(\"Prediction : {} | {:.2f}%\".format(prediction, prediction * 100))"
   ]
  },
  {
   "cell_type": "markdown",
   "id": "a71124bb",
   "metadata": {},
   "source": [
    "#### ii. Calculer la sortie pour l’ensemble des valeurs (à l’aide de python) et interpréter le résultat obtenu"
   ]
  },
  {
   "cell_type": "code",
   "execution_count": 35,
   "id": "341b96e2",
   "metadata": {},
   "outputs": [
    {
     "name": "stdout",
     "output_type": "stream",
     "text": [
      "Prediction : 0.4718437439291694 | 47.18%\n",
      "Prediction : 0.4438654959293932 | 44.39%\n",
      "Prediction : 0.41623879077773784 | 41.62%\n",
      "Prediction : 0.38912845344019253 | 38.91%\n",
      "Prediction : 0.3626868148399018 | 36.27%\n"
     ]
    }
   ],
   "source": [
    "list = [110,139,100,84,44]\n",
    "sigmoid_list(list)"
   ]
  },
  {
   "cell_type": "markdown",
   "id": "63dbefbf",
   "metadata": {},
   "source": [
    "#### A quelle classe appartient chaque personne ?"
   ]
  },
  {
   "cell_type": "code",
   "execution_count": 36,
   "id": "9ed89cef",
   "metadata": {},
   "outputs": [],
   "source": [
    "def classe(list):\n",
    "    lists=[]\n",
    "    for i in range(len(list)):\n",
    "        prediction = sigmoid(theta[0] + theta[1] * i)\n",
    "        if(prediction >= 0.5):\n",
    "            print(\"la personne n:\", i, \" appartient à la classe positive\")\n",
    "            lists.append(1)\n",
    "        else:\n",
    "            print(\"la personne n:\", i, \" appartient à la classe négative\")\n",
    "            lists.append(0)\n",
    "    return lists"
   ]
  },
  {
   "cell_type": "code",
   "execution_count": 37,
   "id": "ed3bff92",
   "metadata": {},
   "outputs": [
    {
     "name": "stdout",
     "output_type": "stream",
     "text": [
      "la personne n: 0  appartient à la classe négative\n",
      "la personne n: 1  appartient à la classe négative\n",
      "la personne n: 2  appartient à la classe négative\n",
      "la personne n: 3  appartient à la classe négative\n",
      "la personne n: 4  appartient à la classe négative\n"
     ]
    },
    {
     "data": {
      "text/plain": [
       "[0, 0, 0, 0, 0]"
      ]
     },
     "execution_count": 37,
     "metadata": {},
     "output_type": "execute_result"
    }
   ],
   "source": [
    "list_pred = classe(list)\n",
    "list_pred"
   ]
  },
  {
   "cell_type": "markdown",
   "id": "ae1e550f",
   "metadata": {},
   "source": [
    "## 4. Evaluation  ́"
   ]
  },
  {
   "cell_type": "markdown",
   "id": "1a546d90",
   "metadata": {},
   "source": [
    "### (a) Soit la matrice de confusion suivante :"
   ]
  },
  {
   "attachments": {
    "image.png": {
     "image/png": "[encoded data removed]"
    }
   },
   "cell_type": "markdown",
   "id": "a87da03e",
   "metadata": {},
   "source": [
    "![image.png](attachment:image.png)\n",
    "\n",
    "Quelles sont les valeurs de FP, TP, FN, TN ?"
   ]
  },
  {
   "cell_type": "markdown",
   "id": "7234aa49",
   "metadata": {},
   "source": [
    "La matrice de confusion est généralement représentée comme suit :\n",
    "\n",
    "```\n",
    "[VP (Vrais Positifs)  FN (Faux Négatifs)]\n",
    "[FP (Faux Positifs)  VN (Vrais Négatifs)]\n",
    "```\n",
    "\n",
    "Dans la matrice de confusion que vous avez fournie :\n",
    "\n",
    "```\n",
    "[30  5]\n",
    "[ 8 40]\n",
    "```\n",
    "\n",
    "- FP (Faux Positifs) : 8\n",
    "- TP (Vrais Positifs) : 30\n",
    "- FN (Faux Négatifs) : 5\n",
    "- TN (Vrais Négatifs) : 40\n",
    "\n",
    "Ces valeurs représentent le nombre d'observations correctement classées ou mal classées par un modèle de classification binaire."
   ]
  },
  {
   "cell_type": "markdown",
   "id": "59c5c200",
   "metadata": {},
   "source": [
    "### (b) Soit les deux vecteurs suivants :"
   ]
  },
  {
   "cell_type": "markdown",
   "id": "f680f891",
   "metadata": {},
   "source": [
    "#### i. Trouver la matrice de confusion  ́equivalente aux vecteurs ci-dessus."
   ]
  },
  {
   "cell_type": "markdown",
   "id": "1165ec2d",
   "metadata": {},
   "source": [
    "![image.png](attachment:image.png)\n",
    "Pour trouver la matrice de confusion équivalente aux deux vecteurs `(y_real, y_predicted)`, vous pouvez suivre les étapes suivantes en comptant les valeurs correspondantes dans les vecteurs :\n",
    "\n",
    "Vecteur `y_real` : [0, 0, 0, 0, 0, 1, 1, 1, 1, 1, 1, 1]\n",
    "Vecteur `y_predicted` : [0, 0, 0, 0, 1, 1, 0, 1, 1, 0, 1, 1]\n",
    "\n",
    "La matrice de confusion sera la suivante :\n",
    "\n",
    "```\n",
    "[VP  FN]\n",
    "[FP  VN]\n",
    "```\n",
    "\n",
    "- VP (Vrais Positifs) : Le nombre d'observations pour lesquelles `y_real` et `y_predicted` sont tous deux égaux à 1. Dans ce cas, VP = 4.\n",
    "- FN (Faux Négatifs) : Le nombre d'observations pour lesquelles `y_real` est égal à 1 et `y_predicted` est égal à 0. FN = 2.\n",
    "- FP (Faux Positifs) : Le nombre d'observations pour lesquelles `y_real` est égal à 0 et `y_predicted` est égal à 1. FP = 1.\n",
    "- VN (Vrais Négatifs) : Le nombre d'observations pour lesquelles `y_real` et `y_predicted` sont tous deux égaux à 0. VN = 3.\n",
    "\n",
    "Donc, la matrice de confusion équivalente est la suivante :\n",
    "\n",
    "```\n",
    "[4 2]\n",
    "[1 3]\n",
    "```"
   ]
  },
  {
   "cell_type": "markdown",
   "id": "4a49e3ae",
   "metadata": {},
   "source": [
    "#### ii. Ecrire une fonction en python qui retourne une matrice de confusion. Tester cette fonction en utilisant les deux vecteurs de la question précédente"
   ]
  },
  {
   "cell_type": "code",
   "execution_count": 145,
   "id": "ebe10e5b",
   "metadata": {},
   "outputs": [],
   "source": [
    "def confusion_matrix1(y_real, y_predicted):\n",
    "    TP = sum((y_real[i] == 1) and (y_predicted[i] == 1) for i in range(len(y_real)))\n",
    "    TN = sum((y_real[i] == 0) and (y_predicted[i] == 0) for i in range(len(y_real)))\n",
    "    FP = sum((y_real[i] == 1) and (y_predicted[i] == 0) for i in range(len(y_real)))\n",
    "    FN = sum((y_real[i] == 0) and (y_predicted[i] == 1) for i in range(len(y_real)))\n",
    "    return np.array([[TN, FN], \n",
    "                     [FP, TP]])"
   ]
  },
  {
   "cell_type": "code",
   "execution_count": 146,
   "id": "d3397119",
   "metadata": {},
   "outputs": [
    {
     "name": "stdout",
     "output_type": "stream",
     "text": [
      "[[3 1]\n",
      " [2 4]]\n"
     ]
    }
   ],
   "source": [
    "y_real =      [0, 0, 0, 0, 1, 1, 1, 1, 1, 1]\n",
    "y_predicted = [0, 0, 0, 1, 1, 0, 1, 1, 0, 1]\n",
    "\n",
    "confusion = confusion_matrix1(y_real, y_predicted)\n",
    "print(confusion)"
   ]
  },
  {
   "cell_type": "code",
   "execution_count": 147,
   "id": "78c9b64b",
   "metadata": {},
   "outputs": [
    {
     "name": "stdout",
     "output_type": "stream",
     "text": [
      "[[3 1]\n",
      " [2 4]]\n"
     ]
    }
   ],
   "source": [
    "confusion = confusion_matrix(y_real,y_predicted)\n",
    "print(confusion)"
   ]
  },
  {
   "cell_type": "markdown",
   "id": "800c185a",
   "metadata": {},
   "source": [
    "### (c) Matrice de confusion du modèle :"
   ]
  },
  {
   "cell_type": "markdown",
   "id": "caab1d66",
   "metadata": {},
   "source": [
    "#### i. A l’aide de sklearn.metrics, afficher la matrice de confusion du modèle trouvé en Q3 "
   ]
  },
  {
   "cell_type": "code",
   "execution_count": 148,
   "id": "0944013c",
   "metadata": {},
   "outputs": [
    {
     "name": "stdout",
     "output_type": "stream",
     "text": [
      "la personne n: 0  appartient à la classe négative\n",
      "la personne n: 1  appartient à la classe négative\n",
      "la personne n: 2  appartient à la classe négative\n",
      "la personne n: 3  appartient à la classe négative\n",
      "la personne n: 4  appartient à la classe négative\n",
      "la personne n: 5  appartient à la classe négative\n",
      "la personne n: 6  appartient à la classe négative\n",
      "la personne n: 7  appartient à la classe négative\n",
      "la personne n: 8  appartient à la classe négative\n",
      "la personne n: 9  appartient à la classe négative\n",
      "la personne n: 10  appartient à la classe négative\n",
      "la personne n: 11  appartient à la classe négative\n",
      "la personne n: 12  appartient à la classe négative\n",
      "la personne n: 13  appartient à la classe négative\n",
      "la personne n: 14  appartient à la classe négative\n",
      "la personne n: 15  appartient à la classe négative\n",
      "la personne n: 16  appartient à la classe négative\n",
      "la personne n: 17  appartient à la classe négative\n",
      "la personne n: 18  appartient à la classe négative\n",
      "la personne n: 19  appartient à la classe négative\n",
      "la personne n: 20  appartient à la classe négative\n",
      "la personne n: 21  appartient à la classe négative\n",
      "la personne n: 22  appartient à la classe négative\n",
      "la personne n: 23  appartient à la classe négative\n",
      "la personne n: 24  appartient à la classe négative\n",
      "la personne n: 25  appartient à la classe négative\n",
      "la personne n: 26  appartient à la classe négative\n",
      "la personne n: 27  appartient à la classe négative\n",
      "la personne n: 28  appartient à la classe négative\n",
      "la personne n: 29  appartient à la classe négative\n",
      "la personne n: 30  appartient à la classe négative\n",
      "la personne n: 31  appartient à la classe négative\n",
      "la personne n: 32  appartient à la classe négative\n",
      "la personne n: 33  appartient à la classe négative\n",
      "la personne n: 34  appartient à la classe négative\n",
      "la personne n: 35  appartient à la classe négative\n",
      "la personne n: 36  appartient à la classe négative\n",
      "la personne n: 37  appartient à la classe négative\n",
      "la personne n: 38  appartient à la classe négative\n",
      "la personne n: 39  appartient à la classe négative\n",
      "la personne n: 40  appartient à la classe négative\n",
      "la personne n: 41  appartient à la classe négative\n",
      "la personne n: 42  appartient à la classe négative\n",
      "la personne n: 43  appartient à la classe négative\n",
      "la personne n: 44  appartient à la classe négative\n",
      "la personne n: 45  appartient à la classe négative\n",
      "la personne n: 46  appartient à la classe négative\n",
      "la personne n: 47  appartient à la classe négative\n",
      "la personne n: 48  appartient à la classe négative\n",
      "la personne n: 49  appartient à la classe négative\n",
      "la personne n: 50  appartient à la classe négative\n",
      "la personne n: 51  appartient à la classe négative\n",
      "la personne n: 52  appartient à la classe négative\n",
      "la personne n: 53  appartient à la classe négative\n",
      "la personne n: 54  appartient à la classe négative\n",
      "la personne n: 55  appartient à la classe négative\n",
      "la personne n: 56  appartient à la classe négative\n",
      "la personne n: 57  appartient à la classe négative\n",
      "la personne n: 58  appartient à la classe négative\n",
      "la personne n: 59  appartient à la classe négative\n",
      "la personne n: 60  appartient à la classe négative\n",
      "la personne n: 61  appartient à la classe négative\n",
      "la personne n: 62  appartient à la classe négative\n",
      "la personne n: 63  appartient à la classe négative\n",
      "la personne n: 64  appartient à la classe négative\n",
      "la personne n: 65  appartient à la classe négative\n",
      "la personne n: 66  appartient à la classe négative\n",
      "la personne n: 67  appartient à la classe négative\n",
      "la personne n: 68  appartient à la classe négative\n",
      "la personne n: 69  appartient à la classe négative\n",
      "la personne n: 70  appartient à la classe négative\n",
      "la personne n: 71  appartient à la classe négative\n",
      "la personne n: 72  appartient à la classe négative\n",
      "la personne n: 73  appartient à la classe négative\n",
      "la personne n: 74  appartient à la classe négative\n",
      "la personne n: 75  appartient à la classe négative\n",
      "la personne n: 76  appartient à la classe négative\n",
      "la personne n: 77  appartient à la classe négative\n",
      "la personne n: 78  appartient à la classe négative\n",
      "la personne n: 79  appartient à la classe négative\n",
      "la personne n: 80  appartient à la classe négative\n",
      "la personne n: 81  appartient à la classe négative\n",
      "la personne n: 82  appartient à la classe négative\n",
      "la personne n: 83  appartient à la classe négative\n",
      "la personne n: 84  appartient à la classe négative\n",
      "la personne n: 85  appartient à la classe négative\n",
      "la personne n: 86  appartient à la classe négative\n",
      "la personne n: 87  appartient à la classe négative\n",
      "la personne n: 88  appartient à la classe négative\n",
      "la personne n: 89  appartient à la classe négative\n",
      "la personne n: 90  appartient à la classe négative\n",
      "la personne n: 91  appartient à la classe négative\n",
      "la personne n: 92  appartient à la classe négative\n",
      "la personne n: 93  appartient à la classe négative\n",
      "la personne n: 94  appartient à la classe négative\n",
      "la personne n: 95  appartient à la classe négative\n",
      "la personne n: 96  appartient à la classe négative\n",
      "la personne n: 97  appartient à la classe négative\n",
      "la personne n: 98  appartient à la classe négative\n",
      "la personne n: 99  appartient à la classe négative\n",
      "la personne n: 100  appartient à la classe négative\n",
      "la personne n: 101  appartient à la classe négative\n",
      "la personne n: 102  appartient à la classe négative\n",
      "la personne n: 103  appartient à la classe négative\n",
      "la personne n: 104  appartient à la classe négative\n",
      "la personne n: 105  appartient à la classe négative\n",
      "la personne n: 106  appartient à la classe négative\n",
      "la personne n: 107  appartient à la classe négative\n",
      "la personne n: 108  appartient à la classe négative\n",
      "la personne n: 109  appartient à la classe négative\n",
      "la personne n: 110  appartient à la classe négative\n",
      "la personne n: 111  appartient à la classe négative\n",
      "la personne n: 112  appartient à la classe négative\n",
      "la personne n: 113  appartient à la classe négative\n",
      "la personne n: 114  appartient à la classe négative\n",
      "la personne n: 115  appartient à la classe négative\n",
      "la personne n: 116  appartient à la classe négative\n",
      "la personne n: 117  appartient à la classe négative\n",
      "la personne n: 118  appartient à la classe négative\n",
      "la personne n: 119  appartient à la classe négative\n",
      "la personne n: 120  appartient à la classe négative\n",
      "la personne n: 121  appartient à la classe négative\n",
      "la personne n: 122  appartient à la classe négative\n",
      "la personne n: 123  appartient à la classe négative\n",
      "la personne n: 124  appartient à la classe négative\n",
      "la personne n: 125  appartient à la classe négative\n",
      "la personne n: 126  appartient à la classe négative\n",
      "la personne n: 127  appartient à la classe négative\n",
      "la personne n: 128  appartient à la classe négative\n",
      "la personne n: 129  appartient à la classe négative\n",
      "la personne n: 130  appartient à la classe négative\n",
      "la personne n: 131  appartient à la classe négative\n",
      "la personne n: 132  appartient à la classe négative\n",
      "la personne n: 133  appartient à la classe négative\n",
      "la personne n: 134  appartient à la classe négative\n",
      "la personne n: 135  appartient à la classe négative\n",
      "la personne n: 136  appartient à la classe négative\n",
      "la personne n: 137  appartient à la classe négative\n",
      "la personne n: 138  appartient à la classe négative\n",
      "la personne n: 139  appartient à la classe négative\n",
      "la personne n: 140  appartient à la classe négative\n",
      "la personne n: 141  appartient à la classe négative\n",
      "la personne n: 142  appartient à la classe négative\n",
      "la personne n: 143  appartient à la classe négative\n",
      "la personne n: 144  appartient à la classe négative\n",
      "la personne n: 145  appartient à la classe négative\n",
      "la personne n: 146  appartient à la classe négative\n",
      "la personne n: 147  appartient à la classe négative\n",
      "la personne n: 148  appartient à la classe négative\n",
      "la personne n: 149  appartient à la classe négative\n",
      "la personne n: 150  appartient à la classe négative\n",
      "la personne n: 151  appartient à la classe négative\n",
      "la personne n: 152  appartient à la classe négative\n",
      "la personne n: 153  appartient à la classe négative\n"
     ]
    },
    {
     "data": {
      "text/plain": [
       "[0,\n",
       " 0,\n",
       " 0,\n",
       " 0,\n",
       " 0,\n",
       " 0,\n",
       " 0,\n",
       " 0,\n",
       " 0,\n",
       " 0,\n",
       " 0,\n",
       " 0,\n",
       " 0,\n",
       " 0,\n",
       " 0,\n",
       " 0,\n",
       " 0,\n",
       " 0,\n",
       " 0,\n",
       " 0,\n",
       " 0,\n",
       " 0,\n",
       " 0,\n",
       " 0,\n",
       " 0,\n",
       " 0,\n",
       " 0,\n",
       " 0,\n",
       " 0,\n",
       " 0,\n",
       " 0,\n",
       " 0,\n",
       " 0,\n",
       " 0,\n",
       " 0,\n",
       " 0,\n",
       " 0,\n",
       " 0,\n",
       " 0,\n",
       " 0,\n",
       " 0,\n",
       " 0,\n",
       " 0,\n",
       " 0,\n",
       " 0,\n",
       " 0,\n",
       " 0,\n",
       " 0,\n",
       " 0,\n",
       " 0,\n",
       " 0,\n",
       " 0,\n",
       " 0,\n",
       " 0,\n",
       " 0,\n",
       " 0,\n",
       " 0,\n",
       " 0,\n",
       " 0,\n",
       " 0,\n",
       " 0,\n",
       " 0,\n",
       " 0,\n",
       " 0,\n",
       " 0,\n",
       " 0,\n",
       " 0,\n",
       " 0,\n",
       " 0,\n",
       " 0,\n",
       " 0,\n",
       " 0,\n",
       " 0,\n",
       " 0,\n",
       " 0,\n",
       " 0,\n",
       " 0,\n",
       " 0,\n",
       " 0,\n",
       " 0,\n",
       " 0,\n",
       " 0,\n",
       " 0,\n",
       " 0,\n",
       " 0,\n",
       " 0,\n",
       " 0,\n",
       " 0,\n",
       " 0,\n",
       " 0,\n",
       " 0,\n",
       " 0,\n",
       " 0,\n",
       " 0,\n",
       " 0,\n",
       " 0,\n",
       " 0,\n",
       " 0,\n",
       " 0,\n",
       " 0,\n",
       " 0,\n",
       " 0,\n",
       " 0,\n",
       " 0,\n",
       " 0,\n",
       " 0,\n",
       " 0,\n",
       " 0,\n",
       " 0,\n",
       " 0,\n",
       " 0,\n",
       " 0,\n",
       " 0,\n",
       " 0,\n",
       " 0,\n",
       " 0,\n",
       " 0,\n",
       " 0,\n",
       " 0,\n",
       " 0,\n",
       " 0,\n",
       " 0,\n",
       " 0,\n",
       " 0,\n",
       " 0,\n",
       " 0,\n",
       " 0,\n",
       " 0,\n",
       " 0,\n",
       " 0,\n",
       " 0,\n",
       " 0,\n",
       " 0,\n",
       " 0,\n",
       " 0,\n",
       " 0,\n",
       " 0,\n",
       " 0,\n",
       " 0,\n",
       " 0,\n",
       " 0,\n",
       " 0,\n",
       " 0,\n",
       " 0,\n",
       " 0,\n",
       " 0,\n",
       " 0,\n",
       " 0,\n",
       " 0,\n",
       " 0,\n",
       " 0,\n",
       " 0,\n",
       " 0,\n",
       " 0]"
      ]
     },
     "execution_count": 148,
     "metadata": {},
     "output_type": "execute_result"
    }
   ],
   "source": [
    "list_pred = classe(X_test)\n",
    "list_pred"
   ]
  },
  {
   "cell_type": "code",
   "execution_count": 149,
   "id": "10491a51",
   "metadata": {},
   "outputs": [],
   "source": [
    "def to_nbr(y):\n",
    "    list=[]\n",
    "    for i in range(len(y)):\n",
    "        if y[i]>=0.5:\n",
    "            list.append(1)\n",
    "        else:\n",
    "            list.append(0)\n",
    "    return list"
   ]
  },
  {
   "cell_type": "code",
   "execution_count": 150,
   "id": "f80e2265",
   "metadata": {},
   "outputs": [],
   "source": [
    "y_true =  to_nbr(y_test)"
   ]
  },
  {
   "cell_type": "code",
   "execution_count": 151,
   "id": "8f831e92",
   "metadata": {},
   "outputs": [
    {
     "name": "stdout",
     "output_type": "stream",
     "text": [
      "[[99 55]\n",
      " [ 0  0]]\n"
     ]
    }
   ],
   "source": [
    "from sklearn.metrics import confusion_matrix\n",
    "\n",
    "# Supposons que y_true soit le vecteur réel et y_pred soit le vecteur prédit par votre modèle \"from scratch\"\n",
    "confusion = confusion_matrix(list_pred,y_true)\n",
    "print(confusion)"
   ]
  },
  {
   "cell_type": "markdown",
   "id": "8f78a353",
   "metadata": {},
   "source": [
    "#### ii. Retourner la meme matrice en utilisant votre fonction"
   ]
  },
  {
   "cell_type": "code",
   "execution_count": 152,
   "id": "b176b9cd",
   "metadata": {},
   "outputs": [
    {
     "name": "stdout",
     "output_type": "stream",
     "text": [
      "[[99 55]\n",
      " [ 0  0]]\n"
     ]
    }
   ],
   "source": [
    "confusion = confusion_matrix1(list_pred,y_true)\n",
    "print(confusion)"
   ]
  },
  {
   "cell_type": "code",
   "execution_count": 153,
   "id": "15d488a7",
   "metadata": {},
   "outputs": [
    {
     "data": {
      "text/plain": [
       "(768,)"
      ]
     },
     "execution_count": 153,
     "metadata": {},
     "output_type": "execute_result"
    }
   ],
   "source": [
    "X.shape"
   ]
  },
  {
   "cell_type": "markdown",
   "id": "379d3137",
   "metadata": {},
   "source": [
    "### (d) Que signifie accuracy metric ?"
   ]
  },
  {
   "attachments": {
    "image.png": {
     "image/png": "[encoded data removed]"
    }
   },
   "cell_type": "markdown",
   "id": "a0182a6a",
   "metadata": {},
   "source": [
    "La formule de accuracy : ![image.png](attachment:image.png) \n",
    "pour une classification binaire"
   ]
  },
  {
   "cell_type": "markdown",
   "id": "71cd2790",
   "metadata": {},
   "source": [
    "#### i. Pour la matrice de confusion en 4.c, calculer accuracy du modèle trouvé en Q3"
   ]
  },
  {
   "cell_type": "code",
   "execution_count": 157,
   "id": "d83f631f",
   "metadata": {},
   "outputs": [],
   "source": [
    "def accuracy(confusion):\n",
    "    TP = confusion[1,1]\n",
    "    TN = confusion[0,0]\n",
    "    FN = confusion[0,1]\n",
    "    FP = confusion[1,0]\n",
    "    return (TP+TN)/(TP+TN+FP+FN)"
   ]
  },
  {
   "cell_type": "code",
   "execution_count": 158,
   "id": "75d8b15a",
   "metadata": {},
   "outputs": [
    {
     "data": {
      "text/plain": [
       "0.6428571428571429"
      ]
     },
     "execution_count": 158,
     "metadata": {},
     "output_type": "execute_result"
    }
   ],
   "source": [
    "accuracy(confusion)"
   ]
  },
  {
   "cell_type": "markdown",
   "id": "e2e8f051",
   "metadata": {},
   "source": [
    "#### ii. A l’aide de sklearn.metrics.accuracy_score, calculer accuracy du modèle trouvé en Q3"
   ]
  },
  {
   "cell_type": "code",
   "execution_count": 156,
   "id": "272da1d7",
   "metadata": {},
   "outputs": [
    {
     "data": {
      "text/plain": [
       "0.6428571428571429"
      ]
     },
     "execution_count": 156,
     "metadata": {},
     "output_type": "execute_result"
    }
   ],
   "source": [
    "from sklearn.metrics import accuracy_score\n",
    "\n",
    "accuracy = accuracy_score(y_true, list_pred)\n",
    "accuracy"
   ]
  },
  {
   "cell_type": "markdown",
   "id": "d18682c6",
   "metadata": {},
   "source": [
    "# +++++++++++++++++++++++++++++++++++++++++++++++++++++++++++++"
   ]
  },
  {
   "cell_type": "markdown",
   "id": "324f6311",
   "metadata": {},
   "source": [
    "# -----------------------------------------From Scratch [34.9%]-----------------------------------------"
   ]
  },
  {
   "cell_type": "markdown",
   "id": "355f9ab9",
   "metadata": {},
   "source": [
    "### 1.1. Importez les bibliothèques nécessaires :"
   ]
  },
  {
   "cell_type": "markdown",
   "id": "166bae98",
   "metadata": {},
   "source": [
    "Vous aurez besoin de la bibliothèque NumPy pour les opérations mathématiques et Pandas pour charger et manipuler les données. Assurez-vous d'avoir ces bibliothèques installées."
   ]
  },
  {
   "cell_type": "code",
   "execution_count": 251,
   "id": "c9359af1",
   "metadata": {},
   "outputs": [],
   "source": [
    "import numpy as np\n",
    "import pandas as pd"
   ]
  },
  {
   "cell_type": "markdown",
   "id": "3ec3b70d",
   "metadata": {},
   "source": [
    "### 1.2. Chargez le jeu de données :"
   ]
  },
  {
   "cell_type": "markdown",
   "id": "6edb86b3",
   "metadata": {},
   "source": [
    "Utilisez Pandas pour charger le jeu de données \"diabetes.csv\" dans un DataFrame."
   ]
  },
  {
   "cell_type": "code",
   "execution_count": 252,
   "id": "5b6e2357",
   "metadata": {},
   "outputs": [],
   "source": [
    "df = pd.read_csv(\"data/diabetes.csv\")"
   ]
  },
  {
   "cell_type": "markdown",
   "id": "7cc66fbf",
   "metadata": {},
   "source": [
    "### 1.3. Sélectionnez les données pertinentes :"
   ]
  },
  {
   "cell_type": "markdown",
   "id": "9d48830f",
   "metadata": {},
   "source": [
    "Sélectionnez les colonnes \"Glucose\" comme variable indépendante (caractéristique) et \"outcome\" comme variable dépendante (étiquette) du DataFrame."
   ]
  },
  {
   "cell_type": "code",
   "execution_count": 253,
   "id": "7ae5765d",
   "metadata": {},
   "outputs": [],
   "source": [
    "X = df[\"Glucose\"].values\n",
    "y = df[\"Outcome\"].values"
   ]
  },
  {
   "cell_type": "markdown",
   "id": "dc4ac574",
   "metadata": {},
   "source": [
    "### 1.4. Définissez la fonction de régression logistique :"
   ]
  },
  {
   "cell_type": "markdown",
   "id": "011c544f",
   "metadata": {},
   "source": [
    "Créez une fonction de régression logistique qui prend en compte les paramètres du modèle, les données d'entrée et renvoie les prédictions."
   ]
  },
  {
   "cell_type": "code",
   "execution_count": 254,
   "id": "f4d14764",
   "metadata": {},
   "outputs": [],
   "source": [
    "def logistic_regression(X, theta):\n",
    "    z = np.dot(X, theta)\n",
    "    return 1 / (1 + np.exp(-z))"
   ]
  },
  {
   "cell_type": "markdown",
   "id": "fbafd61a",
   "metadata": {},
   "source": [
    "La fonction `logistic_regression` que vous avez présentée est une fonction qui implémente la régression logistique dans le contexte d'une tâche de classification binaire (deux classes : 0 ou 1). Voici une explication de cette fonction :\n",
    "\n",
    "- `X` : C'est la matrice des caractéristiques (features) de vos données. Chaque ligne de cette matrice correspond à une observation (par exemple, un ensemble de données médicales pour un patient), et chaque colonne correspond à une caractéristique (par exemple, \"Glucose\" dans votre cas). Cette matrice est de dimension (m x n), où \"m\" est le nombre d'observations et \"n\" est le nombre de caractéristiques.\n",
    "\n",
    "- `theta` : C'est un vecteur de paramètres du modèle de régression logistique. Chaque caractéristique a un poids associé dans ce vecteur qui sera optimisé pendant l'apprentissage du modèle.\n",
    "\n",
    "La fonction réalise les étapes suivantes :\n",
    "\n",
    "1. Calcul de la valeur \"z\" : La première étape consiste à calculer la valeur \"z\" en effectuant un produit scalaire (dot product) entre la matrice des caractéristiques \"X\" et le vecteur des paramètres \"theta\". Le produit scalaire est une somme pondérée des caractéristiques, où chaque caractéristique est multipliée par son poids correspondant dans \"theta\". Cela représente la combinaison linéaire des caractéristiques.\n",
    "\n",
    "2. Calcul de la probabilité : Ensuite, la fonction calcule la probabilité que la variable dépendante (la classe) soit égale à 1 en utilisant la fonction logistique (sigmoid) : 1 / (1 + exp(-z)). La fonction sigmoid transforme la valeur \"z\" en une valeur comprise entre 0 et 1. Plus précisément, elle transforme la combinaison linéaire des caractéristiques en une probabilité.\n",
    "\n",
    "- Lorsque z est grand et positif, la probabilité tend vers 1.\n",
    "- Lorsque z est grand et négatif, la probabilité tend vers 0.\n",
    "- Lorsque z est proche de zéro, la probabilité est proche de 0.5.\n",
    "\n",
    "Cela signifie que la régression logistique attribue une probabilité à chaque observation d'appartenir à la classe positive (dans votre cas, \"outcome\" égal à 1).\n",
    "\n",
    "En résumé, la fonction `logistic_regression` calcule la probabilité qu'une observation donnée appartienne à la classe positive (1) en fonction de ses caractéristiques et des paramètres du modèle. Cette probabilité est ensuite utilisée pour prendre des décisions de classification, par exemple, en choisissant la classe qui a la probabilité la plus élevée."
   ]
  },
  {
   "cell_type": "markdown",
   "id": "8afb1c15",
   "metadata": {},
   "source": [
    "### 1.5. Définissez la fonction de coût (log-perte) :"
   ]
  },
  {
   "cell_type": "markdown",
   "id": "15c218f2",
   "metadata": {},
   "source": [
    "Créez une fonction de coût pour évaluer la performance du modèle."
   ]
  },
  {
   "cell_type": "code",
   "execution_count": 255,
   "id": "ece6c768",
   "metadata": {},
   "outputs": [],
   "source": [
    "def cost_function(y_true, y_pred):\n",
    "    m = len(y_true)\n",
    "    cost = (-1 / m) * np.sum(y_true * np.log(y_pred) + (1 - y_true) * np.log(1 - y_pred))\n",
    "    return cost"
   ]
  },
  {
   "cell_type": "markdown",
   "id": "b72596cf",
   "metadata": {},
   "source": [
    "### 1.6. Initialisez les paramètres du modèle :"
   ]
  },
  {
   "cell_type": "markdown",
   "id": "6dc2e75f",
   "metadata": {},
   "source": [
    "Initialisez les paramètres du modèle (poids) de manière aléatoire ou à zéro."
   ]
  },
  {
   "cell_type": "code",
   "execution_count": 256,
   "id": "1d4679bd",
   "metadata": {},
   "outputs": [],
   "source": [
    "theta = np.zeros(X.shape[0])"
   ]
  },
  {
   "cell_type": "markdown",
   "id": "b946f9c9",
   "metadata": {},
   "source": [
    "### 1.7. Entraînez le modèle :"
   ]
  },
  {
   "cell_type": "markdown",
   "id": "3180a0bd",
   "metadata": {},
   "source": [
    "Utilisez la descente de gradient pour optimiser les paramètres du modèle en minimisant la fonction de coût."
   ]
  },
  {
   "cell_type": "code",
   "execution_count": 257,
   "id": "84cf2455",
   "metadata": {},
   "outputs": [],
   "source": [
    "def gradient_descent(X, y, theta, learning_rate, num_iterations):\n",
    "    m = len(y)\n",
    "    for i in range(num_iterations):\n",
    "        y_pred = logistic_regression(X, theta)\n",
    "        gradient = np.dot(X.T, (y_pred - y)) / m   # une implémentation de la mise à jour des paramètres du modèle à l'aide de la descente de gradient\n",
    "        theta -= learning_rate * gradient\n",
    "    return theta"
   ]
  },
  {
   "cell_type": "markdown",
   "id": "ad61dc9b",
   "metadata": {},
   "source": [
    "Cette ligne de code est en réalité . Permettez-moi de clarifier ce que fait cette ligne :\n",
    "\n",
    "La formule de mise à jour des paramètres dans la descente de gradient pour la régression logistique est basée sur le gradient de la fonction de coût. La ligne de code en question calcule le gradient de la fonction de coût par rapport aux paramètres (poids) du modèle.\n",
    "\n",
    "Voici une explication plus détaillée :\n",
    "\n",
    "- `X` est la matrice des caractéristiques, où chaque ligne représente un exemple et chaque colonne représente une caractéristique. `X.T` est la transposée de cette matrice, ce qui signifie que chaque ligne représente maintenant une caractéristique et chaque colonne représente un exemple.\n",
    "\n",
    "- `y_pred` est le vecteur des prédictions faites par le modèle de régression logistique pour chaque exemple dans l'ensemble de données.\n",
    "\n",
    "- `y` est le vecteur des étiquettes réelles (0 ou 1) pour chaque exemple dans l'ensemble de données.\n",
    "\n",
    "- `m` est le nombre total d'exemples dans l'ensemble de données.\n",
    "\n",
    "La ligne de code effectue la multiplication matricielle entre la transposée de `X` et la différence entre les prédictions (`y_pred`) et les étiquettes réelles (`y`). Ensuite, la division par `m` calcule la moyenne du gradient pour chaque paramètre du modèle.\n",
    "\n",
    "Essentiellement, cette ligne de code calcule comment chaque paramètre du modèle (poids) doit être mis à jour pour minimiser la fonction de coût. Cela fait partie de la procédure de la descente de gradient, où les poids du modèle sont ajustés itérativement pour converger vers une solution optimale.\n",
    "\n",
    "En résumé, cette ligne de code calcule le gradient de la fonction de coût par rapport aux paramètres du modèle, ce qui est essentiel pour mettre à jour ces paramètres lors de l'apprentissage du modèle de régression logistique."
   ]
  },
  {
   "cell_type": "markdown",
   "id": "346473cc",
   "metadata": {},
   "source": [
    "La formule en question peut être réécrite sous forme mathématique comme suit :\n",
    "\n",
    "La descente de gradient pour la régression logistique consiste à mettre à jour itérativement les paramètres du modèle (représentés par le vecteur θ) en utilisant le gradient de la fonction de coût (J(θ)) par rapport à ces paramètres. Le vecteur θ contient les poids associés à chaque caractéristique.\n",
    "\n",
    "La formule pour la mise à jour des paramètres est la suivante :\n",
    "\n",
    "θ := θ - (α / m) * X^T * (hθ(X) - y)\n",
    "\n",
    "- θ représente le vecteur de poids du modèle.\n",
    "- α est le taux d'apprentissage (learning rate), qui contrôle la taille des pas que nous faisons lors de la descente de gradient.\n",
    "- m est le nombre total d'exemples dans l'ensemble de données.\n",
    "- X est la matrice des caractéristiques, où chaque ligne représente un exemple et chaque colonne représente une caractéristique. X^T est la transposée de cette matrice.\n",
    "- hθ(X) est la fonction logistique, qui est l'hypothèse du modèle pour la régression logistique. Elle calcule les probabilités de l'étiquette positive (1) pour chaque exemple.\n",
    "- y est le vecteur des étiquettes réelles (0 ou 1) pour chaque exemple.\n",
    "\n",
    "La formule calcule le gradient de la fonction de coût par rapport aux paramètres θ, puis ajuste les paramètres en soustrayant ce gradient multiplié par le taux d'apprentissage (α) et divisé par le nombre d'exemples (m).\n",
    "\n",
    "En utilisant la notation de la question initiale :\n",
    "\n",
    "gradient = (1 / m) * X^T * (y_pred - y)\n",
    "\n",
    "J'espère que cette reformulation sous forme mathématique clarifie la signification de la ligne de code."
   ]
  },
  {
   "cell_type": "markdown",
   "id": "71932227",
   "metadata": {},
   "source": [
    "La formule de base pour la mise à jour des paramètres (poids) dans la descente de gradient pour la régression logistique est la suivante :\n",
    "\n",
    "θ := θ - α * (∂J(θ) / ∂θ)\n",
    "\n",
    "Où :\n",
    "- θ représente le vecteur de poids du modèle.\n",
    "- α est le taux d'apprentissage (learning rate).\n",
    "- J(θ) est la fonction de coût que vous essayez de minimiser.\n",
    "- (∂J(θ) / ∂θ) est le gradient de la fonction de coût par rapport aux paramètres θ.\n",
    "\n",
    "En utilisant cette formule, vous itérez sur votre ensemble de données, calculez le gradient de la fonction de coût par rapport aux paramètres actuels, et ajustez les paramètres en fonction du taux d'apprentissage.\n",
    "\n",
    "Pour la régression logistique, la fonction de coût J(θ) est généralement définie comme la log-perte (log loss) ou entropie croisée (cross-entropy) en fonction des prédictions du modèle et des étiquettes réelles.\n",
    "\n",
    "La formule que j'ai fournie dans ma réponse précédente était une mise en œuvre plus détaillée de cette mise à jour des paramètres spécifiquement pour la régression logistique en utilisant la log-perte. La formule mathématique générale est celle que je viens de donner ci-dessus."
   ]
  },
  {
   "cell_type": "markdown",
   "id": "189f400a",
   "metadata": {},
   "source": [
    "La transposée de X, notée X^T, est utilisée dans la descente de gradient pour la régression logistique (et dans de nombreuses autres techniques d'apprentissage automatique) pour les raisons suivantes :\n",
    "\n",
    "1. **Dimensionnalité des données** : Les données sont généralement organisées de telle sorte que chaque exemple (chaque ligne) est représenté par un vecteur de caractéristiques, et chaque caractéristique est une colonne distincte. Dans ce format, la multiplication matricielle entre la matrice des caractéristiques (X) et le vecteur de poids (θ) nécessite que X^T soit utilisée pour s'assurer que les dimensions sont correctes. La transposée de X permet de s'assurer que les opérations mathématiques sont compatibles.\n",
    "\n",
    "2. **Multiplication de matrices** : Pour calculer le gradient de la fonction de coût par rapport aux poids, il est nécessaire de multiplier la matrice des caractéristiques (X) par la différence entre les prédictions du modèle (hθ(X)) et les étiquettes réelles (y). Pour que cette opération de multiplication soit valide, il faut que le nombre de colonnes de X soit égal au nombre de lignes de la différence (hθ(X) - y), ce qui est réalisé par la transposée X^T.\n",
    "\n",
    "3. **Efficacité numérique** : La transposée de X permet également d'optimiser les calculs, car elle permet de mettre en forme les données de manière à effectuer des opérations mathématiques plus efficaces. Dans de nombreux cas, les bibliothèques de calcul numérique, telles que NumPy, sont optimisées pour tirer parti de cette structure de données pour accélérer les calculs.\n",
    "\n",
    "En résumé, la transposée de X (X^T) est utilisée pour s'assurer que les opérations de multiplication matricielle dans la descente de gradient sont compatibles et que les calculs sont effectués de manière efficace et numériquement stable. C'est une étape importante dans le processus d'apprentissage du modèle de régression logistique."
   ]
  },
  {
   "cell_type": "markdown",
   "id": "786c8a64",
   "metadata": {},
   "source": [
    "La notation \"hθ(X)\" représente l'hypothèse (ou la fonction hypothèse) de la régression logistique. En termes simples, c'est la fonction qui prend les caractéristiques d'un exemple (X) en entrée et produit une estimation de la probabilité que cet exemple appartienne à la classe positive (généralement étiquetée comme \"1\" dans la régression logistique).\n",
    "\n",
    "La formule générale de l'hypothèse pour la régression logistique est la suivante :\n",
    "\n",
    "hθ(X) = 1 / (1 + e^(-z))\n",
    "\n",
    "Où :\n",
    "- hθ(X) est la probabilité que l'exemple X appartienne à la classe positive.\n",
    "- θ est le vecteur de poids (paramètres) du modèle.\n",
    "- X représente le vecteur de caractéristiques de l'exemple.\n",
    "- e est la base du logarithme naturel (environ 2.71828).\n",
    "- z est le produit scalaire de θ et X, c'est-à-dire z = θ^T * X, où ^T représente la transposée.\n",
    "\n",
    "La fonction logistique, également appelée fonction sigmoïde, est utilisée pour transformer le produit scalaire θ^T * X en une valeur comprise entre 0 et 1. Cette valeur représente la probabilité que l'exemple X appartienne à la classe positive.\n",
    "\n",
    "La régression logistique utilise ensuite cette probabilité pour prendre des décisions de classification. Par exemple, si hθ(X) est supérieur à 0,5, l'exemple est généralement classé comme appartenant à la classe positive (1), sinon il est classé comme n'appartenant pas à la classe positive (0).\n",
    "\n",
    "En résumé, \"hθ(X)\" est la fonction qui modélise la relation entre les caractéristiques (X) et les probabilités de classe dans la régression logistique. Elle est essentielle pour les prédictions de classification de la régression logistique."
   ]
  },
  {
   "cell_type": "markdown",
   "id": "b2aac715",
   "metadata": {},
   "source": [
    "La formule de la descente de gradient pour la régression logistique n'inclut pas explicitement une somme, mais elle repose sur la somme implicite qui se produit lors du calcul du gradient de la fonction de coût pour tous les exemples de l'ensemble de données. La somme est inhérente à la manière dont le gradient est calculé pour chaque paramètre du modèle."
   ]
  },
  {
   "cell_type": "code",
   "execution_count": 258,
   "id": "c1301d27",
   "metadata": {},
   "outputs": [
    {
     "name": "stderr",
     "output_type": "stream",
     "text": [
      "C:\\Users\\ayoub\\AppData\\Local\\Temp\\ipykernel_964\\2348299280.py:3: RuntimeWarning: overflow encountered in exp\n",
      "  return 1 / (1 + np.exp(-z))\n"
     ]
    }
   ],
   "source": [
    "num_iterations = 1000\n",
    "learning_rate = 0.01\n",
    "theta = gradient_descent(X, y, theta, learning_rate, num_iterations)"
   ]
  },
  {
   "cell_type": "markdown",
   "id": "9f23a1d5",
   "metadata": {},
   "source": [
    "### 1.8. Faites des prédiction :"
   ]
  },
  {
   "cell_type": "markdown",
   "id": "c4bed012",
   "metadata": {},
   "source": [
    "Utilisez les paramètres entraînés pour faire des prédictions sur de nouvelles données."
   ]
  },
  {
   "cell_type": "code",
   "execution_count": 259,
   "id": "97b628a4",
   "metadata": {},
   "outputs": [],
   "source": [
    "y_pred3 = logistic_regression(X, theta[0])"
   ]
  },
  {
   "cell_type": "code",
   "execution_count": 260,
   "id": "4eddf6f2",
   "metadata": {},
   "outputs": [
    {
     "name": "stdout",
     "output_type": "stream",
     "text": [
      "dim[y_pred3] =  (768,)\n"
     ]
    }
   ],
   "source": [
    "# Affichez les prédictions\n",
    "print(\"dim[y_pred3] = \", y_pred3.shape)"
   ]
  },
  {
   "cell_type": "code",
   "execution_count": 261,
   "id": "59c4caa4",
   "metadata": {},
   "outputs": [
    {
     "name": "stdout",
     "output_type": "stream",
     "text": [
      "Précision du modèle : 34.90%\n"
     ]
    }
   ],
   "source": [
    "# Prédiction\n",
    "predictions = (y_pred3 >= 0.5).astype(int)\n",
    "\n",
    "# Évaluation du modèle\n",
    "accuracy = np.mean(predictions == y)\n",
    "print(\"Précision du modèle : {:.2f}%\".format(accuracy * 100))"
   ]
  },
  {
   "cell_type": "code",
   "execution_count": 262,
   "id": "eb24d56d",
   "metadata": {},
   "outputs": [
    {
     "name": "stdout",
     "output_type": "stream",
     "text": [
      "dim[predictions] =  (768,)\n"
     ]
    }
   ],
   "source": [
    "print(\"dim[predictions] = \", predictions.shape)"
   ]
  },
  {
   "cell_type": "code",
   "execution_count": 263,
   "id": "f2a756eb",
   "metadata": {},
   "outputs": [
    {
     "data": {
      "image/png": "[encoded data removed]",
      "text/plain": [
       "<Figure size 640x480 with 1 Axes>"
      ]
     },
     "metadata": {},
     "output_type": "display_data"
    }
   ],
   "source": [
    "import matplotlib.pyplot as plt\n",
    "\n",
    "# Visualisation\n",
    "plt.scatter(X, y, c='b', marker='o', label='Classe 0')\n",
    "plt.scatter(X, predictions, c='r', marker='x', label='Prédiction')\n",
    "plt.xlabel(\"Glucose\")\n",
    "plt.ylabel(\"Outcome\")\n",
    "plt.legend()\n",
    "plt.show()"
   ]
  },
  {
   "cell_type": "markdown",
   "id": "20f3b4c3",
   "metadata": {},
   "source": [
    "### 1.9. Évaluez le modèle :"
   ]
  },
  {
   "cell_type": "markdown",
   "id": "504b7658",
   "metadata": {},
   "source": [
    "Vous pouvez évaluer le modèle en calculant des métriques de performance, telles que la précision, le rappel, le F1-score, et en traçant la courbe ROC si cela est applicable à votre problème. Vous devrez également définir un seuil pour décider de la classe prédite (0 ou 1)."
   ]
  },
  {
   "cell_type": "code",
   "execution_count": 264,
   "id": "5266311e",
   "metadata": {},
   "outputs": [],
   "source": [
    "def predict(y_pred, threshold=0.5):\n",
    "    return (y_pred >= threshold).astype(int)\n",
    "\n",
    "threshold = 0.5\n",
    "y_predicted = predict(y_pred, threshold)"
   ]
  },
  {
   "cell_type": "code",
   "execution_count": 265,
   "id": "4b56be2f",
   "metadata": {},
   "outputs": [
    {
     "data": {
      "text/plain": [
       "array([0, 0, 0, 0, 0, 0, 0, 0, 1, 1, 0, 1, 1, 0, 0, 0, 0, 0, 1, 0, 0, 0,\n",
       "       0, 0, 0, 1, 0, 0, 0, 0, 1, 1, 1, 1, 0, 1, 1, 0, 0, 0, 0, 0, 0, 0,\n",
       "       0, 1, 0, 0, 0, 1, 0, 1, 0, 0, 0, 0, 1, 0, 0, 1, 1, 0, 0, 0, 0, 1,\n",
       "       0, 0, 0, 1, 1, 0, 0, 0, 0, 0, 0, 0, 0, 0, 1, 0, 0, 0, 0, 1, 1, 0,\n",
       "       0, 0, 0, 0, 0, 0, 0, 1, 0, 0, 1, 0, 1, 0, 0, 1, 1, 0, 0, 1, 0, 0,\n",
       "       0, 1, 0, 1, 0, 0, 1, 0, 0, 0, 0, 0, 0, 0, 1, 0, 0, 1, 0, 1, 1, 1,\n",
       "       0, 0, 1, 0, 0, 1, 1, 0, 0, 0, 0, 0, 0, 0, 0, 0, 0, 1, 0, 0, 1, 0])"
      ]
     },
     "execution_count": 265,
     "metadata": {},
     "output_type": "execute_result"
    }
   ],
   "source": [
    "y_predicted"
   ]
  },
  {
   "cell_type": "markdown",
   "id": "19a73668",
   "metadata": {},
   "source": [
    "Vous pouvez ensuite comparer y_predicted avec les étiquettes réelles y pour évaluer la performance du modèle."
   ]
  },
  {
   "cell_type": "markdown",
   "id": "3cbe98d3",
   "metadata": {},
   "source": [
    "Vous pouvez évaluer la performance du modèle en utilisant des métriques telles que la précision, le rappel, le F1-score, etc.\n",
    "\n",
    "   Cependant, gardez à l'esprit que la mise en œuvre \"from scratch\" de la régression logistique peut être plus complexe et exigeante en termes de gestion des détails mathématiques et de manipulation des données que l'utilisation de bibliothèques telles que Scikit-Learn. Il est recommandé de comprendre en profondeur les concepts mathématiques sous-jacents à la régression logistique avant de créer votre propre modèle \"from scratch\"."
   ]
  },
  {
   "cell_type": "markdown",
   "id": "8c53759e",
   "metadata": {},
   "source": [
    "#  ------------------------------------------From Scratch [59%]------------------------------------------"
   ]
  },
  {
   "cell_type": "code",
   "execution_count": 266,
   "id": "0b59fec3",
   "metadata": {},
   "outputs": [
    {
     "name": "stdout",
     "output_type": "stream",
     "text": [
      "Iteration 0, Coût : 0.6931471805599452\n",
      "Iteration 100, Coût : 9.953030263895933\n",
      "Iteration 200, Coût : 24.61013574912703\n",
      "Iteration 300, Coût : 1.9092748439655698\n",
      "Iteration 400, Coût : 26.512892607217328\n",
      "Iteration 500, Coût : 13.95428100509843\n",
      "Iteration 600, Coût : nan\n",
      "Iteration 700, Coût : 17.790355890051373\n",
      "Iteration 800, Coût : 0.9517721329109007\n"
     ]
    },
    {
     "name": "stderr",
     "output_type": "stream",
     "text": [
      "C:\\Users\\ayoub\\AppData\\Local\\Temp\\ipykernel_964\\686905952.py:14: RuntimeWarning: divide by zero encountered in log\n",
      "  cost = -(1/m) * np.sum(y * np.log(y_pred) + (1 - y) * np.log(1 - y_pred))\n",
      "C:\\Users\\ayoub\\AppData\\Local\\Temp\\ipykernel_964\\686905952.py:14: RuntimeWarning: invalid value encountered in multiply\n",
      "  cost = -(1/m) * np.sum(y * np.log(y_pred) + (1 - y) * np.log(1 - y_pred))\n"
     ]
    },
    {
     "name": "stdout",
     "output_type": "stream",
     "text": [
      "Iteration 900, Coût : nan\n"
     ]
    }
   ],
   "source": [
    "import numpy as np\n",
    "import matplotlib.pyplot as plt\n",
    "\n",
    "df = pd.read_csv(\"data/diabetes.csv\")\n",
    "X = df[\"Glucose\"].values\n",
    "y = df[\"Outcome\"].values\n",
    "\n",
    "# Définition des fonctions (comme expliqué précédemment)\n",
    "def sigmoid(z):\n",
    "    return 1 / (1 + np.exp(-z))\n",
    "\n",
    "def compute_cost(y, y_pred):\n",
    "    m = len(y)\n",
    "    cost = -(1/m) * np.sum(y * np.log(y_pred) + (1 - y) * np.log(1 - y_pred))\n",
    "    return cost\n",
    "\n",
    "def predict(X, w, b):\n",
    "    z = np.dot(X, w) + b\n",
    "    y_pred = sigmoid(z)\n",
    "    return y_pred\n",
    "\n",
    "# Entraînement du modèle\n",
    "w = 0  # Poids initial\n",
    "b = 0  # Biais initial\n",
    "\n",
    "learning_rate = 0.01\n",
    "num_iterations = 1000\n",
    "\n",
    "for i in range(num_iterations):\n",
    "    z = np.dot(X, w) + b\n",
    "    y_pred = sigmoid(z)\n",
    "    \n",
    "    dw = (1/len(y)) * np.dot(X.T, (y_pred - y))\n",
    "    db = (1/len(y)) * np.sum(y_pred - y)\n",
    "    \n",
    "    w -= learning_rate * dw\n",
    "    b -= learning_rate * db\n",
    "    \n",
    "    cost = compute_cost(y, y_pred)\n",
    "    if i % 100 == 0:\n",
    "        print(f\"Iteration {i}, Coût : {cost}\")"
   ]
  },
  {
   "cell_type": "code",
   "execution_count": 267,
   "id": "0a2afd7e",
   "metadata": {},
   "outputs": [
    {
     "name": "stdout",
     "output_type": "stream",
     "text": [
      "Précision du modèle : 64.97%\n"
     ]
    }
   ],
   "source": [
    "# Prédiction\n",
    "y_pred1 = logistic_regression(X, w) # probabilities = predict(np.array(X), w, b)\n",
    "predictions = (y_pred1 >= 0.5).astype(int)\n",
    "\n",
    "# Évaluation du modèle\n",
    "accuracy = np.mean(predictions == y)\n",
    "print(\"Précision du modèle : {:.2f}%\".format(accuracy * 100))"
   ]
  },
  {
   "cell_type": "code",
   "execution_count": 268,
   "id": "f38ca9e5",
   "metadata": {},
   "outputs": [
    {
     "data": {
      "text/plain": [
       "array([1.75308958e-42, 1.04328030e-24, 2.33898832e-52, 7.75988300e-26,\n",
       "       2.22487263e-39, 1.87141794e-33, 9.84818547e-23, 3.58349866e-33,\n",
       "       2.62492942e-56, 5.40682930e-36, 9.22549207e-32, 3.99093756e-48,\n",
       "       6.06781368e-40, 4.74470592e-54, 1.46334878e-47, 6.11440395e-29,\n",
       "       5.10384962e-34, 6.47737314e-31, 8.70852797e-30, 3.58349866e-33,\n",
       "       2.82361968e-36, 1.17082122e-28, 5.02636577e-56, 2.66539397e-34,\n",
       "       4.51321894e-41, 5.40682930e-36, 3.35691672e-42, 4.29302585e-28,\n",
       "       1.23087368e-41, 9.77314469e-34, 1.76655026e-31, 2.64508432e-45,\n",
       "       1.48590701e-25, 1.10521252e-26, 3.79622579e-35, 8.70852797e-30,\n",
       "       1.16189985e-39, 1.66755900e-29, 4.05245979e-26, 4.81784785e-32,\n",
       "       1.64224303e-51, 2.99123813e-38, 1.24032465e-30, 5.68415035e-49,\n",
       "       1.38134787e-45, 1.64224303e-51, 6.42801713e-42, 9.29632782e-21,\n",
       "       8.70852797e-30, 2.37504495e-30, 8.70852797e-30, 3.19313785e-29,\n",
       "       1.48590701e-25, 2.20791964e-50, 4.78113702e-43, 2.53535345e-21,\n",
       "       1.73973146e-53, 6.11440395e-29, 6.42801713e-42, 2.37504495e-30,\n",
       "       1.99773311e-24, 2.99123813e-38, 3.85474644e-13, 1.65485261e-40,\n",
       "       6.86188926e-33, 1.17082122e-28, 1.76655026e-31, 1.76655026e-31,\n",
       "       1.57411487e-27, 6.42801713e-42, 6.11440395e-29, 6.06781368e-40,\n",
       "       2.82361968e-36, 4.02158103e-37, 5.14303832e-23, 5.00000000e-01,\n",
       "       3.21765561e-18, 1.57411487e-27, 1.09679107e-37, 2.51603468e-32,\n",
       "       1.31395401e-32, 1.32404289e-21, 3.82537421e-24, 3.19313785e-29,\n",
       "       2.22487263e-39, 9.22549207e-32, 1.24032465e-30, 6.11440395e-29,\n",
       "       4.26031403e-39, 6.47737314e-31, 2.68585957e-23, 1.98251087e-35,\n",
       "       1.40264201e-23, 1.56212049e-38, 8.64217110e-41, 2.35694768e-41,\n",
       "       1.10521252e-26, 9.29632782e-21, 5.77177427e-27, 3.79622579e-35,\n",
       "       1.02744179e-46, 2.49686310e-43, 5.40682930e-36, 1.40264201e-23,\n",
       "       1.04328030e-24, 2.82361968e-36, 8.22053271e-28, 2.35694768e-41,\n",
       "       3.82537421e-24, 1.57411487e-27, 5.68415035e-49, 1.85715819e-44,\n",
       "       7.75988300e-26, 3.61101370e-22, 7.21384162e-46, 6.42801713e-42,\n",
       "       1.03533076e-35, 9.84818547e-23, 4.29302585e-28, 1.17082122e-28,\n",
       "       1.96740461e-46, 4.81784785e-32, 6.47737314e-31, 5.72779476e-38,\n",
       "       1.31395401e-32, 1.48590701e-25, 1.39195422e-34, 5.10384962e-34,\n",
       "       9.77314469e-34, 2.37504495e-30, 1.55021752e-49, 3.79622579e-35,\n",
       "       1.08843379e-48, 1.99773311e-24, 8.22053271e-28, 5.40682930e-36,\n",
       "       6.11440395e-29, 5.77177427e-27, 4.02158103e-37, 2.37504495e-30,\n",
       "       7.70075458e-37, 1.24032465e-30, 3.38269201e-31, 3.38269201e-31,\n",
       "       3.55619327e-44, 1.66755900e-29, 8.28365213e-17, 1.24032465e-30,\n",
       "       3.35691672e-42, 4.05245979e-26, 4.26031403e-39, 6.86188926e-33,\n",
       "       9.69867571e-45, 6.80960333e-44, 9.08543569e-54, 1.30394200e-43,\n",
       "       1.17082122e-28, 1.76655026e-31, 1.48590701e-25, 1.02744179e-46,\n",
       "       2.49686310e-43, 1.66755900e-29, 6.86188926e-33, 6.11440395e-29,\n",
       "       1.09679107e-37, 4.54787262e-30, 1.75308958e-42, 1.39195422e-34,\n",
       "       9.22549207e-32, 4.81784785e-32, 1.66755900e-29, 1.56212049e-38,\n",
       "       2.84530017e-25, 5.14303832e-23, 6.91457665e-22, 3.14466138e-51,\n",
       "       1.04328030e-24, 4.02158103e-37, 4.51321894e-41, 2.10019860e-37,\n",
       "       2.84530017e-25, 2.66539397e-34, 5.00000000e-01, 2.53535345e-21,\n",
       "       1.65485261e-40, 1.84300709e-55, 8.57631986e-52, 7.70075458e-37,\n",
       "       1.76655026e-31, 6.06781368e-40, 4.81784785e-32, 1.98251087e-35,\n",
       "       1.38134787e-45, 8.15789425e-39, 1.04328030e-24, 2.64508432e-45,\n",
       "       2.37504495e-30, 6.47737314e-31, 1.76655026e-31, 1.75308958e-42,\n",
       "       1.31395401e-32, 1.16189985e-39, 3.38269201e-31, 1.17082122e-28,\n",
       "       8.70852797e-30, 4.81784785e-32, 5.02636577e-56, 1.96740461e-46,\n",
       "       8.22053271e-28, 1.22149472e-52, 1.40264201e-23, 3.35691672e-42,\n",
       "       3.14466138e-51, 3.16880692e-40, 2.51603468e-32, 2.49686310e-43,\n",
       "       1.76655026e-31, 5.40682930e-36, 1.04328030e-24, 2.51603468e-32,\n",
       "       1.15304645e-50, 2.64508432e-45, 2.66539397e-34, 8.64217110e-41,\n",
       "       6.11440395e-29, 2.84530017e-25, 3.19313785e-29, 1.96740461e-46,\n",
       "       2.62492942e-56, 9.77314469e-34, 8.64217110e-41, 1.56212049e-38,\n",
       "       5.14303832e-23, 3.79622579e-35, 1.32404289e-21, 5.68415035e-49,\n",
       "       8.57631986e-52, 3.14466138e-51, 5.36563058e-47, 4.54787262e-30,\n",
       "       2.11632448e-26, 2.11632448e-26, 6.06781368e-40, 2.66539397e-34,\n",
       "       6.42801713e-42, 1.22149472e-52, 3.79622579e-35, 2.80210438e-47,\n",
       "       1.03533076e-35, 4.81784785e-32, 1.24032465e-30, 4.02158103e-37,\n",
       "       4.05245979e-26, 5.44834436e-25, 1.10521252e-26, 1.31395401e-32,\n",
       "       4.81784785e-32, 6.86188926e-33, 3.52909594e-55, 1.85715819e-44,\n",
       "       1.29400628e-54, 1.65485261e-40, 1.57411487e-27, 8.64217110e-41,\n",
       "       1.98251087e-35, 8.22053271e-28, 1.16189985e-39, 7.70075458e-37,\n",
       "       1.66755900e-29, 6.42801713e-42, 3.19313785e-29, 3.38269201e-31,\n",
       "       3.79622579e-35, 9.29632782e-21, 1.24032465e-30, 6.11440395e-29,\n",
       "       1.24032465e-30, 4.54787262e-30, 6.86188926e-33, 3.38269201e-31,\n",
       "       6.42801713e-42, 4.02158103e-37, 2.99123813e-38, 3.76729947e-46,\n",
       "       3.38269201e-31, 4.26031403e-39, 1.85715819e-44, 2.66539397e-34,\n",
       "       8.22053271e-28, 3.38269201e-31, 9.84818547e-23, 6.47737314e-31,\n",
       "       7.70075458e-37, 7.70075458e-37, 3.76729947e-46, 2.49686310e-43,\n",
       "       6.42801713e-42, 2.82361968e-36, 6.11440395e-29, 2.51603468e-32,\n",
       "       7.64207670e-48, 2.35694768e-41, 1.88578717e-22, 3.58349866e-33,\n",
       "       4.78113702e-43, 1.39195422e-34, 3.76729947e-46, 2.22487263e-39,\n",
       "       7.70075458e-37, 1.03533076e-35, 2.68585957e-23, 1.24032465e-30,\n",
       "       1.85715819e-44, 1.31395401e-32, 1.76655026e-31, 2.51603468e-32,\n",
       "       1.17082122e-28, 4.47882931e-52, 3.58349866e-33, 1.84300709e-55,\n",
       "       4.02158103e-37, 2.51603468e-32, 1.03533076e-35, 1.30394200e-43,\n",
       "       2.51603468e-32, 5.06495953e-45, 3.79622579e-35, 3.14466138e-51,\n",
       "       1.66755900e-29, 2.37504495e-30, 5.10384962e-34, 2.84530017e-25,\n",
       "       1.64224303e-51, 1.24032465e-30, 1.57411487e-27, 2.80210438e-47,\n",
       "       9.77314469e-34, 3.58349866e-33, 1.30394200e-43, 6.02157841e-51,\n",
       "       2.10019860e-37, 1.57411487e-27, 5.00000000e-01, 3.79622579e-35,\n",
       "       1.57411487e-27, 2.82361968e-36, 6.06781368e-40, 1.87141794e-33,\n",
       "       1.17082122e-28, 5.00000000e-01, 1.10521252e-26, 2.22487263e-39,\n",
       "       6.16135195e-18, 4.05245979e-26, 4.05245979e-26, 2.80210438e-47,\n",
       "       5.40682930e-36, 4.02158103e-37, 1.48590701e-25, 5.02636577e-56,\n",
       "       4.74470592e-54, 2.64508432e-45, 8.70852797e-30, 6.42801713e-42,\n",
       "       3.35691672e-42, 1.17082122e-28, 1.03533076e-35, 3.19313785e-29,\n",
       "       1.40264201e-23, 2.99123813e-38, 1.55021752e-49, 5.10384962e-34,\n",
       "       1.99773311e-24, 2.37504495e-30, 3.79622579e-35, 3.16880692e-40,\n",
       "       2.24195579e-28, 2.84530017e-25, 9.69867571e-45, 5.77177427e-27,\n",
       "       6.47737314e-31, 2.37504495e-30, 1.76655026e-31, 4.05245979e-26,\n",
       "       5.40682930e-36, 2.66539397e-34, 1.87141794e-33, 2.37504495e-30,\n",
       "       2.35694768e-41, 6.11440395e-29, 6.11440395e-29, 1.46334878e-47,\n",
       "       1.09679107e-37, 1.87141794e-33, 2.64508432e-45, 1.47458476e-36,\n",
       "       8.22053271e-28, 1.09679107e-37, 7.32504647e-24, 3.52909594e-55,\n",
       "       1.57411487e-27, 2.22487263e-39, 4.26031403e-39, 4.85484056e-21,\n",
       "       3.99093756e-48, 1.98251087e-35, 3.58349866e-33, 3.19313785e-29,\n",
       "       2.62492942e-56, 2.96844563e-49, 1.66755900e-29, 2.51603468e-32,\n",
       "       4.51321894e-41, 4.51321894e-41, 1.16189985e-39, 1.55021752e-49,\n",
       "       4.29302585e-28, 2.35694768e-41, 3.82537421e-24, 4.02158103e-37,\n",
       "       2.66539397e-34, 3.01420565e-27, 1.66755900e-29, 3.58349866e-33,\n",
       "       2.49686310e-43, 1.22149472e-52, 3.01420565e-27, 8.57631986e-52,\n",
       "       8.15789425e-39, 1.57411487e-27, 1.17082122e-28, 7.75988300e-26,\n",
       "       2.68585957e-23, 6.06781368e-40, 4.05245979e-26, 1.65485261e-40,\n",
       "       3.16880692e-40, 3.35691672e-42, 4.29302585e-28, 6.47737314e-31,\n",
       "       4.74470592e-54, 3.82537421e-24, 9.77314469e-34, 3.38269201e-31,\n",
       "       9.77314469e-34, 1.64224303e-51, 6.11440395e-29, 1.57411487e-27,\n",
       "       4.54787262e-30, 1.39195422e-34, 7.32504647e-24, 1.56212049e-38,\n",
       "       2.11632448e-26, 2.66539397e-34, 6.11440395e-29, 4.22785148e-50,\n",
       "       8.15789425e-39, 5.44834436e-25, 1.75308958e-42, 1.56212049e-38,\n",
       "       1.39195422e-34, 9.29632782e-21, 1.32404289e-21, 1.48590701e-25,\n",
       "       3.58349866e-33, 1.03533076e-35, 1.32404289e-21, 4.29302585e-28,\n",
       "       1.39195422e-34, 3.55619327e-44, 2.35694768e-41, 2.22487263e-39,\n",
       "       2.66539397e-34, 4.26031403e-39, 6.86188926e-33, 2.22487263e-39,\n",
       "       2.37504495e-30, 6.86188926e-33, 2.82361968e-36, 5.72779476e-38,\n",
       "       2.64508432e-45, 1.98251087e-35, 1.04328030e-24, 1.99773311e-24,\n",
       "       1.23087368e-41, 8.15789425e-39, 6.06781368e-40, 1.55021752e-49,\n",
       "       1.17082122e-28, 1.84300709e-55, 3.82537421e-24, 7.75988300e-26,\n",
       "       1.17082122e-28, 5.40682930e-36, 2.68585957e-23, 1.46334878e-47,\n",
       "       9.22549207e-32, 1.40264201e-23, 9.62477416e-56, 3.55619327e-44,\n",
       "       9.77314469e-34, 1.99773311e-24, 5.00000000e-01, 3.01420565e-27,\n",
       "       8.22053271e-28, 6.91457665e-22, 1.64224303e-51, 2.10019860e-37,\n",
       "       1.99773311e-24, 1.39195422e-34, 1.99773311e-24, 6.06781368e-40,\n",
       "       2.11632448e-26, 2.11632448e-26, 1.17082122e-28, 1.02744179e-46,\n",
       "       1.23087368e-41, 5.40682930e-36, 3.61101370e-22, 4.02158103e-37,\n",
       "       6.52710811e-20, 1.03533076e-35, 6.86188926e-33, 2.10019860e-37,\n",
       "       5.40682930e-36, 2.84530017e-25, 4.29302585e-28, 1.87141794e-33,\n",
       "       9.77314469e-34, 4.81784785e-32, 3.79622579e-35, 6.47737314e-31,\n",
       "       5.44834436e-25, 2.11632448e-26, 1.88578717e-22, 5.72779476e-38,\n",
       "       2.37504495e-30, 8.28365213e-17, 1.47458476e-36, 4.02158103e-37,\n",
       "       6.11440395e-29, 7.70075458e-37, 4.05245979e-26, 1.99773311e-24,\n",
       "       1.48590701e-25, 3.33133783e-53, 1.73973146e-53, 1.09679107e-37,\n",
       "       5.36563058e-47, 4.74470592e-54, 1.87141794e-33, 1.99773311e-24,\n",
       "       6.86188926e-33, 1.48590701e-25, 1.99773311e-24, 1.03533076e-35,\n",
       "       4.29302585e-28, 9.22549207e-32, 8.70852797e-30, 1.04328030e-24,\n",
       "       5.40682930e-36, 1.37082233e-56, 2.84530017e-25, 1.17082122e-28,\n",
       "       2.11632448e-26, 1.57411487e-27, 1.17082122e-28, 1.10521252e-26,\n",
       "       3.55619327e-44, 7.26923140e-35, 9.84818547e-23, 2.10019860e-37,\n",
       "       4.81784785e-32, 2.24195579e-28, 4.51321894e-41, 2.66539397e-34,\n",
       "       3.38269201e-31, 5.10384962e-34, 2.99123813e-38, 2.62492942e-56,\n",
       "       2.49686310e-43, 1.76655026e-31, 7.26923140e-35, 6.11440395e-29,\n",
       "       1.03533076e-35, 5.77177427e-27, 4.51321894e-41, 8.70852797e-30,\n",
       "       2.20791964e-50, 2.53535345e-21, 4.81784785e-32, 2.51603468e-32,\n",
       "       5.72779476e-38, 7.32504647e-24, 1.98251087e-35, 9.08543569e-54,\n",
       "       1.24984819e-19, 7.75988300e-26, 1.55021752e-49, 1.76655026e-31,\n",
       "       3.38269201e-31, 8.22053271e-28, 1.03533076e-35, 4.78113702e-43,\n",
       "       2.33898832e-52, 1.03533076e-35, 8.57631986e-52, 1.10521252e-26,\n",
       "       1.30394200e-43, 4.81784785e-32, 1.24032465e-30, 8.09573308e-50,\n",
       "       3.99093756e-48, 2.37504495e-30, 1.16189985e-39, 1.24032465e-30,\n",
       "       9.77314469e-34, 6.52710811e-20, 2.51603468e-32, 2.66539397e-34,\n",
       "       2.51603468e-32, 1.10521252e-26, 2.33898832e-52, 3.01420565e-27,\n",
       "       3.38269201e-31, 4.05245979e-26, 5.40682930e-36, 5.72779476e-38,\n",
       "       7.70075458e-37, 3.01420565e-27, 6.86188926e-33, 1.66755900e-29,\n",
       "       4.81784785e-32, 7.70075458e-37, 1.10521252e-26, 4.54787262e-30,\n",
       "       4.54787262e-30, 3.01420565e-27, 4.29302585e-28, 6.11440395e-29,\n",
       "       1.66755900e-29, 7.70075458e-37, 3.35691672e-42, 4.05245979e-26,\n",
       "       8.70852797e-30, 5.06495953e-45, 7.64207670e-48, 3.14466138e-51,\n",
       "       4.26031403e-39, 6.47737314e-31, 2.11632448e-26, 9.77314469e-34,\n",
       "       1.98251087e-35, 1.39195422e-34, 1.24032465e-30, 1.85715819e-44,\n",
       "       3.19313785e-29, 1.39195422e-34, 1.47458476e-36, 2.68585957e-23,\n",
       "       1.96740461e-46, 7.15887390e-57, 7.64207670e-48, 1.23087368e-41,\n",
       "       3.58349866e-33, 2.51603468e-32, 1.23087368e-41, 4.81784785e-32,\n",
       "       2.24195579e-28, 3.55619327e-44, 2.80210438e-47, 1.17082122e-28,\n",
       "       6.52710811e-20, 1.98251087e-35, 2.11632448e-26, 9.62477416e-56,\n",
       "       9.69867571e-45, 5.77177427e-27, 7.26923140e-35, 3.19313785e-29,\n",
       "       1.58620134e-16, 1.96740461e-46, 1.57411487e-27, 5.40682930e-36,\n",
       "       4.26031403e-39, 4.02158103e-37, 2.10019860e-37, 6.47737314e-31,\n",
       "       3.16880692e-40, 2.35694768e-41, 6.47737314e-31, 2.64508432e-45,\n",
       "       7.26923140e-35, 4.02158103e-37, 4.05245979e-26, 8.64217110e-41,\n",
       "       2.08419560e-48, 1.17082122e-28, 1.47458476e-36, 5.10384962e-34,\n",
       "       3.79622579e-35, 5.40682930e-36, 3.99093756e-48, 4.02158103e-37,\n",
       "       9.22549207e-32, 2.68585957e-23, 3.58349866e-33, 1.47458476e-36,\n",
       "       5.36563058e-47, 5.77177427e-27, 2.64508432e-45, 2.82361968e-36,\n",
       "       4.02158103e-37, 1.56212049e-38, 1.66755900e-29, 1.73973146e-53,\n",
       "       1.55021752e-49, 3.01420565e-27, 3.38269201e-31, 4.29302585e-28,\n",
       "       3.82537421e-24, 6.86188926e-33, 9.15519606e-43, 9.77314469e-34,\n",
       "       4.81784785e-32, 2.51603468e-32, 1.87141794e-33, 1.65485261e-40,\n",
       "       4.22785148e-50, 1.10521252e-26, 2.10019860e-37, 1.39195422e-34,\n",
       "       8.09573308e-50, 1.24032465e-30, 2.37504495e-30, 1.57411487e-27,\n",
       "       2.82361968e-36, 4.58279238e-19, 1.17082122e-28, 1.66755900e-29,\n",
       "       1.39195422e-34, 1.66755900e-29, 1.76655026e-31, 3.16880692e-40,\n",
       "       6.80960333e-44, 6.11440395e-29, 3.35691672e-42, 1.40264201e-23,\n",
       "       1.73973146e-53, 1.96740461e-46, 4.26031403e-39, 7.26923140e-35,\n",
       "       3.38269201e-31, 8.57631986e-52, 3.55619327e-44, 7.70075458e-37,\n",
       "       2.22487263e-39, 1.98251087e-35, 1.24032465e-30, 2.47783761e-54,\n",
       "       1.48590701e-25, 1.08843379e-48, 7.75988300e-26, 3.19313785e-29,\n",
       "       3.79622579e-35, 7.26923140e-35, 2.82361968e-36, 5.77177427e-27])"
      ]
     },
     "execution_count": 268,
     "metadata": {},
     "output_type": "execute_result"
    }
   ],
   "source": [
    "y_pred1"
   ]
  },
  {
   "cell_type": "code",
   "execution_count": 269,
   "id": "4fb2ba91",
   "metadata": {},
   "outputs": [
    {
     "data": {
      "text/plain": [
       "array([0, 0, 0, 0, 0, 0, 0, 0, 0, 0, 0, 0, 0, 0, 0, 0, 0, 0, 0, 0, 0, 0,\n",
       "       0, 0, 0, 0, 0, 0, 0, 0, 0, 0, 0, 0, 0, 0, 0, 0, 0, 0, 0, 0, 0, 0,\n",
       "       0, 0, 0, 0, 0, 0, 0, 0, 0, 0, 0, 0, 0, 0, 0, 0, 0, 0, 0, 0, 0, 0,\n",
       "       0, 0, 0, 0, 0, 0, 0, 0, 0, 1, 0, 0, 0, 0, 0, 0, 0, 0, 0, 0, 0, 0,\n",
       "       0, 0, 0, 0, 0, 0, 0, 0, 0, 0, 0, 0, 0, 0, 0, 0, 0, 0, 0, 0, 0, 0,\n",
       "       0, 0, 0, 0, 0, 0, 0, 0, 0, 0, 0, 0, 0, 0, 0, 0, 0, 0, 0, 0, 0, 0,\n",
       "       0, 0, 0, 0, 0, 0, 0, 0, 0, 0, 0, 0, 0, 0, 0, 0, 0, 0, 0, 0, 0, 0,\n",
       "       0, 0, 0, 0, 0, 0, 0, 0, 0, 0, 0, 0, 0, 0, 0, 0, 0, 0, 0, 0, 0, 0,\n",
       "       0, 0, 0, 0, 0, 0, 1, 0, 0, 0, 0, 0, 0, 0, 0, 0, 0, 0, 0, 0, 0, 0,\n",
       "       0, 0, 0, 0, 0, 0, 0, 0, 0, 0, 0, 0, 0, 0, 0, 0, 0, 0, 0, 0, 0, 0,\n",
       "       0, 0, 0, 0, 0, 0, 0, 0, 0, 0, 0, 0, 0, 0, 0, 0, 0, 0, 0, 0, 0, 0,\n",
       "       0, 0, 0, 0, 0, 0, 0, 0, 0, 0, 0, 0, 0, 0, 0, 0, 0, 0, 0, 0, 0, 0,\n",
       "       0, 0, 0, 0, 0, 0, 0, 0, 0, 0, 0, 0, 0, 0, 0, 0, 0, 0, 0, 0, 0, 0,\n",
       "       0, 0, 0, 0, 0, 0, 0, 0, 0, 0, 0, 0, 0, 0, 0, 0, 0, 0, 0, 0, 0, 0,\n",
       "       0, 0, 0, 0, 0, 0, 0, 0, 0, 0, 0, 0, 0, 0, 0, 0, 0, 0, 0, 0, 0, 0,\n",
       "       0, 0, 0, 0, 0, 0, 0, 0, 0, 0, 0, 0, 1, 0, 0, 0, 0, 0, 0, 1, 0, 0,\n",
       "       0, 0, 0, 0, 0, 0, 0, 0, 0, 0, 0, 0, 0, 0, 0, 0, 0, 0, 0, 0, 0, 0,\n",
       "       0, 0, 0, 0, 0, 0, 0, 0, 0, 0, 0, 0, 0, 0, 0, 0, 0, 0, 0, 0, 0, 0,\n",
       "       0, 0, 0, 0, 0, 0, 0, 0, 0, 0, 0, 0, 0, 0, 0, 0, 0, 0, 0, 0, 0, 0,\n",
       "       0, 0, 0, 0, 0, 0, 0, 0, 0, 0, 0, 0, 0, 0, 0, 0, 0, 0, 0, 0, 0, 0,\n",
       "       0, 0, 0, 0, 0, 0, 0, 0, 0, 0, 0, 0, 0, 0, 0, 0, 0, 0, 0, 0, 0, 0,\n",
       "       0, 0, 0, 0, 0, 0, 0, 0, 0, 0, 0, 0, 0, 0, 0, 0, 0, 0, 0, 0, 0, 0,\n",
       "       0, 0, 0, 0, 0, 0, 0, 0, 0, 0, 0, 0, 0, 0, 0, 0, 0, 0, 1, 0, 0, 0,\n",
       "       0, 0, 0, 0, 0, 0, 0, 0, 0, 0, 0, 0, 0, 0, 0, 0, 0, 0, 0, 0, 0, 0,\n",
       "       0, 0, 0, 0, 0, 0, 0, 0, 0, 0, 0, 0, 0, 0, 0, 0, 0, 0, 0, 0, 0, 0,\n",
       "       0, 0, 0, 0, 0, 0, 0, 0, 0, 0, 0, 0, 0, 0, 0, 0, 0, 0, 0, 0, 0, 0,\n",
       "       0, 0, 0, 0, 0, 0, 0, 0, 0, 0, 0, 0, 0, 0, 0, 0, 0, 0, 0, 0, 0, 0,\n",
       "       0, 0, 0, 0, 0, 0, 0, 0, 0, 0, 0, 0, 0, 0, 0, 0, 0, 0, 0, 0, 0, 0,\n",
       "       0, 0, 0, 0, 0, 0, 0, 0, 0, 0, 0, 0, 0, 0, 0, 0, 0, 0, 0, 0, 0, 0,\n",
       "       0, 0, 0, 0, 0, 0, 0, 0, 0, 0, 0, 0, 0, 0, 0, 0, 0, 0, 0, 0, 0, 0,\n",
       "       0, 0, 0, 0, 0, 0, 0, 0, 0, 0, 0, 0, 0, 0, 0, 0, 0, 0, 0, 0, 0, 0,\n",
       "       0, 0, 0, 0, 0, 0, 0, 0, 0, 0, 0, 0, 0, 0, 0, 0, 0, 0, 0, 0, 0, 0,\n",
       "       0, 0, 0, 0, 0, 0, 0, 0, 0, 0, 0, 0, 0, 0, 0, 0, 0, 0, 0, 0, 0, 0,\n",
       "       0, 0, 0, 0, 0, 0, 0, 0, 0, 0, 0, 0, 0, 0, 0, 0, 0, 0, 0, 0, 0, 0,\n",
       "       0, 0, 0, 0, 0, 0, 0, 0, 0, 0, 0, 0, 0, 0, 0, 0, 0, 0, 0, 0])"
      ]
     },
     "execution_count": 269,
     "metadata": {},
     "output_type": "execute_result"
    }
   ],
   "source": [
    "predictions"
   ]
  },
  {
   "cell_type": "code",
   "execution_count": 270,
   "id": "f02a35e2",
   "metadata": {},
   "outputs": [
    {
     "data": {
      "image/png": "[encoded data removed]",
      "text/plain": [
       "<Figure size 640x480 with 1 Axes>"
      ]
     },
     "metadata": {},
     "output_type": "display_data"
    }
   ],
   "source": [
    "# Visualisation\n",
    "plt.scatter(X, y, c='b', marker='o', label='Classe 0')\n",
    "plt.scatter(X, predictions, c='r', marker='x', label='Prédiction')\n",
    "plt.xlabel(\"Glucose\")\n",
    "plt.ylabel(\"Outcome\")\n",
    "plt.legend()\n",
    "plt.show()"
   ]
  },
  {
   "cell_type": "markdown",
   "id": "256266fe",
   "metadata": {},
   "source": [
    "#  ----------------------------------------From Scratch [64.29%]----------------------------------------"
   ]
  },
  {
   "cell_type": "code",
   "execution_count": 271,
   "id": "1a7e15a9",
   "metadata": {},
   "outputs": [
    {
     "name": "stdout",
     "output_type": "stream",
     "text": [
      "Iteration 0: Loss = 0.6931471805599453\n",
      "Iteration 100: Loss = 9.953030263895934\n",
      "Iteration 200: Loss = 11.967093370809257\n",
      "Iteration 300: Loss = 1.90927484396557\n",
      "Iteration 400: Loss = 11.967051131222684\n",
      "Iteration 500: Loss = 11.559210713375288\n",
      "Iteration 600: Loss = 21.933348389722596\n",
      "Iteration 700: Loss = 11.930200520171615\n",
      "Iteration 800: Loss = 0.9517721329109007\n",
      "Iteration 900: Loss = 17.626870132209344\n",
      "Final weight: -0.649643204061471\n",
      "Final bias: -0.6009675675528827\n"
     ]
    }
   ],
   "source": [
    "import numpy as np\n",
    "import pandas as pd\n",
    "\n",
    "df = pd.read_csv(\"data/diabetes.csv\")\n",
    "\n",
    "X = df[\"Glucose\"].values\n",
    "y = df[\"Outcome\"].values\n",
    "\n",
    "def sigmoid(z):\n",
    "    return 1 / (1 + np.exp(-z))\n",
    "\n",
    "weight = 0.0\n",
    "bias = 0.0\n",
    "\n",
    "def log_loss(y_true, y_pred):\n",
    "    epsilon = 1e-15\n",
    "    y_pred = np.maximum(epsilon, y_pred)\n",
    "    y_pred = np.minimum(1 - epsilon, y_pred)\n",
    "    return - (y_true * np.log(y_pred) + (1 - y_true) * np.log(1 - y_pred)).mean()\n",
    "\n",
    "learning_rate = 0.01\n",
    "num_iterations = 1000\n",
    "\n",
    "for i in range(num_iterations):\n",
    "    z = weight * X + bias\n",
    "    predictions = sigmoid(z)\n",
    "    loss = log_loss(y, predictions)\n",
    "\n",
    "    dw = (1 / len(X)) * np.dot(X, (predictions - y))\n",
    "    db = (1 / len(X)) * np.sum(predictions - y)\n",
    "\n",
    "    weight -= learning_rate * dw\n",
    "    bias -= learning_rate * db\n",
    "\n",
    "    if i % 100 == 0:\n",
    "        print(f\"Iteration {i}: Loss = {loss}\")\n",
    "\n",
    "print(f\"Final weight: {weight}\")\n",
    "print(f\"Final bias: {bias}\")\n",
    "\n",
    "def predict(X, weight, bias):\n",
    "    z = weight * X + bias\n",
    "    return sigmoid(z)\n",
    "\n",
    "X_train, X_test, y_train, y_test = train_test_split(X, y, test_size=0.2, random_state=42)\n",
    "\n",
    "# new_data_point = 150  # Remplacez par la valeur de \"Glucose\" que vous souhaitez prédire\n",
    "y_pred2 = predict(X_test, weight, bias)\n",
    "# print(f\"Prédiction pour Glucose {X}: {prediction}\")"
   ]
  },
  {
   "cell_type": "code",
   "execution_count": 272,
   "id": "e1465957",
   "metadata": {},
   "outputs": [
    {
     "name": "stdout",
     "output_type": "stream",
     "text": [
      "Précision du modèle : 64.29%\n"
     ]
    }
   ],
   "source": [
    "# Prédiction\n",
    "predictions = (y_pred2 >= 0.5).astype(int)\n",
    "\n",
    "# Évaluation du modèle\n",
    "accuracy = np.mean(predictions == y_test)\n",
    "print(\"Précision du modèle : {:.2f}%\".format(accuracy * 100))"
   ]
  },
  {
   "cell_type": "code",
   "execution_count": 273,
   "id": "6393f940",
   "metadata": {},
   "outputs": [
    {
     "data": {
      "image/png": "[encoded data removed]",
      "text/plain": [
       "<Figure size 640x480 with 1 Axes>"
      ]
     },
     "metadata": {},
     "output_type": "display_data"
    }
   ],
   "source": [
    "plt.scatter(X_train, y_train, color='blue')\n",
    "plt.scatter(X_test, y_test, color='red')\n",
    "# plt.plot(X, model.predict(X), color='black', linewidth=3)\n",
    "plt.xlabel(\"Glucose\")\n",
    "plt.ylabel(\"Outcome\")\n",
    "plt.title(\"Régression Logistique (Single Variate)\")\n",
    "plt.show()"
   ]
  },
  {
   "cell_type": "markdown",
   "id": "3ecc3ea1",
   "metadata": {},
   "source": [
    "# -------------------------------------Using third-party solutions-------------------------------------"
   ]
  },
  {
   "cell_type": "markdown",
   "id": "53f68b63",
   "metadata": {},
   "source": [
    "### 1.1. Importez les bibliothèques nécessaires :"
   ]
  },
  {
   "cell_type": "markdown",
   "id": "06fcec3d",
   "metadata": {},
   "source": [
    "Importez les bibliothèques nécessaires, y compris Pandas pour la manipulation des données, Scikit-Learn pour la création du modèle, et Matplotlib si vous souhaitez visualiser les résultats."
   ]
  },
  {
   "cell_type": "code",
   "execution_count": 274,
   "id": "62d8fb7a",
   "metadata": {},
   "outputs": [],
   "source": [
    "import pandas as pd\n",
    "from sklearn.linear_model import LogisticRegression\n",
    "from sklearn.metrics import classification_report, co0nfusion_matrix\n",
    "import matplotlib.pyplot as plts"
   ]
  },
  {
   "cell_type": "markdown",
   "id": "2fba7b85",
   "metadata": {},
   "source": [
    "### 1.2. Chargez le jeu de données :"
   ]
  },
  {
   "cell_type": "markdown",
   "id": "3ca00647",
   "metadata": {},
   "source": [
    "Utilisez Pandas pour charger le jeu de données \"diabetes.csv\" dans un DataFrame."
   ]
  },
  {
   "cell_type": "code",
   "execution_count": 275,
   "id": "f4a2f77b",
   "metadata": {},
   "outputs": [],
   "source": [
    "df = pd.read_csv(\"data/diabetes.csv\")"
   ]
  },
  {
   "cell_type": "markdown",
   "id": "7dbe9dbc",
   "metadata": {},
   "source": [
    "### 1.3. Sélectionnez les données pertinentes :"
   ]
  },
  {
   "cell_type": "markdown",
   "id": "8e46ebed",
   "metadata": {},
   "source": [
    "Sélectionnez les colonnes \"Glucose\" comme variable indépendante (caractéristique) et \"outcome\" comme variable dépendante (étiquette) du DataFrame."
   ]
  },
  {
   "cell_type": "code",
   "execution_count": 276,
   "id": "c1d003e5",
   "metadata": {},
   "outputs": [],
   "source": [
    "df = pd.read_csv(\"data/diabetes.csv\")\n",
    "X = df[[\"Glucose\"]]\n",
    "y = df[\"Outcome\"]"
   ]
  },
  {
   "cell_type": "markdown",
   "id": "ca78969f",
   "metadata": {},
   "source": [
    "### 1.4. Divisez les données en ensembles d'apprentissage et de test :"
   ]
  },
  {
   "cell_type": "code",
   "execution_count": 277,
   "id": "56d1b7c4",
   "metadata": {},
   "outputs": [],
   "source": [
    "X_train, X_test, y_train, y_test = train_test_split(X, y, test_size=0.2, random_state=42)"
   ]
  },
  {
   "cell_type": "markdown",
   "id": "6c8bb9b6",
   "metadata": {},
   "source": [
    "Les arguments `test_size` et `random_state` sont couramment utilisés lors de la division d'un ensemble de données en ensembles d'apprentissage et de test dans le cadre de l'apprentissage automatique. Voici ce que ces arguments signifient :\n",
    "\n",
    "1. `test_size` : C'est le paramètre qui détermine la proportion de l'ensemble de données qui sera réservée pour l'ensemble de test. Dans cet exemple, `test_size=0.2` signifie que 20 % de l'ensemble de données sera utilisé comme ensemble de test, et 80 % sera utilisé comme ensemble d'apprentissage. Le choix de cette proportion dépend souvent de la taille de l'ensemble de données et des besoins spécifiques du problème. Une division courante est 70-30 ou 80-20.\n",
    "\n",
    "2. `random_state` : C'est une valeur de graine (seed) pour le générateur de nombres aléatoires. Lorsque vous divisez votre ensemble de données en ensembles d'apprentissage et de test de manière aléatoire, vous souhaitez généralement que cette division soit reproductible. En fixant `random_state` à une valeur spécifique (comme `random_state=42`), vous garantissez que la division sera la même chaque fois que vous exécutez le code. Cela est utile pour la reproductibilité des résultats et pour déboguer votre modèle. Vous pouvez choisir n'importe quelle valeur pour `random_state`, tant que vous l'utilisez de manière cohérente.\n",
    "\n",
    "Le choix de la valeur de `random_state` est généralement arbitraire, mais il est courant d'utiliser des valeurs telles que 42, 0, 1 ou tout autre nombre entier. L'important est de s'assurer que la division des données reste cohérente d'une exécution à l'autre, de manière à ce que vous puissiez comparer et évaluer votre modèle de manière reproductible."
   ]
  },
  {
   "cell_type": "markdown",
   "id": "89e2a888",
   "metadata": {},
   "source": [
    "### 1.5. Créez le modèle de régression logistique :"
   ]
  },
  {
   "cell_type": "code",
   "execution_count": 278,
   "id": "555c56f0",
   "metadata": {},
   "outputs": [],
   "source": [
    "model = LogisticRegression()"
   ]
  },
  {
   "cell_type": "markdown",
   "id": "aa080788",
   "metadata": {},
   "source": [
    "### 1.6. Entraînez le modèle :"
   ]
  },
  {
   "cell_type": "markdown",
   "id": "f27be65f",
   "metadata": {},
   "source": [
    "Utilisez les données d'apprentissage pour entraîner le modèle."
   ]
  },
  {
   "cell_type": "code",
   "execution_count": 279,
   "id": "6fdfcafc",
   "metadata": {},
   "outputs": [
    {
     "data": {
      "text/html": [
       "<style>#sk-container-id-3 {color: black;}#sk-container-id-3 pre{padding: 0;}#sk-container-id-3 div.sk-toggleable {background-color: white;}#sk-container-id-3 label.sk-toggleable__label {cursor: pointer;display: block;width: 100%;margin-bottom: 0;padding: 0.3em;box-sizing: border-box;text-align: center;}#sk-container-id-3 label.sk-toggleable__label-arrow:before {content: \"▸\";float: left;margin-right: 0.25em;color: #696969;}#sk-container-id-3 label.sk-toggleable__label-arrow:hover:before {color: black;}#sk-container-id-3 div.sk-estimator:hover label.sk-toggleable__label-arrow:before {color: black;}#sk-container-id-3 div.sk-toggleable__content {max-height: 0;max-width: 0;overflow: hidden;text-align: left;background-color: #f0f8ff;}#sk-container-id-3 div.sk-toggleable__content pre {margin: 0.2em;color: black;border-radius: 0.25em;background-color: #f0f8ff;}#sk-container-id-3 input.sk-toggleable__control:checked~div.sk-toggleable__content {max-height: 200px;max-width: 100%;overflow: auto;}#sk-container-id-3 input.sk-toggleable__control:checked~label.sk-toggleable__label-arrow:before {content: \"▾\";}#sk-container-id-3 div.sk-estimator input.sk-toggleable__control:checked~label.sk-toggleable__label {background-color: #d4ebff;}#sk-container-id-3 div.sk-label input.sk-toggleable__control:checked~label.sk-toggleable__label {background-color: #d4ebff;}#sk-container-id-3 input.sk-hidden--visually {border: 0;clip: rect(1px 1px 1px 1px);clip: rect(1px, 1px, 1px, 1px);height: 1px;margin: -1px;overflow: hidden;padding: 0;position: absolute;width: 1px;}#sk-container-id-3 div.sk-estimator {font-family: monospace;background-color: #f0f8ff;border: 1px dotted black;border-radius: 0.25em;box-sizing: border-box;margin-bottom: 0.5em;}#sk-container-id-3 div.sk-estimator:hover {background-color: #d4ebff;}#sk-container-id-3 div.sk-parallel-item::after {content: \"\";width: 100%;border-bottom: 1px solid gray;flex-grow: 1;}#sk-container-id-3 div.sk-label:hover label.sk-toggleable__label {background-color: #d4ebff;}#sk-container-id-3 div.sk-serial::before {content: \"\";position: absolute;border-left: 1px solid gray;box-sizing: border-box;top: 0;bottom: 0;left: 50%;z-index: 0;}#sk-container-id-3 div.sk-serial {display: flex;flex-direction: column;align-items: center;background-color: white;padding-right: 0.2em;padding-left: 0.2em;position: relative;}#sk-container-id-3 div.sk-item {position: relative;z-index: 1;}#sk-container-id-3 div.sk-parallel {display: flex;align-items: stretch;justify-content: center;background-color: white;position: relative;}#sk-container-id-3 div.sk-item::before, #sk-container-id-3 div.sk-parallel-item::before {content: \"\";position: absolute;border-left: 1px solid gray;box-sizing: border-box;top: 0;bottom: 0;left: 50%;z-index: -1;}#sk-container-id-3 div.sk-parallel-item {display: flex;flex-direction: column;z-index: 1;position: relative;background-color: white;}#sk-container-id-3 div.sk-parallel-item:first-child::after {align-self: flex-end;width: 50%;}#sk-container-id-3 div.sk-parallel-item:last-child::after {align-self: flex-start;width: 50%;}#sk-container-id-3 div.sk-parallel-item:only-child::after {width: 0;}#sk-container-id-3 div.sk-dashed-wrapped {border: 1px dashed gray;margin: 0 0.4em 0.5em 0.4em;box-sizing: border-box;padding-bottom: 0.4em;background-color: white;}#sk-container-id-3 div.sk-label label {font-family: monospace;font-weight: bold;display: inline-block;line-height: 1.2em;}#sk-container-id-3 div.sk-label-container {text-align: center;}#sk-container-id-3 div.sk-container {/* jupyter's `normalize.less` sets `[hidden] { display: none; }` but bootstrap.min.css set `[hidden] { display: none !important; }` so we also need the `!important` here to be able to override the default hidden behavior on the sphinx rendered scikit-learn.org. See: https://github.com/scikit-learn/scikit-learn/issues/21755 */display: inline-block !important;position: relative;}#sk-container-id-3 div.sk-text-repr-fallback {display: none;}</style><div id=\"sk-container-id-3\" class=\"sk-top-container\"><div class=\"sk-text-repr-fallback\"><pre>LogisticRegression()</pre><b>In a Jupyter environment, please rerun this cell to show the HTML representation or trust the notebook. <br />On GitHub, the HTML representation is unable to render, please try loading this page with nbviewer.org.</b></div><div class=\"sk-container\" hidden><div class=\"sk-item\"><div class=\"sk-estimator sk-toggleable\"><input class=\"sk-toggleable__control sk-hidden--visually\" id=\"sk-estimator-id-3\" type=\"checkbox\" checked><label for=\"sk-estimator-id-3\" class=\"sk-toggleable__label sk-toggleable__label-arrow\">LogisticRegression</label><div class=\"sk-toggleable__content\"><pre>LogisticRegression()</pre></div></div></div></div></div>"
      ],
      "text/plain": [
       "LogisticRegression()"
      ]
     },
     "execution_count": 279,
     "metadata": {},
     "output_type": "execute_result"
    }
   ],
   "source": [
    "model.fit(X_train, y_train)"
   ]
  },
  {
   "cell_type": "code",
   "execution_count": 280,
   "id": "acc2455c",
   "metadata": {},
   "outputs": [
    {
     "name": "stdout",
     "output_type": "stream",
     "text": [
      "Coefficient:  [[0.03739411]]\n",
      "Intercept:  [-5.29714871]\n"
     ]
    }
   ],
   "source": [
    "# Affichez les coefficients du modèle.\n",
    "print(\"Coefficient: \", model.coef_)\n",
    "print(\"Intercept: \", model.intercept_)"
   ]
  },
  {
   "cell_type": "markdown",
   "id": "7bcae71a",
   "metadata": {},
   "source": [
    "### 1.7. Prédisez les étiquettes pour l'ensemble de test :"
   ]
  },
  {
   "cell_type": "markdown",
   "id": "8366eec3",
   "metadata": {},
   "source": [
    "Utilisez le modèle pour prédire les étiquettes de l'ensemble de test."
   ]
  },
  {
   "cell_type": "code",
   "execution_count": 281,
   "id": "7fa45eef",
   "metadata": {},
   "outputs": [],
   "source": [
    "y_pred = model.predict(X_test)"
   ]
  },
  {
   "cell_type": "markdown",
   "id": "40ff4634",
   "metadata": {},
   "source": [
    "### 1.8. Évaluez la performance du modèle :"
   ]
  },
  {
   "cell_type": "markdown",
   "id": "cbaa0f53",
   "metadata": {},
   "source": [
    "Évaluez la performance du modèle en utilisant des métriques telles que la matrice de confusion, le rapport de classification, et la précision, le rappel, le F1-score, etc."
   ]
  },
  {
   "cell_type": "code",
   "execution_count": 282,
   "id": "c49a11c5",
   "metadata": {},
   "outputs": [
    {
     "name": "stdout",
     "output_type": "stream",
     "text": [
      "Matrice de confusion :\n",
      "[[86 13]\n",
      " [25 30]]\n",
      "\n",
      "Rapport de classification :\n",
      "              precision    recall  f1-score   support\n",
      "\n",
      "           0       0.77      0.87      0.82        99\n",
      "           1       0.70      0.55      0.61        55\n",
      "\n",
      "    accuracy                           0.75       154\n",
      "   macro avg       0.74      0.71      0.72       154\n",
      "weighted avg       0.75      0.75      0.75       154\n",
      "\n"
     ]
    }
   ],
   "source": [
    "print(\"Matrice de confusion :\")\n",
    "print(confusion_matrix1(y_test, y_pred))\n",
    "print(\"\\nRapport de classification :\")\n",
    "print(classification_report(y_test, y_pred))"
   ]
  },
  {
   "cell_type": "markdown",
   "id": "5718ae49",
   "metadata": {},
   "source": [
    "### 1.9. Visualisez les résultats (facultatif) :"
   ]
  },
  {
   "cell_type": "markdown",
   "id": "0238eec0",
   "metadata": {},
   "source": [
    "Vous pouvez également visualiser les résultats en traçant la régression logistique avec les données d'entraînement et les points de données d'essai."
   ]
  },
  {
   "cell_type": "code",
   "execution_count": 283,
   "id": "8f699523",
   "metadata": {},
   "outputs": [
    {
     "data": {
      "image/png": "[encoded data removed]",
      "text/plain": [
       "<Figure size 640x480 with 1 Axes>"
      ]
     },
     "metadata": {},
     "output_type": "display_data"
    }
   ],
   "source": [
    "plt.scatter(X_train, y_train, color='blue')\n",
    "plt.scatter(X_test, y_test, color='red')\n",
    "# plt.plot(X, model.predict(X), color='black', linewidth=3)\n",
    "plt.xlabel(\"Glucose\")\n",
    "plt.ylabel(\"Outcome\")\n",
    "plt.title(\"Régression Logistique (Single Variate)\")\n",
    "plt.show()"
   ]
  },
  {
   "cell_type": "markdown",
   "id": "f3275e7c",
   "metadata": {},
   "source": [
    "La visualisation des résultats d'un modèle de régression logistique univariée peut aider à mieux comprendre comment le modèle prend des décisions et comment il se comporte par rapport aux données d'entraînement et de test. Dans l'exemple donné précédemment, nous avons tracé la régression logistique et les points de données pour visualiser les résultats. Voici une explication plus détaillée de cette visualisation :\n",
    "\n",
    "1. **Points de données d'entraînement et de test** : Les points de données d'entraînement et de test sont affichés sur le graphique. Les points d'entraînement sont en bleu, tandis que les points de test sont en rouge. Cela permet de visualiser comment le modèle a été ajusté aux données d'entraînement et comment il se généralise aux données de test.\n",
    "\n",
    "2. **Régression logistique** : La ligne noire représente la régression logistique, qui est l'ajustement du modèle aux données. En utilisant la variable \"Glucose\" comme caractéristique, la régression logistique modélise la probabilité que la variable \"outcome\" soit égale à 1 (par exemple, diabétique) en fonction de la valeur de \"Glucose\". Cette courbe illustre comment le modèle classe les données en fonction de cette probabilité.\n",
    "\n",
    "3. **Axe des X** : L'axe horizontal représente les valeurs de la variable \"Glucose\", qui est la caractéristique que nous utilisons pour effectuer la prédiction.\n",
    "\n",
    "4. **Axe des Y** : L'axe vertical représente les valeurs de la variable \"Outcome\", qui est la variable que nous essayons de prédire. Dans cet exemple, \"Outcome\" est une variable binaire, donc elle peut prendre deux valeurs : 0 ou 1.\n",
    "\n",
    "La régression logistique tente de trouver une relation entre la variable indépendante (dans ce cas, \"Glucose\") et la probabilité de la variable dépendante (dans ce cas, \"Outcome\" égale à 1). La ligne noire est la courbe de régression logistique qui représente cette relation. Plus la probabilité est proche de 1, plus le modèle prédit que la personne est diabétique (Outcome = 1), et plus la probabilité est proche de 0, plus le modèle prédit qu'elle ne l'est pas (Outcome = 0).\n",
    "\n",
    "En visualisant cette courbe, vous pouvez voir comment le modèle prend des décisions en fonction de la caractéristique \"Glucose\". Si les points de données d'entraînement et de test sont bien alignés avec la courbe, cela suggère que le modèle est capable de bien généraliser et de prendre des décisions précises. Si les points de données sont dispersés ou si la courbe de régression est incorrecte, cela peut indiquer que le modèle a des performances médiocres. La visualisation aide à évaluer visuellement la performance du modèle et à comprendre comment il classe les données en fonction de la caractéristique \"Glucose\"."
   ]
  },
  {
   "cell_type": "markdown",
   "id": "a7ffcbeb",
   "metadata": {},
   "source": [
    "Ces étapes vous permettront de créer, entraîner et évaluer un modèle de régression logistique univariée basé sur la variable \"Glucose\" pour prédire la variable \"outcome\" du jeu de données \"diabetes.csv\". Vous pouvez personnaliser davantage le modèle en ajustant les hyperparamètres et en utilisant des techniques de validation croisée pour évaluer sa robustesse."
   ]
  }
 ],
 "metadata": {
  "kernelspec": {
   "display_name": "Python 3 (ipykernel)",
   "language": "python",
   "name": "python3"
  },
  "language_info": {
   "codemirror_mode": {
    "name": "ipython",
    "version": 3
   },
   "file_extension": ".py",
   "mimetype": "text/x-python",
   "name": "python",
   "nbconvert_exporter": "python",
   "pygments_lexer": "ipython3",
   "version": "3.11.4"
  }
 },
 "nbformat": 4,
 "nbformat_minor": 5
}
