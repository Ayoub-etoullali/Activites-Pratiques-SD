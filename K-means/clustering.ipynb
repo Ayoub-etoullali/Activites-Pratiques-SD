{
 "cells": [
  {
   "cell_type": "markdown",
   "id": "9785e25f",
   "metadata": {},
   "source": [
    "# Les bibliothèques nécessaires"
   ]
  },
  {
   "cell_type": "code",
   "execution_count": 2,
   "id": "df066e97",
   "metadata": {},
   "outputs": [],
   "source": [
    "import numpy as np\n",
    "import seaborn as sns\n",
    "from sklearn.datasets import make_blobs\n",
    "from scipy.spatial import distance"
   ]
  },
  {
   "cell_type": "markdown",
   "id": "6b6dfe83",
   "metadata": {},
   "source": [
    "These libraries are commonly used in machine learning and data analysis tasks. \n",
    "\n",
    "1. `make_blobs` from `sklearn.datasets`:\n",
    "   - `make_blobs` is a function provided by scikit-learn (`sklearn`) that is used to generate synthetic datasets for clustering and classification tasks. It creates clusters of data points with Gaussian distributions, making it useful for testing and demonstrating various machine learning algorithms.\n",
    "\n",
    "2. `distance` from `scipy.spatial`:\n",
    "   - `scipy.spatial.distance` provides functions for computing various distances between points in space. Distance metrics are essential for many machine learning and data analysis tasks, such as clustering, classification, and similarity-based operations."
   ]
  },
  {
   "cell_type": "code",
   "execution_count": 3,
   "id": "0771f25e",
   "metadata": {},
   "outputs": [],
   "source": [
    "centers = [ [1,3], [6,7] ]\n",
    "\n",
    "data, labels = make_blobs(centers=centers, n_samples=10)"
   ]
  },
  {
   "cell_type": "code",
   "execution_count": 4,
   "id": "d7fdf244",
   "metadata": {},
   "outputs": [
    {
     "name": "stdout",
     "output_type": "stream",
     "text": [
      "[[6.77397458 7.13642144]\n",
      " [6.23240767 7.41171529]\n",
      " [1.18831512 3.68106153]\n",
      " [5.04765498 7.40729895]\n",
      " [0.84589623 1.76036396]\n",
      " [0.26223945 2.49986282]\n",
      " [8.82272078 6.76419869]\n",
      " [1.72462412 2.76442341]\n",
      " [8.68504674 7.11293399]\n",
      " [0.45813239 2.97099153]]\n"
     ]
    }
   ],
   "source": [
    "print(data)"
   ]
  },
  {
   "cell_type": "code",
   "execution_count": 5,
   "id": "cf4f2516",
   "metadata": {},
   "outputs": [
    {
     "name": "stdout",
     "output_type": "stream",
     "text": [
      "[1 1 0 1 0 0 1 0 1 0]\n"
     ]
    }
   ],
   "source": [
    "print(labels)"
   ]
  },
  {
   "cell_type": "code",
   "execution_count": 6,
   "id": "69699f86",
   "metadata": {},
   "outputs": [
    {
     "data": {
      "text/plain": [
       "<Axes: >"
      ]
     },
     "execution_count": 6,
     "metadata": {},
     "output_type": "execute_result"
    },
    {
     "data": {
      "image/png": "[encoded data removed]",
      "text/plain": [
       "<Figure size 640x480 with 1 Axes>"
      ]
     },
     "metadata": {},
     "output_type": "display_data"
    }
   ],
   "source": [
    "sns.scatterplot(\n",
    "    x=[x[0] for x in data],\n",
    "    y=[x[1] for x in data]\n",
    ")"
   ]
  },
  {
   "cell_type": "markdown",
   "id": "a9fac73d",
   "metadata": {},
   "source": [
    "# Intertie"
   ]
  },
  {
   "cell_type": "markdown",
   "id": "d9fcab41",
   "metadata": {},
   "source": [
    "## inter_class_inertia"
   ]
  },
  {
   "attachments": {
    "image.png": {
     "image/png": "[encoded data removed]"
    }
   },
   "cell_type": "markdown",
   "id": "213f2087",
   "metadata": {},
   "source": [
    "L'inertie inter-classes (ou \"between-cluster variance\" en anglais) est généralement calculée comme la somme des carrés des distances entre les centroïdes de chaque cluster (moyenne de chaque cluster) et le centroïde global (moyenne de l'ensemble des données). En termes mathématiques, l'expression de l'inertie inter-classes peut être formulée comme suit :\n",
    "\n",
    "Supposons que vous ayez 'K' clusters, et que 'C_i' soit le centroïde du cluster 'i'. Le centroïde global est noté 'C_g'.\n",
    "\n",
    "L'inertie inter-classes (I_inter) est donnée par :\n",
    "\n",
    "![image.png](attachment:image.png)\n",
    "\n",
    "Où :\n",
    "- (K) est le nombre de clusters.\n",
    "- (ni) est le nombre de points dans le cluster \\(i\\).\n",
    "- (Ci) est le centroïde du cluster \\(i\\).\n",
    "- (Cg) est le centroïde global (moyenne de l'ensemble des données).\n",
    "- (|| . ||) représente la norme euclidienne (distance euclidienne) entre deux vecteurs, qui mesure la distance entre les deux points dans l'espace.\n",
    "\n",
    "Cette formule exprime l'inertie inter-classes comme la somme pondérée des carrés des distances entre les centroïdes de chaque cluster et le centroïde global. Elle mesure à quel point les clusters sont séparés les uns des autres. Une inertie inter-classes élevée indique une meilleure séparation entre les clusters."
   ]
  },
  {
   "cell_type": "code",
   "execution_count": 7,
   "id": "890a1960",
   "metadata": {},
   "outputs": [],
   "source": [
    "def inter_class_inertia(data, labels):\n",
    "    n=0\n",
    "    unique_labels = np.unique(labels)\n",
    "    print(\"unique_labels =\", unique_labels)\n",
    "    global_centroid = np.mean(data, axis=0) # moyen sur les lignes \n",
    "    print(\"global_centroid =\", global_centroid)\n",
    "    inertia_inter = 0\n",
    "    for label in unique_labels:\n",
    "        cluster_points = data[labels == label]\n",
    "        print(\"\\ncluster_points =\", cluster_points)\n",
    "        centroid = np.mean(cluster_points, axis=0)\n",
    "        print(\"centroid =\", centroid)\n",
    "        inertia_inter += np.sum((centroid - global_centroid) ** 2)\n",
    "        print(\"inertia_inter =\", inertia_inter)\n",
    "    return inertia_inter/len(unique_labels)"
   ]
  },
  {
   "cell_type": "code",
   "execution_count": 8,
   "id": "52de02b7",
   "metadata": {},
   "outputs": [
    {
     "name": "stdout",
     "output_type": "stream",
     "text": [
      "unique_labels = [0 1]\n",
      "global_centroid = [4.00410121 4.95092716]\n",
      "\n",
      "cluster_points = [[1.18831512 3.68106153]\n",
      " [0.84589623 1.76036396]\n",
      " [0.26223945 2.49986282]\n",
      " [1.72462412 2.76442341]\n",
      " [0.45813239 2.97099153]]\n",
      "centroid = [0.89584146 2.73534065]\n",
      "inertia_inter = 14.570102221506723\n",
      "\n",
      "cluster_points = [[6.77397458 7.13642144]\n",
      " [6.23240767 7.41171529]\n",
      " [5.04765498 7.40729895]\n",
      " [8.82272078 6.76419869]\n",
      " [8.68504674 7.11293399]]\n",
      "centroid = [7.11236095 7.16651367]\n",
      "inertia_inter = 29.140204443013445\n",
      "\n",
      "\n",
      " Inertie inter-classes : 14.570102221506723\n"
     ]
    }
   ],
   "source": [
    "inertia_inter = inter_class_inertia(data, labels)\n",
    "print(\"\\n\\n Inertie inter-classes :\", inertia_inter)"
   ]
  },
  {
   "cell_type": "markdown",
   "id": "656597a5",
   "metadata": {},
   "source": [
    "## intra_class_inertia"
   ]
  },
  {
   "attachments": {
    "image.png": {
     "image/png": "[encoded data removed]"
    }
   },
   "cell_type": "markdown",
   "id": "dedd493c",
   "metadata": {},
   "source": [
    "L'inertie intra-classes (Inertia Intra):\n",
    "L'inertie intra-classes mesure la dispersion des points de données à l'intérieur de chaque cluster. Elle est calculée comme la somme des carrés des distances entre chaque point de données et le centroïde de son propre cluster, et cela pour tous les clusters. L'expression mathématique est la suivante :\n",
    "\n",
    "![image.png](attachment:image.png)\n",
    "\n",
    "Où :\n",
    "- (K) est le nombre de clusters.\n",
    "- (Ci) est le i-ème cluster.\n",
    "- (x) est un point de données dans le cluster \\(C_i\\).\n",
    "- (Ci) est le centroïde du cluster \\(C_i\\).\n",
    "- (|| . ||) représente la norme euclidienne (distance euclidienne) entre un point de données et le centroïde de son propre cluster."
   ]
  },
  {
   "cell_type": "code",
   "execution_count": 9,
   "id": "2c30713b",
   "metadata": {},
   "outputs": [],
   "source": [
    "def intra_class_inertia(data, labels):\n",
    "    n=0\n",
    "    unique_labels = np.unique(labels)\n",
    "    inertia_intra = 0\n",
    "    for label in unique_labels:\n",
    "        cluster_points = data[labels == label]\n",
    "        centroid = np.mean(cluster_points, axis=0)\n",
    "        for point in cluster_points:\n",
    "            inertia_intra += np.sum((point - centroid) ** 2)\n",
    "        n=n+len(cluster_points)\n",
    "    return inertia_intra/n"
   ]
  },
  {
   "cell_type": "code",
   "execution_count": 10,
   "id": "affcef25",
   "metadata": {},
   "outputs": [
    {
     "name": "stdout",
     "output_type": "stream",
     "text": [
      "Inertie intra-classes : 1.4158991554169789\n"
     ]
    }
   ],
   "source": [
    "inertia_intra = intra_class_inertia(data, labels)\n",
    "print(\"Inertie intra-classes :\", inertia_intra)"
   ]
  },
  {
   "cell_type": "markdown",
   "id": "747637e8",
   "metadata": {},
   "source": [
    "## total_inertia"
   ]
  },
  {
   "attachments": {
    "image.png": {
     "image/png": "[encoded data removed]"
    }
   },
   "cell_type": "markdown",
   "id": "0266de4b",
   "metadata": {},
   "source": [
    "L'inertie totale (Inertia Totale):\n",
    "L'inertie totale mesure la dispersion globale de l'ensemble des données. Elle est calculée comme la somme des carrés des distances entre chaque point de données et le centroïde global (moyenne de l'ensemble des données). L'expression mathématique est la suivante :\n",
    "\n",
    "![image.png](attachment:image.png)\n",
    "\n",
    "Où :\n",
    "- (D) représente l'ensemble de données.\n",
    "- (x) est un point de données dans l'ensemble de données.\n",
    "- (Cg) est le centroïde global (moyenne de l'ensemble de données).\n",
    "- (|| . ||) représente la norme euclidienne (distance euclidienne) entre un point de données et le centroïde global.\n",
    "\n",
    "Ces expressions mathématiques vous permettent de calculer l'inertie intra-classes et l'inertie totale en utilisant les distances euclidiennes entre les points de données et les centroïdes correspondants. L'inertie totale est la somme de l'inertie intra-classes et de l'inertie inter-classes"
   ]
  },
  {
   "cell_type": "code",
   "execution_count": 11,
   "id": "6d47540d",
   "metadata": {},
   "outputs": [],
   "source": [
    "def total_inertia(data):\n",
    "    centroid = np.mean(data, axis=0)\n",
    "    total_inertia = 0\n",
    "    for point in data:\n",
    "        total_inertia += np.sum((point - centroid) ** 2) # distance.euclidienne(point,g)**2\n",
    "    return total_inertia/len(data) #data.shape[0]"
   ]
  },
  {
   "cell_type": "code",
   "execution_count": 12,
   "id": "79950bf5",
   "metadata": {},
   "outputs": [
    {
     "name": "stdout",
     "output_type": "stream",
     "text": [
      "Inertie totale du dataset : 15.986001376923706\n"
     ]
    }
   ],
   "source": [
    "inertia_total = total_inertia(data)\n",
    "print(\"Inertie totale du dataset :\", inertia_total)"
   ]
  },
  {
   "cell_type": "markdown",
   "id": "f22440ce",
   "metadata": {},
   "source": [
    "## Comparaion"
   ]
  },
  {
   "cell_type": "code",
   "execution_count": 13,
   "id": "774259cf",
   "metadata": {},
   "outputs": [
    {
     "data": {
      "text/plain": [
       "5.329070518200751e-15"
      ]
     },
     "execution_count": 13,
     "metadata": {},
     "output_type": "execute_result"
    }
   ],
   "source": [
    "abs( inertia_total - (inertia_intra + inertia_inter) )"
   ]
  },
  {
   "cell_type": "markdown",
   "id": "7d07b817",
   "metadata": {},
   "source": [
    "## Regroupenment des clusters similaires (C1,C2)"
   ]
  },
  {
   "cell_type": "code",
   "execution_count": 14,
   "id": "cb3c98e6",
   "metadata": {},
   "outputs": [],
   "source": [
    "def regroupenment(data, labels): #clustering\n",
    "    \n",
    "    nbr_cluster = np.unique(labels)\n",
    "    print(nbr_cluster)\n",
    "    list = [ \n",
    "        [] for _ in range(len(nbr_cluster)) \n",
    "    ]\n",
    "    \n",
    "    for i in range(data.shape[0]):\n",
    "        list[labels[i]].append(data[i])\n",
    "        \n",
    "    return list"
   ]
  },
  {
   "cell_type": "code",
   "execution_count": 15,
   "id": "1260b8ff",
   "metadata": {},
   "outputs": [
    {
     "name": "stdout",
     "output_type": "stream",
     "text": [
      "[0 1]\n"
     ]
    }
   ],
   "source": [
    "clusters = regroupenment(data,labels)"
   ]
  },
  {
   "cell_type": "code",
   "execution_count": 16,
   "id": "3adee03f",
   "metadata": {},
   "outputs": [
    {
     "data": {
      "text/plain": [
       "[[array([1.18831512, 3.68106153]),\n",
       "  array([0.84589623, 1.76036396]),\n",
       "  array([0.26223945, 2.49986282]),\n",
       "  array([1.72462412, 2.76442341]),\n",
       "  array([0.45813239, 2.97099153])],\n",
       " [array([6.77397458, 7.13642144]),\n",
       "  array([6.23240767, 7.41171529]),\n",
       "  array([5.04765498, 7.40729895]),\n",
       "  array([8.82272078, 6.76419869]),\n",
       "  array([8.68504674, 7.11293399])]]"
      ]
     },
     "execution_count": 16,
     "metadata": {},
     "output_type": "execute_result"
    }
   ],
   "source": [
    "clusters"
   ]
  },
  {
   "cell_type": "code",
   "execution_count": 17,
   "id": "74048175",
   "metadata": {},
   "outputs": [
    {
     "data": {
      "text/plain": [
       "[array([1.18831512, 3.68106153]),\n",
       " array([0.84589623, 1.76036396]),\n",
       " array([0.26223945, 2.49986282]),\n",
       " array([1.72462412, 2.76442341]),\n",
       " array([0.45813239, 2.97099153])]"
      ]
     },
     "execution_count": 17,
     "metadata": {},
     "output_type": "execute_result"
    }
   ],
   "source": [
    "clusters[0]"
   ]
  },
  {
   "cell_type": "code",
   "execution_count": 18,
   "id": "938eb389",
   "metadata": {},
   "outputs": [
    {
     "data": {
      "text/plain": [
       "15.986001376923706"
      ]
     },
     "execution_count": 18,
     "metadata": {},
     "output_type": "execute_result"
    }
   ],
   "source": [
    "total_inertia(data)"
   ]
  },
  {
   "cell_type": "code",
   "execution_count": 19,
   "id": "d6508fd5",
   "metadata": {},
   "outputs": [
    {
     "data": {
      "text/plain": [
       "2.8317983108339573"
      ]
     },
     "execution_count": 19,
     "metadata": {},
     "output_type": "execute_result"
    }
   ],
   "source": [
    "inertia_total = total_inertia(clusters[0]) + total_inertia(clusters[1])\n",
    "inertia_total"
   ]
  },
  {
   "cell_type": "markdown",
   "id": "224eb56a",
   "metadata": {},
   "source": [
    "# Prof"
   ]
  },
  {
   "cell_type": "code",
   "execution_count": 20,
   "id": "2f49dee8",
   "metadata": {},
   "outputs": [],
   "source": [
    "def cluster(data,true_labels):\n",
    "    cluster=[[] for _ in range(2)]\n",
    "    for i in range(data.shape[0]):\n",
    "        cluster[true_labels[i]].append(data[i])\n",
    "    return cluster"
   ]
  },
  {
   "cell_type": "code",
   "execution_count": 21,
   "id": "0140d263",
   "metadata": {},
   "outputs": [],
   "source": [
    "def intra_class_inertia1(cluster):\n",
    "    n=0\n",
    "    inertie=0\n",
    "    for cl in cluster:\n",
    "        s=0\n",
    "        for x in cl:\n",
    "            for y in cl:\n",
    "                s+=distance.euclidean(x,y)**2\n",
    "        n=n+len(cl)\n",
    "        inertie+=s/(2*len(cl))\n",
    "#     print(n)\n",
    "    return inertie/n"
   ]
  },
  {
   "cell_type": "code",
   "execution_count": 22,
   "id": "7e92b148",
   "metadata": {},
   "outputs": [
    {
     "data": {
      "text/plain": [
       "1.4158991554169786"
      ]
     },
     "execution_count": 22,
     "metadata": {},
     "output_type": "execute_result"
    }
   ],
   "source": [
    "intra_class_inertia1(cluster(data,labels))"
   ]
  },
  {
   "cell_type": "code",
   "execution_count": 23,
   "id": "8e62d53b",
   "metadata": {},
   "outputs": [],
   "source": [
    "def intra_class_inertia2(cluster):\n",
    "    i=0\n",
    "    n=0\n",
    "    for cl in cluster:\n",
    "        ic=0\n",
    "        for x in cl:\n",
    "            ic=ic+distance.euclidean(x,np.mean(cl,axis=0))**2\n",
    "        i=i+ic/len(cl)\n",
    "#     n=n+len(cl)\n",
    "    return i/len(cluster)"
   ]
  },
  {
   "cell_type": "code",
   "execution_count": 24,
   "id": "f92d981d",
   "metadata": {},
   "outputs": [
    {
     "data": {
      "text/plain": [
       "1.4158991554169786"
      ]
     },
     "execution_count": 24,
     "metadata": {},
     "output_type": "execute_result"
    }
   ],
   "source": [
    "intra_class_inertia2(cluster(data,labels))"
   ]
  },
  {
   "cell_type": "code",
   "execution_count": 25,
   "id": "ef67aecb",
   "metadata": {},
   "outputs": [],
   "source": [
    "def inter_class_inertia1(cluster,g):\n",
    "    n=0\n",
    "    inertie=0\n",
    "    for cl in cluster:\n",
    "        c=np.mean(cl,axis=0)\n",
    "        print(c)\n",
    "        inertie+=len(cl)*distance.euclidean(c,g)**2\n",
    "        n+=len(cl)\n",
    "    return inertie/n"
   ]
  },
  {
   "cell_type": "code",
   "execution_count": 26,
   "id": "caff2053",
   "metadata": {},
   "outputs": [
    {
     "name": "stdout",
     "output_type": "stream",
     "text": [
      "[0.89584146 2.73534065]\n",
      "[7.11236095 7.16651367]\n"
     ]
    },
    {
     "data": {
      "text/plain": [
       "14.57010222150672"
      ]
     },
     "execution_count": 26,
     "metadata": {},
     "output_type": "execute_result"
    }
   ],
   "source": [
    "inter_class_inertia1(cluster(data,labels),np.mean(data,axis=0))\n",
    "#print(np.mean(data,axis=0))"
   ]
  },
  {
   "cell_type": "code",
   "execution_count": 27,
   "id": "2670bf22",
   "metadata": {},
   "outputs": [],
   "source": [
    "def inertie_totale(data):\n",
    "    g=np.mean(data,axis=0)\n",
    "    s=0\n",
    "    for x in data:\n",
    "        s+=distance.euclidean(x,g)**2\n",
    "    return s/data.shape[0]"
   ]
  },
  {
   "cell_type": "code",
   "execution_count": 28,
   "id": "61e9b8bc",
   "metadata": {},
   "outputs": [
    {
     "data": {
      "text/plain": [
       "15.986001376923705"
      ]
     },
     "execution_count": 28,
     "metadata": {},
     "output_type": "execute_result"
    }
   ],
   "source": [
    "inertie_totale(data)"
   ]
  },
  {
   "cell_type": "markdown",
   "id": "32f8106d",
   "metadata": {},
   "source": [
    "## Comparaion"
   ]
  },
  {
   "cell_type": "code",
   "execution_count": 29,
   "id": "4af33a0a",
   "metadata": {},
   "outputs": [
    {
     "name": "stdout",
     "output_type": "stream",
     "text": [
      "[0.89584146 2.73534065]\n",
      "[7.11236095 7.16651367]\n"
     ]
    },
    {
     "data": {
      "text/plain": [
       "5.329070518200751e-15"
      ]
     },
     "execution_count": 29,
     "metadata": {},
     "output_type": "execute_result"
    }
   ],
   "source": [
    "abs( inertie_totale(data) - (inter_class_inertia1(cluster(data,labels),np.mean(data,axis=0))+intra_class_inertia1(cluster(data,labels))) )"
   ]
  }
 ],
 "metadata": {
  "kernelspec": {
   "display_name": "Python 3 (ipykernel)",
   "language": "python",
   "name": "python3"
  },
  "language_info": {
   "codemirror_mode": {
    "name": "ipython",
    "version": 3
   },
   "file_extension": ".py",
   "mimetype": "text/x-python",
   "name": "python",
   "nbconvert_exporter": "python",
   "pygments_lexer": "ipython3",
   "version": "3.11.4"
  }
 },
 "nbformat": 4,
 "nbformat_minor": 5
}
