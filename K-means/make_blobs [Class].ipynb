{
 "cells": [
  {
   "cell_type": "code",
   "execution_count": 48,
   "id": "668c639b",
   "metadata": {},
   "outputs": [],
   "source": [
    "import pandas as pd\n",
    "import numpy as np\n",
    "from sklearn.datasets import make_blobs\n",
    "from scipy.spatial import distance"
   ]
  },
  {
   "cell_type": "markdown",
   "id": "b125c60a",
   "metadata": {},
   "source": [
    "# Data"
   ]
  },
  {
   "cell_type": "markdown",
   "id": "c6693f92",
   "metadata": {},
   "source": [
    "## make_blobs"
   ]
  },
  {
   "cell_type": "code",
   "execution_count": 49,
   "id": "3e28c763",
   "metadata": {},
   "outputs": [],
   "source": [
    "centers = [ [1,3], [6,7] ]\n",
    "\n",
    "data, labels = make_blobs(centers=centers, n_samples=10)"
   ]
  },
  {
   "cell_type": "code",
   "execution_count": 50,
   "id": "14f2ed1a",
   "metadata": {},
   "outputs": [
    {
     "data": {
      "text/plain": [
       "array([[0.10164501, 3.2813839 ],\n",
       "       [5.93977772, 6.41630702],\n",
       "       [5.94962598, 6.19725221],\n",
       "       [6.31633406, 6.88007122],\n",
       "       [0.50378722, 3.48417485],\n",
       "       [1.84650161, 4.17489407],\n",
       "       [2.05782671, 2.79378114],\n",
       "       [5.34451912, 7.29174357],\n",
       "       [0.59946845, 1.7537998 ],\n",
       "       [5.45989671, 9.36631648]])"
      ]
     },
     "execution_count": 50,
     "metadata": {},
     "output_type": "execute_result"
    }
   ],
   "source": [
    "data"
   ]
  },
  {
   "cell_type": "code",
   "execution_count": 51,
   "id": "72f2e2d3",
   "metadata": {},
   "outputs": [
    {
     "data": {
      "text/plain": [
       "array([0, 1, 1, 1, 0, 0, 0, 1, 0, 1])"
      ]
     },
     "execution_count": 51,
     "metadata": {},
     "output_type": "execute_result"
    }
   ],
   "source": [
    "labels"
   ]
  },
  {
   "cell_type": "markdown",
   "id": "305d6a9f",
   "metadata": {},
   "source": [
    "# Cluster"
   ]
  },
  {
   "cell_type": "code",
   "execution_count": 52,
   "id": "0ef07f75",
   "metadata": {},
   "outputs": [],
   "source": [
    "def cluster(data,labels):\n",
    "    cluster=[[] for _ in range(2)]\n",
    "    for i in range(data.shape[0]):\n",
    "        cluster[labels[i]].append(data[i])\n",
    "    return cluster"
   ]
  },
  {
   "cell_type": "code",
   "execution_count": 53,
   "id": "9f7e81e7",
   "metadata": {},
   "outputs": [
    {
     "data": {
      "text/plain": [
       "[[array([0.10164501, 3.2813839 ]),\n",
       "  array([0.50378722, 3.48417485]),\n",
       "  array([1.84650161, 4.17489407]),\n",
       "  array([2.05782671, 2.79378114]),\n",
       "  array([0.59946845, 1.7537998 ])],\n",
       " [array([5.93977772, 6.41630702]),\n",
       "  array([5.94962598, 6.19725221]),\n",
       "  array([6.31633406, 6.88007122]),\n",
       "  array([5.34451912, 7.29174357]),\n",
       "  array([5.45989671, 9.36631648])]]"
      ]
     },
     "execution_count": 53,
     "metadata": {},
     "output_type": "execute_result"
    }
   ],
   "source": [
    "cluster(data,labels)"
   ]
  },
  {
   "cell_type": "markdown",
   "id": "cbd013b5",
   "metadata": {},
   "source": [
    "# Intra"
   ]
  },
  {
   "cell_type": "code",
   "execution_count": 54,
   "id": "c759466d",
   "metadata": {},
   "outputs": [],
   "source": [
    "def inertie_intra_class1(cluster):\n",
    "    n=0\n",
    "    inertie=0\n",
    "    for cl in cluster:\n",
    "        s=0\n",
    "        for x in cl:\n",
    "            for y in cl:\n",
    "                s+=distance.euclidean(x,y)**2\n",
    "#         n+=len(cl)\n",
    "        inertie+=s/(2*len(cl))\n",
    "    return inertie/len(data) # /n"
   ]
  },
  {
   "cell_type": "code",
   "execution_count": 55,
   "id": "e173b471",
   "metadata": {},
   "outputs": [
    {
     "data": {
      "text/plain": [
       "1.333916775483064"
      ]
     },
     "execution_count": 55,
     "metadata": {},
     "output_type": "execute_result"
    }
   ],
   "source": [
    "inertie_intra_class1(cluster(data,labels))"
   ]
  },
  {
   "cell_type": "code",
   "execution_count": 56,
   "id": "ed3968e4",
   "metadata": {},
   "outputs": [],
   "source": [
    "def inertie_intra_class2(cluster):\n",
    "    i=0\n",
    "    for cl in cluster:\n",
    "        ic=0\n",
    "        for x in cl:\n",
    "            ic+=distance.euclidean(x,np.mean(cl,axis=0))**2\n",
    "        i+=ic/len(cl)\n",
    "    return i/len(cluster)"
   ]
  },
  {
   "cell_type": "code",
   "execution_count": 57,
   "id": "1646861c",
   "metadata": {},
   "outputs": [
    {
     "data": {
      "text/plain": [
       "1.3339167754830643"
      ]
     },
     "execution_count": 57,
     "metadata": {},
     "output_type": "execute_result"
    }
   ],
   "source": [
    "inertie_intra_class2(cluster(data,labels))"
   ]
  },
  {
   "cell_type": "markdown",
   "id": "7b8d49fc",
   "metadata": {},
   "source": [
    "# Inter"
   ]
  },
  {
   "cell_type": "code",
   "execution_count": 58,
   "id": "b4552fe2",
   "metadata": {},
   "outputs": [],
   "source": [
    "def inertie_inter_class(cluster, g):\n",
    "    n=0\n",
    "    inertie=0\n",
    "    for cl in cluster:\n",
    "        c=np.mean(cl,axis=0)\n",
    "        inertie+=len(cl)*distance.euclidean(c,g)**2\n",
    "#         n+=len(cl)\n",
    "    return inertie/len(data) # n"
   ]
  },
  {
   "cell_type": "code",
   "execution_count": 59,
   "id": "e1c9999d",
   "metadata": {},
   "outputs": [
    {
     "data": {
      "text/plain": [
       "9.982409059416451"
      ]
     },
     "execution_count": 59,
     "metadata": {},
     "output_type": "execute_result"
    }
   ],
   "source": [
    "inertie_inter_class(cluster(data,labels),np.mean(data,axis=0))"
   ]
  },
  {
   "cell_type": "markdown",
   "id": "33e19376",
   "metadata": {},
   "source": [
    "# Total"
   ]
  },
  {
   "cell_type": "code",
   "execution_count": 60,
   "id": "4ff6e448",
   "metadata": {},
   "outputs": [],
   "source": [
    "def inertie_totale(data):\n",
    "    g=np.mean(data,axis=0)\n",
    "    s=0\n",
    "    for x in data:\n",
    "        s+=distance.euclidean(x,g)**2\n",
    "    return s/len(data) # data.shape[0]"
   ]
  },
  {
   "cell_type": "code",
   "execution_count": 61,
   "id": "20071d50",
   "metadata": {},
   "outputs": [
    {
     "data": {
      "text/plain": [
       "11.316325834899514"
      ]
     },
     "execution_count": 61,
     "metadata": {},
     "output_type": "execute_result"
    }
   ],
   "source": [
    "inertie_totale(data)"
   ]
  },
  {
   "cell_type": "markdown",
   "id": "93b70904",
   "metadata": {},
   "source": [
    "# comparaison"
   ]
  },
  {
   "cell_type": "code",
   "execution_count": 62,
   "id": "f468e73e",
   "metadata": {},
   "outputs": [
    {
     "data": {
      "text/plain": [
       "1.7763568394002505e-15"
      ]
     },
     "execution_count": 62,
     "metadata": {},
     "output_type": "execute_result"
    }
   ],
   "source": [
    "abs( inertie_totale(data) - (inertie_inter_class(cluster(data,labels),np.mean(data,axis=0))+inertie_intra_class1(cluster(data,labels))) )"
   ]
  },
  {
   "cell_type": "markdown",
   "id": "c8bd1b90",
   "metadata": {},
   "source": [
    "# Expectation"
   ]
  },
  {
   "cell_type": "code",
   "execution_count": 63,
   "id": "e8841bb6",
   "metadata": {},
   "outputs": [],
   "source": [
    "def Expectation(data, W):\n",
    "    Exp=[]\n",
    "#     Gr=[[] for _ in range(W.shape[0])]\n",
    "    for x in data:\n",
    "        liste=[]\n",
    "        for k in range(len(W)):\n",
    "            liste.append(distance.euclidean(x,W[k]))\n",
    "        Exp.append(np.argmin(liste))\n",
    "#         Gr[np.argmin(liste)].append(x)\n",
    "    return Exp"
   ]
  },
  {
   "cell_type": "markdown",
   "id": "c73b8077",
   "metadata": {},
   "source": [
    "# Centroid"
   ]
  },
  {
   "cell_type": "code",
   "execution_count": 64,
   "id": "5a73bede",
   "metadata": {},
   "outputs": [],
   "source": [
    "def centroid(cluster):\n",
    "    i=0\n",
    "    list=[]\n",
    "    for cl in cluster:\n",
    "        for x in cl:\n",
    "            list.append(np.mean(cl,axis=0))\n",
    "    return list"
   ]
  },
  {
   "cell_type": "code",
   "execution_count": 65,
   "id": "a6bba00b",
   "metadata": {},
   "outputs": [
    {
     "data": {
      "text/plain": [
       "[array([1.0218458 , 3.09760675]),\n",
       " array([1.0218458 , 3.09760675]),\n",
       " array([1.0218458 , 3.09760675]),\n",
       " array([1.0218458 , 3.09760675]),\n",
       " array([1.0218458 , 3.09760675]),\n",
       " array([5.80203072, 7.2303381 ]),\n",
       " array([5.80203072, 7.2303381 ]),\n",
       " array([5.80203072, 7.2303381 ]),\n",
       " array([5.80203072, 7.2303381 ]),\n",
       " array([5.80203072, 7.2303381 ])]"
      ]
     },
     "execution_count": 65,
     "metadata": {},
     "output_type": "execute_result"
    }
   ],
   "source": [
    "W = centroid(cluster(data,labels))\n",
    "W"
   ]
  },
  {
   "cell_type": "code",
   "execution_count": 81,
   "id": "7bee4f36",
   "metadata": {},
   "outputs": [
    {
     "data": {
      "text/plain": [
       "[0, 5, 5, 5, 0, 0, 0, 5, 0, 5]"
      ]
     },
     "execution_count": 81,
     "metadata": {},
     "output_type": "execute_result"
    }
   ],
   "source": [
    "Exp = Expectation(data, W)\n",
    "Exp"
   ]
  },
  {
   "cell_type": "code",
   "execution_count": 89,
   "id": "5729b916",
   "metadata": {},
   "outputs": [],
   "source": [
    "def initialize_centroids(data, k):\n",
    "    indices = np.random.choice(len(data), k, replace=False)\n",
    "    return data[indices]"
   ]
  },
  {
   "cell_type": "code",
   "execution_count": 96,
   "id": "18ba792f",
   "metadata": {},
   "outputs": [],
   "source": [
    "def k_means(data, k=2, max_iterations=100):\n",
    "    # Initialize centroids\n",
    "    centroids = initialize_centroids(data, k)\n",
    "    \n",
    "    for _ in range(max_iterations):\n",
    "        # Assign data points to clusters\n",
    "        clusters = Expectation(data, W)\n",
    "        \n",
    "        # Update centroids\n",
    "        centroid(cluster(data,labels))\n",
    "    \n",
    "    return clusters, centroids"
   ]
  },
  {
   "cell_type": "code",
   "execution_count": 97,
   "id": "80eeda9b",
   "metadata": {},
   "outputs": [],
   "source": [
    "# Run K-Means algorithm\n",
    "clusters, final_centroids = k_means(data[:, :2], k=2)"
   ]
  },
  {
   "cell_type": "code",
   "execution_count": 98,
   "id": "0f318311",
   "metadata": {},
   "outputs": [
    {
     "data": {
      "text/plain": [
       "[0, 5, 5, 5, 0, 0, 0, 5, 0, 5]"
      ]
     },
     "execution_count": 98,
     "metadata": {},
     "output_type": "execute_result"
    }
   ],
   "source": [
    "clusters"
   ]
  },
  {
   "cell_type": "code",
   "execution_count": 99,
   "id": "90ee8097",
   "metadata": {},
   "outputs": [
    {
     "data": {
      "text/plain": [
       "array([[0.50378722, 3.48417485],\n",
       "       [0.10164501, 3.2813839 ]])"
      ]
     },
     "execution_count": 99,
     "metadata": {},
     "output_type": "execute_result"
    }
   ],
   "source": [
    "final_centroids"
   ]
  }
 ],
 "metadata": {
  "kernelspec": {
   "display_name": "Python 3 (ipykernel)",
   "language": "python",
   "name": "python3"
  },
  "language_info": {
   "codemirror_mode": {
    "name": "ipython",
    "version": 3
   },
   "file_extension": ".py",
   "mimetype": "text/x-python",
   "name": "python",
   "nbconvert_exporter": "python",
   "pygments_lexer": "ipython3",
   "version": "3.11.4"
  }
 },
 "nbformat": 4,
 "nbformat_minor": 5
}
