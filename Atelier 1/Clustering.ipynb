{
 "cells": [
  {
   "cell_type": "markdown",
   "id": "9785e25f",
   "metadata": {},
   "source": [
    "# Les bibliothèques nécessaires"
   ]
  },
  {
   "cell_type": "code",
   "execution_count": 1,
   "id": "df066e97",
   "metadata": {},
   "outputs": [],
   "source": [
    "import numpy as np\n",
    "import seaborn as sns\n",
    "from sklearn.datasets import make_blobs\n",
    "from scipy.spatial import distance"
   ]
  },
  {
   "cell_type": "markdown",
   "id": "6b6dfe83",
   "metadata": {},
   "source": [
    "These libraries are commonly used in machine learning and data analysis tasks. \n",
    "\n",
    "1. `make_blobs` from `sklearn.datasets`:\n",
    "   - `make_blobs` is a function provided by scikit-learn (`sklearn`) that is used to generate synthetic datasets for clustering and classification tasks. It creates clusters of data points with Gaussian distributions, making it useful for testing and demonstrating various machine learning algorithms.\n",
    "\n",
    "2. `distance` from `scipy.spatial`:\n",
    "   - `scipy.spatial.distance` provides functions for computing various distances between points in space. Distance metrics are essential for many machine learning and data analysis tasks, such as clustering, classification, and similarity-based operations."
   ]
  },
  {
   "cell_type": "code",
   "execution_count": 14,
   "id": "0771f25e",
   "metadata": {},
   "outputs": [],
   "source": [
    "centers = [ [1,3], [6,7] ]\n",
    "\n",
    "data, labels = make_blobs(centers=centers, n_samples=10)"
   ]
  },
  {
   "cell_type": "code",
   "execution_count": 15,
   "id": "d7fdf244",
   "metadata": {},
   "outputs": [
    {
     "name": "stdout",
     "output_type": "stream",
     "text": [
      "[[ 5.23008071  5.16877761]\n",
      " [ 5.8551427   8.04201559]\n",
      " [ 5.90899441  7.55133403]\n",
      " [ 6.46650332  6.11718673]\n",
      " [ 1.0831416   4.40030893]\n",
      " [ 0.56700588  3.53394573]\n",
      " [ 1.60789798  3.27045953]\n",
      " [ 5.95317696  8.80400442]\n",
      " [ 2.40492568  0.99062885]\n",
      " [-0.44974136  1.36571957]]\n"
     ]
    }
   ],
   "source": [
    "print(data)"
   ]
  },
  {
   "cell_type": "code",
   "execution_count": 16,
   "id": "cf4f2516",
   "metadata": {},
   "outputs": [
    {
     "name": "stdout",
     "output_type": "stream",
     "text": [
      "[1 1 1 1 0 0 0 1 0 0]\n"
     ]
    }
   ],
   "source": [
    "print(labels)"
   ]
  },
  {
   "cell_type": "code",
   "execution_count": 17,
   "id": "69699f86",
   "metadata": {},
   "outputs": [
    {
     "data": {
      "text/plain": [
       "<Axes: >"
      ]
     },
     "execution_count": 17,
     "metadata": {},
     "output_type": "execute_result"
    },
    {
     "data": {
      "image/png": "[encoded data removed]",
      "text/plain": [
       "<Figure size 640x480 with 1 Axes>"
      ]
     },
     "metadata": {},
     "output_type": "display_data"
    }
   ],
   "source": [
    "sns.scatterplot(\n",
    "    x=[x[0] for x in data],\n",
    "    y=[x[1] for x in data]\n",
    ")"
   ]
  },
  {
   "cell_type": "markdown",
   "id": "a9fac73d",
   "metadata": {},
   "source": [
    "# Intertie"
   ]
  },
  {
   "cell_type": "markdown",
   "id": "d9fcab41",
   "metadata": {},
   "source": [
    "## inter_class_inertia"
   ]
  },
  {
   "attachments": {
    "image.png": {
     "image/png": "[encoded data removed]"
    }
   },
   "cell_type": "markdown",
   "id": "213f2087",
   "metadata": {},
   "source": [
    "L'inertie inter-classes (ou \"between-cluster variance\" en anglais) est généralement calculée comme la somme des carrés des distances entre les centroïdes de chaque cluster (moyenne de chaque cluster) et le centroïde global (moyenne de l'ensemble des données). En termes mathématiques, l'expression de l'inertie inter-classes peut être formulée comme suit :\n",
    "\n",
    "Supposons que vous ayez 'K' clusters, et que 'C_i' soit le centroïde du cluster 'i'. Le centroïde global est noté 'C_g'.\n",
    "\n",
    "L'inertie inter-classes (I_inter) est donnée par :\n",
    "\n",
    "![image.png](attachment:image.png)\n",
    "\n",
    "Où :\n",
    "- (K) est le nombre de clusters.\n",
    "- (ni) est le nombre de points dans le cluster \\(i\\).\n",
    "- (Ci) est le centroïde du cluster \\(i\\).\n",
    "- (Cg) est le centroïde global (moyenne de l'ensemble des données).\n",
    "- (|| . ||) représente la norme euclidienne (distance euclidienne) entre deux vecteurs, qui mesure la distance entre les deux points dans l'espace.\n",
    "\n",
    "Cette formule exprime l'inertie inter-classes comme la somme pondérée des carrés des distances entre les centroïdes de chaque cluster et le centroïde global. Elle mesure à quel point les clusters sont séparés les uns des autres. Une inertie inter-classes élevée indique une meilleure séparation entre les clusters."
   ]
  },
  {
   "cell_type": "code",
   "execution_count": 65,
   "id": "890a1960",
   "metadata": {},
   "outputs": [],
   "source": [
    "def inter_class_inertia(data, labels):\n",
    "    unique_labels = np.unique(labels)\n",
    "    print(\"unique_labels =\", unique_labels)\n",
    "    global_centroid = np.mean(data, axis=0) # moyen sur les lignes \n",
    "    print(\"global_centroid =\", global_centroid)\n",
    "    inertia_inter = 0\n",
    "    for label in unique_labels:\n",
    "        cluster_points = data[labels == label]\n",
    "        print(\"\\ncluster_points =\", cluster_points)\n",
    "        centroid = np.mean(cluster_points, axis=0)\n",
    "        print(\"centroid =\", centroid)\n",
    "        inertia_inter += np.sum((centroid - global_centroid) ** 2)\n",
    "        print(\"inertia_inter =\", inertia_inter)\n",
    "    return inertia_inter"
   ]
  },
  {
   "cell_type": "code",
   "execution_count": 66,
   "id": "35de6517",
   "metadata": {},
   "outputs": [
    {
     "name": "stdout",
     "output_type": "stream",
     "text": [
      "Inertie inter-classes : 21.501330974644528\n"
     ]
    }
   ],
   "source": [
    "# Calcul du centroïde global\n",
    "global_centroid = np.mean(data, axis=0)\n",
    "\n",
    "# Calcul de l'inertie inter-classes\n",
    "inertia_inter = sum(distance.euclidean(global_centroid, np.mean(data[labels == label], axis=0))**2 for label in np.unique(labels))\n",
    "print(\"Inertie inter-classes :\", inertia_inter)"
   ]
  },
  {
   "cell_type": "code",
   "execution_count": 67,
   "id": "52de02b7",
   "metadata": {},
   "outputs": [
    {
     "name": "stdout",
     "output_type": "stream",
     "text": [
      "unique_labels = [0 1]\n",
      "global_centroid = [3.46271279 4.9244381 ]\n",
      "\n",
      "cluster_points = [[ 1.0831416   4.40030893]\n",
      " [ 0.56700588  3.53394573]\n",
      " [ 1.60789798  3.27045953]\n",
      " [ 2.40492568  0.99062885]\n",
      " [-0.44974136  1.36571957]]\n",
      "centroid = [1.04264596 2.71221252]\n",
      "inertia_inter = 10.750665487322262\n",
      "\n",
      "cluster_points = [[5.23008071 5.16877761]\n",
      " [5.8551427  8.04201559]\n",
      " [5.90899441 7.55133403]\n",
      " [6.46650332 6.11718673]\n",
      " [5.95317696 8.80400442]]\n",
      "centroid = [5.88277962 7.13666368]\n",
      "inertia_inter = 21.501330974644524\n",
      "\n",
      "\n",
      " Inertie inter-classes : 21.501330974644524\n"
     ]
    }
   ],
   "source": [
    "# inertia_inter = inter_class_inertia(data, labels)\n",
    "# print(\"\\n\\n Inertie inter-classes :\", inertia_inter)"
   ]
  },
  {
   "cell_type": "markdown",
   "id": "656597a5",
   "metadata": {},
   "source": [
    "## intra_class_inertia"
   ]
  },
  {
   "attachments": {
    "image.png": {
     "image/png": "[encoded data removed]"
    }
   },
   "cell_type": "markdown",
   "id": "dedd493c",
   "metadata": {},
   "source": [
    "L'inertie intra-classes (Inertia Intra):\n",
    "L'inertie intra-classes mesure la dispersion des points de données à l'intérieur de chaque cluster. Elle est calculée comme la somme des carrés des distances entre chaque point de données et le centroïde de son propre cluster, et cela pour tous les clusters. L'expression mathématique est la suivante :\n",
    "\n",
    "![image.png](attachment:image.png)\n",
    "\n",
    "Où :\n",
    "- (K) est le nombre de clusters.\n",
    "- (Ci) est le i-ème cluster.\n",
    "- (x) est un point de données dans le cluster \\(C_i\\).\n",
    "- (Ci) est le centroïde du cluster \\(C_i\\).\n",
    "- (|| . ||) représente la norme euclidienne (distance euclidienne) entre un point de données et le centroïde de son propre cluster."
   ]
  },
  {
   "cell_type": "code",
   "execution_count": 54,
   "id": "2c30713b",
   "metadata": {},
   "outputs": [],
   "source": [
    "def intra_class_inertia(data, labels):\n",
    "    unique_labels = np.unique(labels)\n",
    "    inertia_intra = 0\n",
    "    for label in unique_labels:\n",
    "        cluster_points = data[labels == label]\n",
    "        centroid = np.mean(cluster_points, axis=0)\n",
    "        for point in cluster_points:\n",
    "            inertia_intra += np.sum((point - centroid) ** 2)\n",
    "    return inertia_intra"
   ]
  },
  {
   "cell_type": "code",
   "execution_count": 68,
   "id": "e7e80caa",
   "metadata": {},
   "outputs": [
    {
     "name": "stdout",
     "output_type": "stream",
     "text": [
      "Inertie intra-classes : 22.70056100807487\n"
     ]
    }
   ],
   "source": [
    "# inertia_intra = sum(sum(distance.euclidean(point, np.mean(data[labels == label], axis=0))**2 for point in data[labels == label]) for label in np.unique(labels))\n",
    "# print(\"Inertie intra-classes :\", inertia_intra)"
   ]
  },
  {
   "cell_type": "code",
   "execution_count": 69,
   "id": "affcef25",
   "metadata": {},
   "outputs": [
    {
     "name": "stdout",
     "output_type": "stream",
     "text": [
      "Inertie intra-classes : 22.70056100807487\n"
     ]
    }
   ],
   "source": [
    "inertia_intra = intra_class_inertia(data, labels)\n",
    "print(\"Inertie intra-classes :\", inertia_intra)"
   ]
  },
  {
   "cell_type": "markdown",
   "id": "747637e8",
   "metadata": {},
   "source": [
    "## total_inertia"
   ]
  },
  {
   "attachments": {
    "image.png": {
     "image/png": "[encoded data removed]"
    }
   },
   "cell_type": "markdown",
   "id": "0266de4b",
   "metadata": {},
   "source": [
    "L'inertie totale (Inertia Totale):\n",
    "L'inertie totale mesure la dispersion globale de l'ensemble des données. Elle est calculée comme la somme des carrés des distances entre chaque point de données et le centroïde global (moyenne de l'ensemble des données). L'expression mathématique est la suivante :\n",
    "\n",
    "![image.png](attachment:image.png)\n",
    "\n",
    "Où :\n",
    "- (D) représente l'ensemble de données.\n",
    "- (x) est un point de données dans l'ensemble de données.\n",
    "- (Cg) est le centroïde global (moyenne de l'ensemble de données).\n",
    "- (|| . ||) représente la norme euclidienne (distance euclidienne) entre un point de données et le centroïde global.\n",
    "\n",
    "Ces expressions mathématiques vous permettent de calculer l'inertie intra-classes et l'inertie totale en utilisant les distances euclidiennes entre les points de données et les centroïdes correspondants. L'inertie totale est la somme de l'inertie intra-classes et de l'inertie inter-classes"
   ]
  },
  {
   "cell_type": "code",
   "execution_count": 57,
   "id": "6d47540d",
   "metadata": {},
   "outputs": [],
   "source": [
    "def total_inertia(data):\n",
    "    centroid = np.mean(data, axis=0) # ligne par ligne\n",
    "    total_inertia = 0\n",
    "    for point in data:\n",
    "        total_inertia += np.sum((point - centroid) ** 2)\n",
    "    return total_inertia"
   ]
  },
  {
   "cell_type": "code",
   "execution_count": 58,
   "id": "39f2560a",
   "metadata": {},
   "outputs": [],
   "source": [
    "# inertia_total = sum(distance.euclidean(point, np.mean(data, axis=0))**2 for point in data)\n",
    "# print(\"Inertie totale du dataset :\", inertia_total)"
   ]
  },
  {
   "cell_type": "code",
   "execution_count": 89,
   "id": "bfcc6640",
   "metadata": {},
   "outputs": [],
   "source": [
    "def total_inertia(data):\n",
    "    centroid = np.mean(data, axis=0)\n",
    "    total_inertia = 0\n",
    "    for point in data:\n",
    "        total_inertia += np.sum((point - centroid) ** 2) # distance.euclidienne(point,g)**2\n",
    "    return total_inertia #prof: total_inertia/len(data)"
   ]
  },
  {
   "cell_type": "code",
   "execution_count": 90,
   "id": "79950bf5",
   "metadata": {},
   "outputs": [
    {
     "name": "stdout",
     "output_type": "stream",
     "text": [
      "Inertie totale du dataset : 130.20721588129751\n"
     ]
    }
   ],
   "source": [
    "inertia_total = total_inertia(data)\n",
    "print(\"Inertie totale du dataset :\", inertia_total)"
   ]
  },
  {
   "cell_type": "markdown",
   "id": "f22440ce",
   "metadata": {},
   "source": [
    "## Comparaion"
   ]
  },
  {
   "cell_type": "code",
   "execution_count": 91,
   "id": "774259cf",
   "metadata": {},
   "outputs": [
    {
     "data": {
      "text/plain": [
       "86.00532389857813"
      ]
     },
     "execution_count": 91,
     "metadata": {},
     "output_type": "execute_result"
    }
   ],
   "source": [
    "abs( inertia_total - (inertia_intra + inertia_inter) )"
   ]
  },
  {
   "cell_type": "markdown",
   "id": "7d07b817",
   "metadata": {},
   "source": [
    "## Regroupenment des clusters similaires (C1,C2)"
   ]
  },
  {
   "cell_type": "code",
   "execution_count": 103,
   "id": "cb3c98e6",
   "metadata": {},
   "outputs": [],
   "source": [
    "def regroupenment(data, labels):\n",
    "    \n",
    "    nbr_cluster = np.unique(labels)\n",
    "    list = [ \n",
    "        [] for _ in range(len(nbr_cluster)) \n",
    "    ]\n",
    "    \n",
    "    for i in range(data.shape[0]):\n",
    "        list[labels[i]].append(data[i])\n",
    "        \n",
    "    return list"
   ]
  },
  {
   "cell_type": "code",
   "execution_count": 104,
   "id": "1260b8ff",
   "metadata": {},
   "outputs": [
    {
     "name": "stdout",
     "output_type": "stream",
     "text": [
      "[[], []]\n"
     ]
    }
   ],
   "source": [
    "clusters = regroupenment(data,labels)"
   ]
  },
  {
   "cell_type": "code",
   "execution_count": 112,
   "id": "74048175",
   "metadata": {},
   "outputs": [
    {
     "data": {
      "text/plain": [
       "[array([1.0831416 , 4.40030893]),\n",
       " array([0.56700588, 3.53394573]),\n",
       " array([1.60789798, 3.27045953]),\n",
       " array([2.40492568, 0.99062885]),\n",
       " array([-0.44974136,  1.36571957])]"
      ]
     },
     "execution_count": 112,
     "metadata": {},
     "output_type": "execute_result"
    }
   ],
   "source": [
    "clusters[0]"
   ]
  },
  {
   "cell_type": "code",
   "execution_count": 113,
   "id": "d6508fd5",
   "metadata": {},
   "outputs": [
    {
     "data": {
      "text/plain": [
       "22.70056100807487"
      ]
     },
     "execution_count": 113,
     "metadata": {},
     "output_type": "execute_result"
    }
   ],
   "source": [
    "intra_inertia = total_inertia(clusters[0]) + total_inertia(clusters[1])\n",
    "intra_inertia"
   ]
  }
 ],
 "metadata": {
  "kernelspec": {
   "display_name": "Python 3 (ipykernel)",
   "language": "python",
   "name": "python3"
  },
  "language_info": {
   "codemirror_mode": {
    "name": "ipython",
    "version": 3
   },
   "file_extension": ".py",
   "mimetype": "text/x-python",
   "name": "python",
   "nbconvert_exporter": "python",
   "pygments_lexer": "ipython3",
   "version": "3.11.4"
  }
 },
 "nbformat": 4,
 "nbformat_minor": 5
}
