{
 "cells": [
  {
   "cell_type": "markdown",
   "id": "0e054eb4",
   "metadata": {},
   "source": [
    "Dans ce problème, on va utiliser le Dataset https ://www.kaggle.com/saurabh00007/diabetescsv"
   ]
  },
  {
   "cell_type": "markdown",
   "id": "a26811a1",
   "metadata": {},
   "source": [
    "### — Ouvrir un data set à l’aide de pandas et récupérer un dataframe"
   ]
  },
  {
   "cell_type": "code",
   "execution_count": 6,
   "id": "eede3497",
   "metadata": {},
   "outputs": [],
   "source": [
    "import pandas as pd\n",
    "\n",
    "# Charger le jeu de données dans un DataFrame Pandas\n",
    "df = pd.read_csv(\"data/diabetes.csv\")"
   ]
  },
  {
   "cell_type": "code",
   "execution_count": 7,
   "id": "8179d73c",
   "metadata": {},
   "outputs": [
    {
     "data": {
      "text/html": [
       "<div>\n",
       "<style scoped>\n",
       "    .dataframe tbody tr th:only-of-type {\n",
       "        vertical-align: middle;\n",
       "    }\n",
       "\n",
       "    .dataframe tbody tr th {\n",
       "        vertical-align: top;\n",
       "    }\n",
       "\n",
       "    .dataframe thead th {\n",
       "        text-align: right;\n",
       "    }\n",
       "</style>\n",
       "<table border=\"1\" class=\"dataframe\">\n",
       "  <thead>\n",
       "    <tr style=\"text-align: right;\">\n",
       "      <th></th>\n",
       "      <th>Pregnancies</th>\n",
       "      <th>Glucose</th>\n",
       "      <th>BloodPressure</th>\n",
       "      <th>SkinThickness</th>\n",
       "      <th>Insulin</th>\n",
       "      <th>BMI</th>\n",
       "      <th>DiabetesPedigreeFunction</th>\n",
       "      <th>Age</th>\n",
       "      <th>Outcome</th>\n",
       "    </tr>\n",
       "  </thead>\n",
       "  <tbody>\n",
       "    <tr>\n",
       "      <th>0</th>\n",
       "      <td>6</td>\n",
       "      <td>148</td>\n",
       "      <td>72</td>\n",
       "      <td>35</td>\n",
       "      <td>0</td>\n",
       "      <td>33.6</td>\n",
       "      <td>0.627</td>\n",
       "      <td>50</td>\n",
       "      <td>1</td>\n",
       "    </tr>\n",
       "    <tr>\n",
       "      <th>1</th>\n",
       "      <td>1</td>\n",
       "      <td>85</td>\n",
       "      <td>66</td>\n",
       "      <td>29</td>\n",
       "      <td>0</td>\n",
       "      <td>26.6</td>\n",
       "      <td>0.351</td>\n",
       "      <td>31</td>\n",
       "      <td>0</td>\n",
       "    </tr>\n",
       "    <tr>\n",
       "      <th>2</th>\n",
       "      <td>8</td>\n",
       "      <td>183</td>\n",
       "      <td>64</td>\n",
       "      <td>0</td>\n",
       "      <td>0</td>\n",
       "      <td>23.3</td>\n",
       "      <td>0.672</td>\n",
       "      <td>32</td>\n",
       "      <td>1</td>\n",
       "    </tr>\n",
       "    <tr>\n",
       "      <th>3</th>\n",
       "      <td>1</td>\n",
       "      <td>89</td>\n",
       "      <td>66</td>\n",
       "      <td>23</td>\n",
       "      <td>94</td>\n",
       "      <td>28.1</td>\n",
       "      <td>0.167</td>\n",
       "      <td>21</td>\n",
       "      <td>0</td>\n",
       "    </tr>\n",
       "    <tr>\n",
       "      <th>4</th>\n",
       "      <td>0</td>\n",
       "      <td>137</td>\n",
       "      <td>40</td>\n",
       "      <td>35</td>\n",
       "      <td>168</td>\n",
       "      <td>43.1</td>\n",
       "      <td>2.288</td>\n",
       "      <td>33</td>\n",
       "      <td>1</td>\n",
       "    </tr>\n",
       "  </tbody>\n",
       "</table>\n",
       "</div>"
      ],
      "text/plain": [
       "   Pregnancies  Glucose  BloodPressure  SkinThickness  Insulin   BMI  \\\n",
       "0            6      148             72             35        0  33.6   \n",
       "1            1       85             66             29        0  26.6   \n",
       "2            8      183             64              0        0  23.3   \n",
       "3            1       89             66             23       94  28.1   \n",
       "4            0      137             40             35      168  43.1   \n",
       "\n",
       "   DiabetesPedigreeFunction  Age  Outcome  \n",
       "0                     0.627   50        1  \n",
       "1                     0.351   31        0  \n",
       "2                     0.672   32        1  \n",
       "3                     0.167   21        0  \n",
       "4                     2.288   33        1  "
      ]
     },
     "execution_count": 7,
     "metadata": {},
     "output_type": "execute_result"
    }
   ],
   "source": [
    "df.head()"
   ]
  },
  {
   "cell_type": "code",
   "execution_count": 8,
   "id": "0f9d83d3",
   "metadata": {
    "scrolled": true
   },
   "outputs": [
    {
     "data": {
      "text/plain": [
       "Pregnancies                   int64\n",
       "Glucose                       int64\n",
       "BloodPressure                 int64\n",
       "SkinThickness                 int64\n",
       "Insulin                       int64\n",
       "BMI                         float64\n",
       "DiabetesPedigreeFunction    float64\n",
       "Age                           int64\n",
       "Outcome                       int64\n",
       "dtype: object"
      ]
     },
     "execution_count": 8,
     "metadata": {},
     "output_type": "execute_result"
    }
   ],
   "source": [
    "df.dtypes"
   ]
  },
  {
   "cell_type": "markdown",
   "id": "24535de6",
   "metadata": {},
   "source": [
    "### — Connaitre les dimensions du dataframe"
   ]
  },
  {
   "cell_type": "code",
   "execution_count": 9,
   "id": "bb001ced",
   "metadata": {},
   "outputs": [
    {
     "name": "stdout",
     "output_type": "stream",
     "text": [
      "Dimensions de Dataframe : (768, 9)\n"
     ]
    }
   ],
   "source": [
    "dimensions = df.shape\n",
    "print(\"Dimensions du Dataframe :\", dimensions)"
   ]
  },
  {
   "cell_type": "markdown",
   "id": "f23c2c94",
   "metadata": {},
   "source": [
    "### — Explorer la liste des colonnes"
   ]
  },
  {
   "cell_type": "code",
   "execution_count": 10,
   "id": "33063307",
   "metadata": {},
   "outputs": [
    {
     "name": "stdout",
     "output_type": "stream",
     "text": [
      "columns du Dataframe : Index(['Pregnancies', 'Glucose', 'BloodPressure', 'SkinThickness', 'Insulin',\n",
      "       'BMI', 'DiabetesPedigreeFunction', 'Age', 'Outcome'],\n",
      "      dtype='object')\n"
     ]
    }
   ],
   "source": [
    "colonnes = df.columns\n",
    "print(\"Liste des colonnes :\", colonnes)"
   ]
  },
  {
   "cell_type": "markdown",
   "id": "d1e22477",
   "metadata": {},
   "source": [
    "### — Récupérer une colonne, un ensemble de colonnes"
   ]
  },
  {
   "cell_type": "code",
   "execution_count": 31,
   "id": "13936cee",
   "metadata": {},
   "outputs": [],
   "source": [
    "age = df['Age']\n",
    "bmi = df['BMI']\n",
    "age_bmi = df[[\"Age\", \"BMI\"]]"
   ]
  },
  {
   "cell_type": "code",
   "execution_count": 32,
   "id": "57b82021",
   "metadata": {},
   "outputs": [
    {
     "data": {
      "text/plain": [
       "0    50\n",
       "1    31\n",
       "2    32\n",
       "3    21\n",
       "4    33\n",
       "Name: Age, dtype: int64"
      ]
     },
     "execution_count": 32,
     "metadata": {},
     "output_type": "execute_result"
    }
   ],
   "source": [
    "age.head()"
   ]
  },
  {
   "cell_type": "code",
   "execution_count": 33,
   "id": "25baf057",
   "metadata": {},
   "outputs": [
    {
     "data": {
      "text/html": [
       "<div>\n",
       "<style scoped>\n",
       "    .dataframe tbody tr th:only-of-type {\n",
       "        vertical-align: middle;\n",
       "    }\n",
       "\n",
       "    .dataframe tbody tr th {\n",
       "        vertical-align: top;\n",
       "    }\n",
       "\n",
       "    .dataframe thead th {\n",
       "        text-align: right;\n",
       "    }\n",
       "</style>\n",
       "<table border=\"1\" class=\"dataframe\">\n",
       "  <thead>\n",
       "    <tr style=\"text-align: right;\">\n",
       "      <th></th>\n",
       "      <th>Age</th>\n",
       "      <th>BMI</th>\n",
       "    </tr>\n",
       "  </thead>\n",
       "  <tbody>\n",
       "    <tr>\n",
       "      <th>0</th>\n",
       "      <td>50</td>\n",
       "      <td>33.6</td>\n",
       "    </tr>\n",
       "    <tr>\n",
       "      <th>1</th>\n",
       "      <td>31</td>\n",
       "      <td>26.6</td>\n",
       "    </tr>\n",
       "    <tr>\n",
       "      <th>2</th>\n",
       "      <td>32</td>\n",
       "      <td>23.3</td>\n",
       "    </tr>\n",
       "    <tr>\n",
       "      <th>3</th>\n",
       "      <td>21</td>\n",
       "      <td>28.1</td>\n",
       "    </tr>\n",
       "    <tr>\n",
       "      <th>4</th>\n",
       "      <td>33</td>\n",
       "      <td>43.1</td>\n",
       "    </tr>\n",
       "  </tbody>\n",
       "</table>\n",
       "</div>"
      ],
      "text/plain": [
       "   Age   BMI\n",
       "0   50  33.6\n",
       "1   31  26.6\n",
       "2   32  23.3\n",
       "3   21  28.1\n",
       "4   33  43.1"
      ]
     },
     "execution_count": 33,
     "metadata": {},
     "output_type": "execute_result"
    }
   ],
   "source": [
    "age_bmi.head()"
   ]
  },
  {
   "cell_type": "markdown",
   "id": "cd905892",
   "metadata": {},
   "source": [
    "### — Le max, le min, la moyenne d’une colonne"
   ]
  },
  {
   "cell_type": "code",
   "execution_count": 47,
   "id": "866b1390",
   "metadata": {},
   "outputs": [
    {
     "name": "stdout",
     "output_type": "stream",
     "text": [
      "Max age = 81\n",
      "Min bmi = 0.0\n",
      "Moyenne Age: 33.24\n"
     ]
    }
   ],
   "source": [
    "max_age = age.max()\n",
    "print(\"Max age =\", max_age)\n",
    "\n",
    "min_bmi = bmi.min()\n",
    "print(\"Min bmi =\", min_bmi)\n",
    "\n",
    "moy_age = age.mean()\n",
    "print(\"Moyenne Age: {:.2f}\".format(moy_age))"
   ]
  },
  {
   "cell_type": "markdown",
   "id": "344d4e57",
   "metadata": {},
   "source": [
    "### Pour faire la classification, on se base sur la variable indépendante Glucose et la variable dépendante outcome de diabetes.csv"
   ]
  },
  {
   "cell_type": "markdown",
   "id": "ca10b45a",
   "metadata": {},
   "source": [
    "## 1. Quelles sont les principales étapes à suivre pour établir un modèle de Single Variate Logistic Regression basé sur sklearn ?"
   ]
  },
  {
   "cell_type": "markdown",
   "id": "f5e3a964",
   "metadata": {},
   "source": [
    "### 1.1. Importez les bibliothèques nécessaires :"
   ]
  },
  {
   "cell_type": "markdown",
   "id": "28258eac",
   "metadata": {},
   "source": [
    "Importez les bibliothèques nécessaires, y compris Pandas pour la manipulation des données, Scikit-Learn pour la création du modèle, et Matplotlib si vous souhaitez visualiser les résultats."
   ]
  },
  {
   "cell_type": "code",
   "execution_count": 54,
   "id": "9d127001",
   "metadata": {},
   "outputs": [],
   "source": [
    "import pandas as pd\n",
    "from sklearn.model_selection import train_test_split\n",
    "from sklearn.linear_model import LogisticRegression\n",
    "from sklearn.metrics import classification_report, confusion_matrix\n",
    "import matplotlib.pyplot as plts"
   ]
  },
  {
   "cell_type": "markdown",
   "id": "ec5add8e",
   "metadata": {},
   "source": [
    "### 1.2. Chargez le jeu de données :"
   ]
  },
  {
   "cell_type": "markdown",
   "id": "a3242de1",
   "metadata": {},
   "source": [
    "Utilisez Pandas pour charger le jeu de données \"diabetes.csv\" dans un DataFrame."
   ]
  },
  {
   "cell_type": "code",
   "execution_count": 56,
   "id": "098da411",
   "metadata": {},
   "outputs": [],
   "source": [
    "df = pd.read_csv(\"data/diabetes.csv\")"
   ]
  },
  {
   "cell_type": "markdown",
   "id": "fab231a3",
   "metadata": {},
   "source": [
    "### 1.3. Sélectionnez les données pertinentes :"
   ]
  },
  {
   "cell_type": "markdown",
   "id": "6c117b88",
   "metadata": {},
   "source": [
    "Sélectionnez les colonnes \"Glucose\" comme variable indépendante (caractéristique) et \"outcome\" comme variable dépendante (étiquette) du DataFrame."
   ]
  },
  {
   "cell_type": "code",
   "execution_count": 58,
   "id": "0b3d87cc",
   "metadata": {},
   "outputs": [],
   "source": [
    "X = df[[\"Glucose\"]]\n",
    "y = df[\"Outcome\"]"
   ]
  },
  {
   "cell_type": "markdown",
   "id": "ad55fe22",
   "metadata": {},
   "source": [
    "### 1.4. Divisez les données en ensembles d'apprentissage et de test :"
   ]
  },
  {
   "cell_type": "code",
   "execution_count": 62,
   "id": "8331cb07",
   "metadata": {},
   "outputs": [],
   "source": [
    "X_train, X_test, y_train, y_test = train_test_split(X, y, test_size=0.3, random_state=42)"
   ]
  },
  {
   "cell_type": "markdown",
   "id": "18c9aad0",
   "metadata": {},
   "source": [
    "Les arguments `test_size` et `random_state` sont couramment utilisés lors de la division d'un ensemble de données en ensembles d'apprentissage et de test dans le cadre de l'apprentissage automatique. Voici ce que ces arguments signifient :\n",
    "\n",
    "1. `test_size` : C'est le paramètre qui détermine la proportion de l'ensemble de données qui sera réservée pour l'ensemble de test. Dans cet exemple, `test_size=0.3` signifie que 30 % de l'ensemble de données sera utilisé comme ensemble de test, et 70 % sera utilisé comme ensemble d'apprentissage. Le choix de cette proportion dépend souvent de la taille de l'ensemble de données et des besoins spécifiques du problème. Une division courante est 70-30 ou 80-20.\n",
    "\n",
    "2. `random_state` : C'est une valeur de graine (seed) pour le générateur de nombres aléatoires. Lorsque vous divisez votre ensemble de données en ensembles d'apprentissage et de test de manière aléatoire, vous souhaitez généralement que cette division soit reproductible. En fixant `random_state` à une valeur spécifique (comme `random_state=42`), vous garantissez que la division sera la même chaque fois que vous exécutez le code. Cela est utile pour la reproductibilité des résultats et pour déboguer votre modèle. Vous pouvez choisir n'importe quelle valeur pour `random_state`, tant que vous l'utilisez de manière cohérente.\n",
    "\n",
    "Le choix de la valeur de `random_state` est généralement arbitraire, mais il est courant d'utiliser des valeurs telles que 42, 0, 1 ou tout autre nombre entier. L'important est de s'assurer que la division des données reste cohérente d'une exécution à l'autre, de manière à ce que vous puissiez comparer et évaluer votre modèle de manière reproductible."
   ]
  },
  {
   "cell_type": "markdown",
   "id": "62c56ac6",
   "metadata": {},
   "source": [
    "### 1.5. Créez le modèle de régression logistique :"
   ]
  },
  {
   "cell_type": "code",
   "execution_count": 63,
   "id": "00bbf853",
   "metadata": {},
   "outputs": [],
   "source": [
    "model = LogisticRegression()"
   ]
  },
  {
   "cell_type": "markdown",
   "id": "c45e8120",
   "metadata": {},
   "source": [
    "### 1.6. Entraînez le modèle :"
   ]
  },
  {
   "cell_type": "markdown",
   "id": "63dadeda",
   "metadata": {},
   "source": [
    "Utilisez les données d'apprentissage pour entraîner le modèle."
   ]
  },
  {
   "cell_type": "code",
   "execution_count": 64,
   "id": "97289422",
   "metadata": {},
   "outputs": [
    {
     "data": {
      "text/html": [
       "<style>#sk-container-id-1 {color: black;}#sk-container-id-1 pre{padding: 0;}#sk-container-id-1 div.sk-toggleable {background-color: white;}#sk-container-id-1 label.sk-toggleable__label {cursor: pointer;display: block;width: 100%;margin-bottom: 0;padding: 0.3em;box-sizing: border-box;text-align: center;}#sk-container-id-1 label.sk-toggleable__label-arrow:before {content: \"▸\";float: left;margin-right: 0.25em;color: #696969;}#sk-container-id-1 label.sk-toggleable__label-arrow:hover:before {color: black;}#sk-container-id-1 div.sk-estimator:hover label.sk-toggleable__label-arrow:before {color: black;}#sk-container-id-1 div.sk-toggleable__content {max-height: 0;max-width: 0;overflow: hidden;text-align: left;background-color: #f0f8ff;}#sk-container-id-1 div.sk-toggleable__content pre {margin: 0.2em;color: black;border-radius: 0.25em;background-color: #f0f8ff;}#sk-container-id-1 input.sk-toggleable__control:checked~div.sk-toggleable__content {max-height: 200px;max-width: 100%;overflow: auto;}#sk-container-id-1 input.sk-toggleable__control:checked~label.sk-toggleable__label-arrow:before {content: \"▾\";}#sk-container-id-1 div.sk-estimator input.sk-toggleable__control:checked~label.sk-toggleable__label {background-color: #d4ebff;}#sk-container-id-1 div.sk-label input.sk-toggleable__control:checked~label.sk-toggleable__label {background-color: #d4ebff;}#sk-container-id-1 input.sk-hidden--visually {border: 0;clip: rect(1px 1px 1px 1px);clip: rect(1px, 1px, 1px, 1px);height: 1px;margin: -1px;overflow: hidden;padding: 0;position: absolute;width: 1px;}#sk-container-id-1 div.sk-estimator {font-family: monospace;background-color: #f0f8ff;border: 1px dotted black;border-radius: 0.25em;box-sizing: border-box;margin-bottom: 0.5em;}#sk-container-id-1 div.sk-estimator:hover {background-color: #d4ebff;}#sk-container-id-1 div.sk-parallel-item::after {content: \"\";width: 100%;border-bottom: 1px solid gray;flex-grow: 1;}#sk-container-id-1 div.sk-label:hover label.sk-toggleable__label {background-color: #d4ebff;}#sk-container-id-1 div.sk-serial::before {content: \"\";position: absolute;border-left: 1px solid gray;box-sizing: border-box;top: 0;bottom: 0;left: 50%;z-index: 0;}#sk-container-id-1 div.sk-serial {display: flex;flex-direction: column;align-items: center;background-color: white;padding-right: 0.2em;padding-left: 0.2em;position: relative;}#sk-container-id-1 div.sk-item {position: relative;z-index: 1;}#sk-container-id-1 div.sk-parallel {display: flex;align-items: stretch;justify-content: center;background-color: white;position: relative;}#sk-container-id-1 div.sk-item::before, #sk-container-id-1 div.sk-parallel-item::before {content: \"\";position: absolute;border-left: 1px solid gray;box-sizing: border-box;top: 0;bottom: 0;left: 50%;z-index: -1;}#sk-container-id-1 div.sk-parallel-item {display: flex;flex-direction: column;z-index: 1;position: relative;background-color: white;}#sk-container-id-1 div.sk-parallel-item:first-child::after {align-self: flex-end;width: 50%;}#sk-container-id-1 div.sk-parallel-item:last-child::after {align-self: flex-start;width: 50%;}#sk-container-id-1 div.sk-parallel-item:only-child::after {width: 0;}#sk-container-id-1 div.sk-dashed-wrapped {border: 1px dashed gray;margin: 0 0.4em 0.5em 0.4em;box-sizing: border-box;padding-bottom: 0.4em;background-color: white;}#sk-container-id-1 div.sk-label label {font-family: monospace;font-weight: bold;display: inline-block;line-height: 1.2em;}#sk-container-id-1 div.sk-label-container {text-align: center;}#sk-container-id-1 div.sk-container {/* jupyter's `normalize.less` sets `[hidden] { display: none; }` but bootstrap.min.css set `[hidden] { display: none !important; }` so we also need the `!important` here to be able to override the default hidden behavior on the sphinx rendered scikit-learn.org. See: https://github.com/scikit-learn/scikit-learn/issues/21755 */display: inline-block !important;position: relative;}#sk-container-id-1 div.sk-text-repr-fallback {display: none;}</style><div id=\"sk-container-id-1\" class=\"sk-top-container\"><div class=\"sk-text-repr-fallback\"><pre>LogisticRegression()</pre><b>In a Jupyter environment, please rerun this cell to show the HTML representation or trust the notebook. <br />On GitHub, the HTML representation is unable to render, please try loading this page with nbviewer.org.</b></div><div class=\"sk-container\" hidden><div class=\"sk-item\"><div class=\"sk-estimator sk-toggleable\"><input class=\"sk-toggleable__control sk-hidden--visually\" id=\"sk-estimator-id-1\" type=\"checkbox\" checked><label for=\"sk-estimator-id-1\" class=\"sk-toggleable__label sk-toggleable__label-arrow\">LogisticRegression</label><div class=\"sk-toggleable__content\"><pre>LogisticRegression()</pre></div></div></div></div></div>"
      ],
      "text/plain": [
       "LogisticRegression()"
      ]
     },
     "execution_count": 64,
     "metadata": {},
     "output_type": "execute_result"
    }
   ],
   "source": [
    "model.fit(X_train, y_train)"
   ]
  },
  {
   "cell_type": "markdown",
   "id": "20c3a616",
   "metadata": {},
   "source": [
    "### 1.7. Prédisez les étiquettes pour l'ensemble de test :"
   ]
  },
  {
   "cell_type": "markdown",
   "id": "0a44b2f7",
   "metadata": {},
   "source": [
    "Utilisez le modèle pour prédire les étiquettes de l'ensemble de test."
   ]
  },
  {
   "cell_type": "code",
   "execution_count": 65,
   "id": "a78d2115",
   "metadata": {},
   "outputs": [],
   "source": [
    "y_pred = model.predict(X_test)"
   ]
  },
  {
   "cell_type": "markdown",
   "id": "27b24e87",
   "metadata": {},
   "source": [
    "### 1.8. Évaluez la performance du modèle :"
   ]
  },
  {
   "cell_type": "markdown",
   "id": "963b7226",
   "metadata": {},
   "source": [
    "Évaluez la performance du modèle en utilisant des métriques telles que la matrice de confusion, le rapport de classification, et la précision, le rappel, le F1-score, etc."
   ]
  },
  {
   "cell_type": "code",
   "execution_count": 66,
   "id": "64cba909",
   "metadata": {},
   "outputs": [
    {
     "name": "stdout",
     "output_type": "stream",
     "text": [
      "Matrice de confusion :\n",
      "[[128  23]\n",
      " [ 41  39]]\n",
      "\n",
      "Rapport de classification :\n",
      "              precision    recall  f1-score   support\n",
      "\n",
      "           0       0.76      0.85      0.80       151\n",
      "           1       0.63      0.49      0.55        80\n",
      "\n",
      "    accuracy                           0.72       231\n",
      "   macro avg       0.69      0.67      0.67       231\n",
      "weighted avg       0.71      0.72      0.71       231\n",
      "\n"
     ]
    }
   ],
   "source": [
    "print(\"Matrice de confusion :\")\n",
    "print(confusion_matrix(y_test, y_pred))\n",
    "print(\"\\nRapport de classification :\")\n",
    "print(classification_report(y_test, y_pred))"
   ]
  },
  {
   "cell_type": "markdown",
   "id": "f0c6e835",
   "metadata": {},
   "source": [
    "### 1.9. Visualisez les résultats (facultatif) :"
   ]
  },
  {
   "cell_type": "markdown",
   "id": "349e62a7",
   "metadata": {},
   "source": [
    "Vous pouvez également visualiser les résultats en traçant la régression logistique avec les données d'entraînement et les points de données d'essai."
   ]
  },
  {
   "cell_type": "code",
   "execution_count": 73,
   "id": "f6ac11eb",
   "metadata": {},
   "outputs": [
    {
     "data": {
      "image/png": "[encoded data removed]",
      "text/plain": [
       "<Figure size 640x480 with 1 Axes>"
      ]
     },
     "metadata": {},
     "output_type": "display_data"
    }
   ],
   "source": [
    "# plt.scatter(X_train, y_train, color='blue')\n",
    "# plt.scatter(X_test, y_test, color='red')\n",
    "plt.plot(X, model.predict(X), color='black', linewidth=3)\n",
    "plt.xlabel(\"Glucose\")\n",
    "plt.ylabel(\"Outcome\")\n",
    "plt.title(\"Régression Logistique (Single Variate)\")\n",
    "plt.show()"
   ]
  },
  {
   "cell_type": "markdown",
   "id": "62530d5f",
   "metadata": {},
   "source": [
    "La visualisation des résultats d'un modèle de régression logistique univariée peut aider à mieux comprendre comment le modèle prend des décisions et comment il se comporte par rapport aux données d'entraînement et de test. Dans l'exemple donné précédemment, nous avons tracé la régression logistique et les points de données pour visualiser les résultats. Voici une explication plus détaillée de cette visualisation :\n",
    "\n",
    "1. **Points de données d'entraînement et de test** : Les points de données d'entraînement et de test sont affichés sur le graphique. Les points d'entraînement sont en bleu, tandis que les points de test sont en rouge. Cela permet de visualiser comment le modèle a été ajusté aux données d'entraînement et comment il se généralise aux données de test.\n",
    "\n",
    "2. **Régression logistique** : La ligne noire représente la régression logistique, qui est l'ajustement du modèle aux données. En utilisant la variable \"Glucose\" comme caractéristique, la régression logistique modélise la probabilité que la variable \"outcome\" soit égale à 1 (par exemple, diabétique) en fonction de la valeur de \"Glucose\". Cette courbe illustre comment le modèle classe les données en fonction de cette probabilité.\n",
    "\n",
    "3. **Axe des X** : L'axe horizontal représente les valeurs de la variable \"Glucose\", qui est la caractéristique que nous utilisons pour effectuer la prédiction.\n",
    "\n",
    "4. **Axe des Y** : L'axe vertical représente les valeurs de la variable \"Outcome\", qui est la variable que nous essayons de prédire. Dans cet exemple, \"Outcome\" est une variable binaire, donc elle peut prendre deux valeurs : 0 ou 1.\n",
    "\n",
    "La régression logistique tente de trouver une relation entre la variable indépendante (dans ce cas, \"Glucose\") et la probabilité de la variable dépendante (dans ce cas, \"Outcome\" égale à 1). La ligne noire est la courbe de régression logistique qui représente cette relation. Plus la probabilité est proche de 1, plus le modèle prédit que la personne est diabétique (Outcome = 1), et plus la probabilité est proche de 0, plus le modèle prédit qu'elle ne l'est pas (Outcome = 0).\n",
    "\n",
    "En visualisant cette courbe, vous pouvez voir comment le modèle prend des décisions en fonction de la caractéristique \"Glucose\". Si les points de données d'entraînement et de test sont bien alignés avec la courbe, cela suggère que le modèle est capable de bien généraliser et de prendre des décisions précises. Si les points de données sont dispersés ou si la courbe de régression est incorrecte, cela peut indiquer que le modèle a des performances médiocres. La visualisation aide à évaluer visuellement la performance du modèle et à comprendre comment il classe les données en fonction de la caractéristique \"Glucose\"."
   ]
  },
  {
   "cell_type": "markdown",
   "id": "901d56bf",
   "metadata": {},
   "source": [
    "Ces étapes vous permettront de créer, entraîner et évaluer un modèle de régression logistique univariée basé sur la variable \"Glucose\" pour prédire la variable \"outcome\" du jeu de données \"diabetes.csv\". Vous pouvez personnaliser davantage le modèle en ajustant les hyperparamètres et en utilisant des techniques de validation croisée pour évaluer sa robustesse."
   ]
  },
  {
   "cell_type": "code",
   "execution_count": null,
   "id": "d73da6fa",
   "metadata": {},
   "outputs": [],
   "source": []
  }
 ],
 "metadata": {
  "kernelspec": {
   "display_name": "Python 3 (ipykernel)",
   "language": "python",
   "name": "python3"
  },
  "language_info": {
   "codemirror_mode": {
    "name": "ipython",
    "version": 3
   },
   "file_extension": ".py",
   "mimetype": "text/x-python",
   "name": "python",
   "nbconvert_exporter": "python",
   "pygments_lexer": "ipython3",
   "version": "3.11.4"
  }
 },
 "nbformat": 4,
 "nbformat_minor": 5
}
