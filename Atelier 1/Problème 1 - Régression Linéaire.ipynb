{
 "cells": [
  {
   "cell_type": "markdown",
   "id": "9f5b2b7e",
   "metadata": {},
   "source": [
    "Dans la première et deuxième partie de cet atelier, on va utiliser la base de données Advertising.Alors, l’objectif principal est de créer un modèle de régression pour prédire la variable Sales. \n",
    "\n",
    "La troisième partie traite le problème de classification en appliquant la régression logistique sur la base de données diabetescsv.csv. \n",
    "\n",
    "Pour cela, on commence à savoir comment :\n",
    "\n",
    "- Récupérer des donn ́ees à partir d’un fichier csv et d ́ecouvrir ses principales caract ́eristiques.\n",
    "- Visualiser les donn ́ees sous forme de graphe."
   ]
  },
  {
   "cell_type": "markdown",
   "id": "8096210d",
   "metadata": {},
   "source": [
    "# Partie 1 : Régression linéaire simple"
   ]
  },
  {
   "cell_type": "markdown",
   "id": "d5085415",
   "metadata": {},
   "source": [
    "## 1. Récupérer des données à partir de fichier advertising.scv et découvrir ses principales caractéristiques."
   ]
  },
  {
   "cell_type": "code",
   "execution_count": 336,
   "id": "9088475c",
   "metadata": {},
   "outputs": [],
   "source": [
    "import pandas as pd"
   ]
  },
  {
   "cell_type": "code",
   "execution_count": 337,
   "id": "72563c55",
   "metadata": {},
   "outputs": [],
   "source": [
    "data = pd.read_csv(\"advertising.csv\")"
   ]
  },
  {
   "cell_type": "code",
   "execution_count": 338,
   "id": "a6f3f5da",
   "metadata": {},
   "outputs": [
    {
     "data": {
      "text/html": [
       "<div>\n",
       "<style scoped>\n",
       "    .dataframe tbody tr th:only-of-type {\n",
       "        vertical-align: middle;\n",
       "    }\n",
       "\n",
       "    .dataframe tbody tr th {\n",
       "        vertical-align: top;\n",
       "    }\n",
       "\n",
       "    .dataframe thead th {\n",
       "        text-align: right;\n",
       "    }\n",
       "</style>\n",
       "<table border=\"1\" class=\"dataframe\">\n",
       "  <thead>\n",
       "    <tr style=\"text-align: right;\">\n",
       "      <th></th>\n",
       "      <th>TV</th>\n",
       "      <th>Radio</th>\n",
       "      <th>Newspaper</th>\n",
       "      <th>Sales</th>\n",
       "    </tr>\n",
       "  </thead>\n",
       "  <tbody>\n",
       "    <tr>\n",
       "      <th>0</th>\n",
       "      <td>230.1</td>\n",
       "      <td>37.8</td>\n",
       "      <td>69.2</td>\n",
       "      <td>22.1</td>\n",
       "    </tr>\n",
       "    <tr>\n",
       "      <th>1</th>\n",
       "      <td>44.5</td>\n",
       "      <td>39.3</td>\n",
       "      <td>45.1</td>\n",
       "      <td>10.4</td>\n",
       "    </tr>\n",
       "    <tr>\n",
       "      <th>2</th>\n",
       "      <td>17.2</td>\n",
       "      <td>45.9</td>\n",
       "      <td>69.3</td>\n",
       "      <td>12.0</td>\n",
       "    </tr>\n",
       "    <tr>\n",
       "      <th>3</th>\n",
       "      <td>151.5</td>\n",
       "      <td>41.3</td>\n",
       "      <td>58.5</td>\n",
       "      <td>16.5</td>\n",
       "    </tr>\n",
       "    <tr>\n",
       "      <th>4</th>\n",
       "      <td>180.8</td>\n",
       "      <td>10.8</td>\n",
       "      <td>58.4</td>\n",
       "      <td>17.9</td>\n",
       "    </tr>\n",
       "    <tr>\n",
       "      <th>...</th>\n",
       "      <td>...</td>\n",
       "      <td>...</td>\n",
       "      <td>...</td>\n",
       "      <td>...</td>\n",
       "    </tr>\n",
       "    <tr>\n",
       "      <th>195</th>\n",
       "      <td>38.2</td>\n",
       "      <td>3.7</td>\n",
       "      <td>13.8</td>\n",
       "      <td>7.6</td>\n",
       "    </tr>\n",
       "    <tr>\n",
       "      <th>196</th>\n",
       "      <td>94.2</td>\n",
       "      <td>4.9</td>\n",
       "      <td>8.1</td>\n",
       "      <td>14.0</td>\n",
       "    </tr>\n",
       "    <tr>\n",
       "      <th>197</th>\n",
       "      <td>177.0</td>\n",
       "      <td>9.3</td>\n",
       "      <td>6.4</td>\n",
       "      <td>14.8</td>\n",
       "    </tr>\n",
       "    <tr>\n",
       "      <th>198</th>\n",
       "      <td>283.6</td>\n",
       "      <td>42.0</td>\n",
       "      <td>66.2</td>\n",
       "      <td>25.5</td>\n",
       "    </tr>\n",
       "    <tr>\n",
       "      <th>199</th>\n",
       "      <td>232.1</td>\n",
       "      <td>8.6</td>\n",
       "      <td>8.7</td>\n",
       "      <td>18.4</td>\n",
       "    </tr>\n",
       "  </tbody>\n",
       "</table>\n",
       "<p>200 rows × 4 columns</p>\n",
       "</div>"
      ],
      "text/plain": [
       "        TV  Radio  Newspaper  Sales\n",
       "0    230.1   37.8       69.2   22.1\n",
       "1     44.5   39.3       45.1   10.4\n",
       "2     17.2   45.9       69.3   12.0\n",
       "3    151.5   41.3       58.5   16.5\n",
       "4    180.8   10.8       58.4   17.9\n",
       "..     ...    ...        ...    ...\n",
       "195   38.2    3.7       13.8    7.6\n",
       "196   94.2    4.9        8.1   14.0\n",
       "197  177.0    9.3        6.4   14.8\n",
       "198  283.6   42.0       66.2   25.5\n",
       "199  232.1    8.6        8.7   18.4\n",
       "\n",
       "[200 rows x 4 columns]"
      ]
     },
     "execution_count": 338,
     "metadata": {},
     "output_type": "execute_result"
    }
   ],
   "source": [
    "data"
   ]
  },
  {
   "cell_type": "code",
   "execution_count": 339,
   "id": "ac6827d0",
   "metadata": {},
   "outputs": [
    {
     "data": {
      "text/html": [
       "<div>\n",
       "<style scoped>\n",
       "    .dataframe tbody tr th:only-of-type {\n",
       "        vertical-align: middle;\n",
       "    }\n",
       "\n",
       "    .dataframe tbody tr th {\n",
       "        vertical-align: top;\n",
       "    }\n",
       "\n",
       "    .dataframe thead th {\n",
       "        text-align: right;\n",
       "    }\n",
       "</style>\n",
       "<table border=\"1\" class=\"dataframe\">\n",
       "  <thead>\n",
       "    <tr style=\"text-align: right;\">\n",
       "      <th></th>\n",
       "      <th>TV</th>\n",
       "      <th>Radio</th>\n",
       "      <th>Newspaper</th>\n",
       "      <th>Sales</th>\n",
       "    </tr>\n",
       "  </thead>\n",
       "  <tbody>\n",
       "    <tr>\n",
       "      <th>0</th>\n",
       "      <td>230.1</td>\n",
       "      <td>37.8</td>\n",
       "      <td>69.2</td>\n",
       "      <td>22.1</td>\n",
       "    </tr>\n",
       "    <tr>\n",
       "      <th>1</th>\n",
       "      <td>44.5</td>\n",
       "      <td>39.3</td>\n",
       "      <td>45.1</td>\n",
       "      <td>10.4</td>\n",
       "    </tr>\n",
       "    <tr>\n",
       "      <th>2</th>\n",
       "      <td>17.2</td>\n",
       "      <td>45.9</td>\n",
       "      <td>69.3</td>\n",
       "      <td>12.0</td>\n",
       "    </tr>\n",
       "    <tr>\n",
       "      <th>3</th>\n",
       "      <td>151.5</td>\n",
       "      <td>41.3</td>\n",
       "      <td>58.5</td>\n",
       "      <td>16.5</td>\n",
       "    </tr>\n",
       "    <tr>\n",
       "      <th>4</th>\n",
       "      <td>180.8</td>\n",
       "      <td>10.8</td>\n",
       "      <td>58.4</td>\n",
       "      <td>17.9</td>\n",
       "    </tr>\n",
       "  </tbody>\n",
       "</table>\n",
       "</div>"
      ],
      "text/plain": [
       "      TV  Radio  Newspaper  Sales\n",
       "0  230.1   37.8       69.2   22.1\n",
       "1   44.5   39.3       45.1   10.4\n",
       "2   17.2   45.9       69.3   12.0\n",
       "3  151.5   41.3       58.5   16.5\n",
       "4  180.8   10.8       58.4   17.9"
      ]
     },
     "execution_count": 339,
     "metadata": {},
     "output_type": "execute_result"
    }
   ],
   "source": [
    "data.head()"
   ]
  },
  {
   "cell_type": "code",
   "execution_count": 340,
   "id": "98230eb0",
   "metadata": {},
   "outputs": [
    {
     "data": {
      "text/plain": [
       "TV           float64\n",
       "Radio        float64\n",
       "Newspaper    float64\n",
       "Sales        float64\n",
       "dtype: object"
      ]
     },
     "execution_count": 340,
     "metadata": {},
     "output_type": "execute_result"
    }
   ],
   "source": [
    "data.dtypes"
   ]
  },
  {
   "cell_type": "code",
   "execution_count": 341,
   "id": "39d4ab82",
   "metadata": {},
   "outputs": [
    {
     "data": {
      "text/plain": [
       "TV           0\n",
       "Radio        0\n",
       "Newspaper    0\n",
       "Sales        0\n",
       "dtype: int64"
      ]
     },
     "execution_count": 341,
     "metadata": {},
     "output_type": "execute_result"
    }
   ],
   "source": [
    "#Checking null values\n",
    "data.isnull().sum()"
   ]
  },
  {
   "cell_type": "code",
   "execution_count": 342,
   "id": "d8e2933a",
   "metadata": {},
   "outputs": [],
   "source": [
    "# test_data = test_data.dropna()"
   ]
  },
  {
   "cell_type": "markdown",
   "id": "a6f1a0a1",
   "metadata": {},
   "source": [
    "## 2. Initialiser X (predictors, variable indépendante) par la variable TV et y (cible, variable dépendante)."
   ]
  },
  {
   "cell_type": "code",
   "execution_count": 343,
   "id": "1a630374",
   "metadata": {},
   "outputs": [],
   "source": [
    "X = data['TV'].values\n",
    "y = data['Sales'].values"
   ]
  },
  {
   "cell_type": "code",
   "execution_count": 344,
   "id": "7d354016",
   "metadata": {},
   "outputs": [
    {
     "data": {
      "text/plain": [
       "array([230.1,  44.5,  17.2, 151.5, 180.8,   8.7,  57.5, 120.2,   8.6,\n",
       "       199.8,  66.1, 214.7,  23.8,  97.5, 204.1, 195.4,  67.8, 281.4,\n",
       "        69.2, 147.3, 218.4, 237.4,  13.2, 228.3,  62.3, 262.9, 142.9,\n",
       "       240.1, 248.8,  70.6, 292.9, 112.9,  97.2, 265.6,  95.7, 290.7,\n",
       "       266.9,  74.7,  43.1, 228. , 202.5, 177. , 293.6, 206.9,  25.1,\n",
       "       175.1,  89.7, 239.9, 227.2,  66.9, 199.8, 100.4, 216.4, 182.6,\n",
       "       262.7, 198.9,   7.3, 136.2, 210.8, 210.7,  53.5, 261.3, 239.3,\n",
       "       102.7, 131.1,  69. ,  31.5, 139.3, 237.4, 216.8, 199.1, 109.8,\n",
       "        26.8, 129.4, 213.4,  16.9,  27.5, 120.5,   5.4, 116. ,  76.4,\n",
       "       239.8,  75.3,  68.4, 213.5, 193.2,  76.3, 110.7,  88.3, 109.8,\n",
       "       134.3,  28.6, 217.7, 250.9, 107.4, 163.3, 197.6, 184.9, 289.7,\n",
       "       135.2, 222.4, 296.4, 280.2, 187.9, 238.2, 137.9,  25. ,  90.4,\n",
       "        13.1, 255.4, 225.8, 241.7, 175.7, 209.6,  78.2,  75.1, 139.2,\n",
       "        76.4, 125.7,  19.4, 141.3,  18.8, 224. , 123.1, 229.5,  87.2,\n",
       "         7.8,  80.2, 220.3,  59.6,   0.7, 265.2,   8.4, 219.8,  36.9,\n",
       "        48.3,  25.6, 273.7,  43. , 184.9,  73.4, 193.7, 220.5, 104.6,\n",
       "        96.2, 140.3, 240.1, 243.2,  38. ,  44.7, 280.7, 121. , 197.6,\n",
       "       171.3, 187.8,   4.1,  93.9, 149.8,  11.7, 131.7, 172.5,  85.7,\n",
       "       188.4, 163.5, 117.2, 234.5,  17.9, 206.8, 215.4, 284.3,  50. ,\n",
       "       164.5,  19.6, 168.4, 222.4, 276.9, 248.4, 170.2, 276.7, 165.6,\n",
       "       156.6, 218.5,  56.2, 287.6, 253.8, 205. , 139.5, 191.1, 286. ,\n",
       "        18.7,  39.5,  75.5,  17.2, 166.8, 149.7,  38.2,  94.2, 177. ,\n",
       "       283.6, 232.1])"
      ]
     },
     "execution_count": 344,
     "metadata": {},
     "output_type": "execute_result"
    }
   ],
   "source": [
    "X"
   ]
  },
  {
   "cell_type": "code",
   "execution_count": 345,
   "id": "f384f788",
   "metadata": {},
   "outputs": [
    {
     "data": {
      "text/plain": [
       "array([22.1, 10.4, 12. , 16.5, 17.9,  7.2, 11.8, 13.2,  4.8, 15.6, 12.6,\n",
       "       17.4,  9.2, 13.7, 19. , 22.4, 12.5, 24.4, 11.3, 14.6, 18. , 17.5,\n",
       "        5.6, 20.5,  9.7, 17. , 15. , 20.9, 18.9, 10.5, 21.4, 11.9, 13.2,\n",
       "       17.4, 11.9, 17.8, 25.4, 14.7, 10.1, 21.5, 16.6, 17.1, 20.7, 17.9,\n",
       "        8.5, 16.1, 10.6, 23.2, 19.8,  9.7, 16.4, 10.7, 22.6, 21.2, 20.2,\n",
       "       23.7,  5.5, 13.2, 23.8, 18.4,  8.1, 24.2, 20.7, 14. , 16. , 11.3,\n",
       "       11. , 13.4, 18.9, 22.3, 18.3, 12.4,  8.8, 11. , 17. ,  8.7,  6.9,\n",
       "       14.2,  5.3, 11. , 11.8, 17.3, 11.3, 13.6, 21.7, 20.2, 12. , 16. ,\n",
       "       12.9, 16.7, 14. ,  7.3, 19.4, 22.2, 11.5, 16.9, 16.7, 20.5, 25.4,\n",
       "       17.2, 16.7, 23.8, 19.8, 19.7, 20.7, 15. ,  7.2, 12. ,  5.3, 19.8,\n",
       "       18.4, 21.8, 17.1, 20.9, 14.6, 12.6, 12.2,  9.4, 15.9,  6.6, 15.5,\n",
       "        7. , 16.6, 15.2, 19.7, 10.6,  6.6, 11.9, 24.7,  9.7,  1.6, 17.7,\n",
       "        5.7, 19.6, 10.8, 11.6,  9.5, 20.8,  9.6, 20.7, 10.9, 19.2, 20.1,\n",
       "       10.4, 12.3, 10.3, 18.2, 25.4, 10.9, 10.1, 16.1, 11.6, 16.6, 16. ,\n",
       "       20.6,  3.2, 15.3, 10.1,  7.3, 12.9, 16.4, 13.3, 19.9, 18. , 11.9,\n",
       "       16.9,  8. , 17.2, 17.1, 20. ,  8.4, 17.5,  7.6, 16.7, 16.5, 27. ,\n",
       "       20.2, 16.7, 16.8, 17.6, 15.5, 17.2,  8.7, 26.2, 17.6, 22.6, 10.3,\n",
       "       17.3, 20.9,  6.7, 10.8, 11.9,  5.9, 19.6, 17.3,  7.6, 14. , 14.8,\n",
       "       25.5, 18.4])"
      ]
     },
     "execution_count": 345,
     "metadata": {},
     "output_type": "execute_result"
    }
   ],
   "source": [
    "y"
   ]
  },
  {
   "cell_type": "code",
   "execution_count": 346,
   "id": "3f55b2c7",
   "metadata": {},
   "outputs": [
    {
     "data": {
      "text/plain": [
       "296.4"
      ]
     },
     "execution_count": 346,
     "metadata": {},
     "output_type": "execute_result"
    }
   ],
   "source": [
    "X.max()"
   ]
  },
  {
   "cell_type": "markdown",
   "id": "98333b08",
   "metadata": {},
   "source": [
    "## 3. Pourquoi il s’agit d’un problème de régression"
   ]
  },
  {
   "cell_type": "markdown",
   "id": "d267ed55",
   "metadata": {},
   "source": [
    "- apprentissatge supervisé : on a la colonne cible \n",
    "- c'est une prédiction \n",
    "- (R) parmis les hypothèses de RG, doit etre X est déterministe\n",
    "- variable continue"
   ]
  },
  {
   "cell_type": "markdown",
   "id": "dd79a0af",
   "metadata": {},
   "source": [
    "## 4. Visualiser la base de données avec matplotlib."
   ]
  },
  {
   "cell_type": "code",
   "execution_count": 347,
   "id": "ad67e3d4",
   "metadata": {},
   "outputs": [
    {
     "data": {
      "image/png": "[encoded data removed]",
      "text/plain": [
       "<Figure size 640x480 with 1 Axes>"
      ]
     },
     "metadata": {},
     "output_type": "display_data"
    }
   ],
   "source": [
    "import matplotlib.pyplot as plt\n",
    "\n",
    "plt.plot(X,y,\"b*\")\n",
    "plt.show()"
   ]
  },
  {
   "cell_type": "code",
   "execution_count": 348,
   "id": "a46efb19",
   "metadata": {},
   "outputs": [
    {
     "data": {
      "image/png": "[encoded data removed]",
      "text/plain": [
       "<Figure size 640x480 with 1 Axes>"
      ]
     },
     "metadata": {},
     "output_type": "display_data"
    }
   ],
   "source": [
    "plt.scatter(X, y)\n",
    "plt.xlabel('TV Advertising Budget')\n",
    "plt.ylabel('Sales')\n",
    "plt.show()"
   ]
  },
  {
   "cell_type": "markdown",
   "id": "b37223c0",
   "metadata": {},
   "source": [
    "## 5. Soit le modèle de régression linéaire simple définit par\n",
    "                                                                                   y = w0 + w1x"
   ]
  },
  {
   "cell_type": "markdown",
   "id": "6f59e179",
   "metadata": {},
   "source": [
    "### (a) à l’aide de train test split de sklearn.model selection, diviser la base de données en base d’apprentissage et base de test"
   ]
  },
  {
   "cell_type": "markdown",
   "id": "237cd461",
   "metadata": {},
   "source": [
    "80% pour la base d’apprentissage et 20% pour la base de test"
   ]
  },
  {
   "cell_type": "code",
   "execution_count": 349,
   "id": "6bd27811",
   "metadata": {},
   "outputs": [],
   "source": [
    "from sklearn.model_selection import train_test_split\n",
    "\n",
    "# Split the data into training and testing sets\n",
    "X_train, X_test, y_train, y_test = train_test_split(X, y, test_size=0.2, random_state=42)"
   ]
  },
  {
   "cell_type": "markdown",
   "id": "600ee3db",
   "metadata": {},
   "source": [
    "### (b) Définir une fonction MSE(X,y,W) qui retourne la moyenne des erreurs entre la valeur théorique et la valeur réelle."
   ]
  },
  {
   "cell_type": "markdown",
   "id": "74d8cab6",
   "metadata": {},
   "source": [
    "on utilise MSE pour le cas de dérivé en 0"
   ]
  },
  {
   "cell_type": "code",
   "execution_count": 350,
   "id": "4e210dff",
   "metadata": {},
   "outputs": [],
   "source": [
    "def MSE(X,y,w0, w1):\n",
    "    y_pred = w0 + w1 * X\n",
    "    return np.mean((y - y_pred)**2, axis=0)"
   ]
  },
  {
   "cell_type": "markdown",
   "id": "4b8cad6e",
   "metadata": {},
   "source": [
    "- The sum of elements, along with an axis divided by the number of elements, is known as arithmetic mean. \n",
    "- The numpy.mean() function is used to compute the arithmetic mean along the specified axis.\n",
    "- This function returns the average of the array elements."
   ]
  },
  {
   "cell_type": "markdown",
   "id": "c94eedbe",
   "metadata": {},
   "source": [
    "### (c) Définir la fonction Gradient(X,y,W)"
   ]
  },
  {
   "cell_type": "code",
   "execution_count": 351,
   "id": "c6dcdc9a",
   "metadata": {},
   "outputs": [],
   "source": [
    "import numpy as np\n",
    "\n",
    "def Gradient(X, y, w0, w1):\n",
    "    y_pred = w0 + w1 * X\n",
    "    dW0 = -2 * np.mean(y - y_pred)\n",
    "    dW1 = -2 * np.mean((y - y_pred) * X)\n",
    "    return dW0, dW1"
   ]
  },
  {
   "cell_type": "markdown",
   "id": "3a5a0aaa",
   "metadata": {},
   "source": [
    "### (d) Etablir une fonction de mise à jour des paramètres W MiseJour(grad,W,alpha)"
   ]
  },
  {
   "cell_type": "markdown",
   "id": "89bcea04",
   "metadata": {},
   "source": [
    "La fonction (d) \"Etablir une fonction de mise à jour des paramètres W MiseJour(grad, W, alpha)\" est un composant essentiel de l'algorithme de descente de gradient. Cette fonction est responsable de la mise à jour des paramètres du modèle (dans ce cas, les poids W) en fonction du gradient de la fonction de coût et d'un taux d'apprentissage (alpha). Voici une explication détaillée de cette fonction :\n",
    "\n",
    "- `grad`: C'est un vecteur contenant les gradients des paramètres du modèle. Dans le contexte de la régression linéaire simple, il s'agit généralement d'un vecteur de deux éléments, où le premier élément représente la dérivée partielle de la fonction de coût par rapport à w0 (l'ordonnée à l'origine) et le deuxième élément représente la dérivée partielle par rapport à w1 (le coefficient de la variable prédictive).\n",
    "\n",
    "- `W`: C'est un vecteur contenant les paramètres actuels du modèle. Dans le cas de la régression linéaire simple, W = [w0, w1].\n",
    "\n",
    "- `alpha`: C'est le taux d'apprentissage, également appelé \"pas d'apprentissage\". Il détermine la taille des pas que l'algorithme de descente de gradient effectuera pour mettre à jour les paramètres. Le choix de cette valeur est important car un alpha trop petit peut entraîner une convergence lente, tandis qu'un alpha trop grand peut empêcher la convergence.\n",
    "\n",
    "La fonction de mise à jour des paramètres W MiseJour(grad, W, alpha) est généralement implémentée de la manière suivante pour la régression linéaire simple :\n",
    "\n",
    "- Mettez à jour w0 et w1 comme suit :\n",
    "  - w0_new = w0 - alpha * grad[0]\n",
    "  - w1_new = w1 - alpha * grad[1]\n",
    "\n",
    "En d'autres termes, vous soustrayez le produit du taux d'apprentissage (alpha) et de la dérivée partielle de la fonction de coût par rapport à chaque paramètre (w0 et w1) des paramètres actuels pour obtenir les nouveaux paramètres. Cela permet à l'algorithme de se rapprocher des valeurs optimales des paramètres qui minimisent la fonction de coût.\n",
    "\n",
    "La mise à jour des paramètres se fait itérativement à chaque étape de la descente de gradient, contribuant ainsi à la convergence de l'algorithme vers les paramètres optimaux qui donnent le meilleur ajustement du modèle aux données."
   ]
  },
  {
   "cell_type": "code",
   "execution_count": 352,
   "id": "890f3d71",
   "metadata": {},
   "outputs": [],
   "source": [
    "def MiseJour(grad, W, alpha):\n",
    "    return [w - alpha * g for w, g in zip(W, grad)]"
   ]
  },
  {
   "cell_type": "markdown",
   "id": "12fbc09d",
   "metadata": {},
   "source": [
    "Le code `[w - alpha * g for w, g in zip(W, grad)]` est une expression de liste en Python qui met en œuvre la mise à jour des paramètres du modèle à l'aide du gradient et du taux d'apprentissage (alpha). Il effectue la mise à jour des paramètres en soustrayant le produit de `alpha` et du gradient (`g`) correspondant à chaque paramètre (`w`) dans le vecteur `W`. Voici comment cela fonctionne :\n",
    "\n",
    "- `W` est le vecteur contenant les paramètres actuels du modèle. Dans le contexte de la régression linéaire simple, `W` est un vecteur avec deux éléments, représentant `w0` et `w1`.\n",
    "\n",
    "- `grad` est le vecteur contenant les gradients correspondant à chaque paramètre dans `W`. Dans le contexte de la régression linéaire simple, `grad` est également un vecteur avec deux éléments, correspondant aux dérivées partielles de la fonction de coût par rapport à `w0` et `w1`.\n",
    "\n",
    "- `alpha` est le taux d'apprentissage, qui détermine la taille des pas de mise à jour.\n",
    "\n",
    "L'expression `[w - alpha * g for w, g in zip(W, grad)]` crée un nouveau vecteur de paramètres mis à jour en parcourant simultanément les éléments de `W` et de `grad`, en effectuant la mise à jour pour chaque paire de paramètres.\n",
    "\n",
    "Voici une description détaillée de ce code :\n",
    "\n",
    "- `w` et `g` sont les éléments correspondants de `W` et `grad` à chaque itération.\n",
    "\n",
    "- `w - alpha * g` calcule la nouvelle valeur du paramètre en soustrayant le produit de `alpha` (le taux d'apprentissage) et `g` (le gradient) de la valeur actuelle de `w`.\n",
    "\n",
    "- La compréhension de liste `[w - alpha * g for w, g in zip(W, grad)]` parcourt tous les éléments de `W` et `grad`, effectue ces mises à jour pour chaque élément et retourne un nouveau vecteur de paramètres mis à jour.\n",
    "\n",
    "Cela permet d'ajuster itérativement les paramètres du modèle à mesure que vous descendez dans la direction du gradient, en cherchant à minimiser la fonction de coût."
   ]
  },
  {
   "cell_type": "markdown",
   "id": "27ad3f24",
   "metadata": {},
   "source": [
    "### (e) Ecrire la fonction Batch Gradient Descent(X,y,W,N max,alpha,eps), qui retourne les meilleurs paramètres estimés et de plus affiche l’évolution de MSE après chaque itération"
   ]
  },
  {
   "cell_type": "code",
   "execution_count": 353,
   "id": "5748efe0",
   "metadata": {},
   "outputs": [],
   "source": [
    "def Batch_Gradient_Descent(X, y, W, N_max, alpha, eps):\n",
    "    errors = []\n",
    "    for _ in range(N_max):\n",
    "        grad = Gradient(X, y, W[0], W[1])\n",
    "        print(\"grad: \", grad)\n",
    "        W = MiseJour(grad, W, alpha)\n",
    "#         print(\"W: \",W)\n",
    "        error = MSE(X, y, W[0], W[1])\n",
    "#         print(\"error: \",error)\n",
    "        errors.append(error)\n",
    "#         print(\"errors: \",errors)\n",
    "        if error < eps:\n",
    "            break\n",
    "    return W, errors"
   ]
  },
  {
   "cell_type": "code",
   "execution_count": 354,
   "id": "24813f99",
   "metadata": {},
   "outputs": [
    {
     "name": "stdout",
     "output_type": "stream",
     "text": [
      "grad:  (-30.661250000000003, -5385.64225)\n",
      "grad:  (161565.60786371873, 31865411.96050173)\n",
      "grad:  (-955956584.800108, -188538566971.1529)\n",
      "grad:  (5656122830813.761, 1115529003600081.6)\n",
      "grad:  (-3.346566788462675e+16, -6.600267403450073e+18)\n",
      "grad:  (1.9800682560538286e+20, 3.905190242159149e+22)\n",
      "grad:  (-1.1715499933091437e+24, -2.310589843599871e+26)\n",
      "grad:  (6.931727644369361e+27, 1.3671102031626206e+30)\n",
      "grad:  (-4.101305826480038e+31, -8.088801709088608e+33)\n",
      "grad:  (2.4266258493266914e+35, 4.785913596255408e+37)\n",
      "grad:  (-1.435765402960531e+39, -2.831688768570784e+41)\n",
      "grad:  (8.495014972787806e+42, 1.675429595787881e+45)\n",
      "grad:  (-5.026258415134187e+46, -9.913039743625252e+48)\n",
      "grad:  (2.9738939527044305e+50, 5.865263285651968e+52)\n",
      "grad:  (-1.7595683531316935e+54, -3.470309239115003e+56)\n",
      "grad:  (1.0410864807492662e+58, 2.0532831398289523e+60)\n",
      "grad:  (-6.15981219751894e+61, -1.2148691548252326e+64)\n",
      "grad:  (3.6445854412973917e+65, 7.188034785444764e+67)\n",
      "grad:  (-2.1563974051460608e+69, -4.252955462038768e+71)\n",
      "grad:  (1.2758789288433726e+73, 2.516352619593814e+75)\n",
      "grad:  (-7.54901224227846e+76, -1.488854177443283e+79)\n",
      "grad:  (4.4665355423442263e+80, 8.80912613132944e+82)\n",
      "grad:  (-2.6427218701930334e+84, -5.212109041526825e+86)\n",
      "grad:  (1.5636232639337913e+88, 3.083856475178643e+90)\n",
      "grad:  (-9.251513521308913e+91, -1.8246300458662986e+94)\n",
      "grad:  (5.473857060659965e+95, 1.0795816313355479e+98)\n",
      "grad:  (-3.2387253233239336e+99, -6.387577039836411e+101)\n",
      "grad:  (1.916261532535351e+103, 3.7793474115866814e+105)\n",
      "grad:  (-1.1337973722656007e+107, -2.236132224846364e+109)\n",
      "grad:  (6.708356137878408e+110, 1.323055750753827e+113)\n",
      "grad:  (-3.9691432678738685e+114, -7.828144061217315e+116)\n",
      "grad:  (2.3484290274861374e+118, 4.6316898897311775e+120)\n",
      "grad:  (-1.3894985705803817e+122, -2.740438993824806e+124)\n",
      "grad:  (8.22126730272806e+125, 1.6214397029312757e+128)\n",
      "grad:  (-4.864289715294496e+129, -9.593596924310653e+131)\n",
      "grad:  (2.8780616859967893e+133, 5.676258067429583e+135)\n",
      "grad:  (-1.7028671302941082e+137, -3.35848023450022e+139)\n",
      "grad:  (1.007537982088729e+141, 1.9871171027705525e+143)\n",
      "grad:  (-5.9613152858033106e+144, -1.1757205951550992e+147)\n",
      "grad:  (3.527140471973057e+148, 6.956403907673848e+150)\n",
      "grad:  (-2.0869085617158189e+152, -4.115906068679204e+154)\n",
      "grad:  (1.2347643592789851e+156, 2.435264396810319e+158)\n",
      "grad:  (-7.305749043897297e+159, -1.4408765854744179e+162)\n",
      "grad:  (4.322603636176613e+163, 8.52525638402016e+165)\n",
      "grad:  (-2.557561460600035e+167, -5.0441513968627745e+169)\n",
      "grad:  (1.513236275008613e+171, 2.984480720387976e+173)\n",
      "grad:  (-8.953388058423072e+174, -1.7658322420511303e+177)\n",
      "grad:  (5.297464715102512e+178, 1.0447926454227408e+181)\n",
      "grad:  (-3.1343589962411165e+182, -6.181740518348978e+184)\n",
      "grad:  (1.8545109492300804e+186, 3.657559804197845e+188)\n",
      "grad:  (-1.097261310825828e+190, -2.1640739661548776e+192)\n",
      "grad:  (6.492182668077858e+193, 1.2804209313581948e+196)\n",
      "grad:  (-3.84123958257204e+197, -7.575885977562992e+199)\n",
      "grad:  (2.2727520596839223e+201, 4.482435966128371e+203)\n",
      "grad:  (-1.344722664067424e+205, -2.652129698090367e+207)\n",
      "grad:  (7.956341016397858e+208, 1.5691896077587966e+211)\n",
      "grad:  (-4.707540376968085e+212, -9.284447992385874e+214)\n",
      "grad:  (2.785317566845309e+216, 5.493343449198282e+218)\n",
      "grad:  (-1.647993076412794e+220, -3.2502548644354024e+222)\n",
      "grad:  (9.750705672605045e+223, 1.9230832336412104e+226)\n",
      "grad:  (-5.76921483922286e+227, -1.1378335785228806e+230)\n",
      "grad:  (3.4134801088931814e+231, 6.732237220761553e+233)\n",
      "grad:  (-2.019658962012059e+235, -3.983273024465049e+237)\n",
      "grad:  (1.194974686452252e+239, 2.356789202035296e+241)\n",
      "grad:  (-7.070324882172515e+242, -1.3944450477572085e+245)\n",
      "grad:  (4.1833098647370586e+246, 8.250534199390324e+248)\n",
      "grad:  (-2.4751453032281445e+250, -4.881606104506848e+252)\n",
      "grad:  (1.4644729819643458e+254, 2.888307300310258e+256)\n",
      "grad:  (-8.664869541624075e+257, -1.7089291684807686e+260)\n",
      "grad:  (5.126756525931762e+261, 1.0111247174324773e+264)\n",
      "grad:  (-3.0333558226033627e+265, -5.982536977303705e+267)\n",
      "grad:  (1.794750248033174e+269, 3.5396967424244825e+271)\n",
      "grad:  (-1.0619026059562712e+273, -2.0943377493301254e+275)\n",
      "grad:  (6.282975281783477e+276, 1.2391599980016517e+279)\n",
      "grad:  (-3.717457530481638e+280, -7.33175678630913e+282)\n",
      "grad:  (2.19951374486577e+284, 4.337991676642093e+286)\n",
      "grad:  (-1.3013896390705087e+288, -2.5666661258807673e+290)\n",
      "grad:  (7.699951849054825e+291, 1.5186232461476696e+294)\n",
      "grad:  (-4.555842208802966e+295, -8.985261232403934e+297)\n",
      "grad:  (2.695562081217232e+299, 5.316323164375587e+301)\n",
      "grad:  (-1.5948873118687984e+303, -3.1455170035735106e+305)\n",
      "grad:  (inf, inf)\n",
      "grad:  (-inf, -inf)\n",
      "grad:  (nan, nan)\n",
      "grad:  (nan, nan)\n",
      "grad:  (nan, nan)\n",
      "grad:  (nan, nan)\n",
      "grad:  (nan, nan)\n",
      "grad:  (nan, nan)\n",
      "grad:  (nan, nan)\n",
      "grad:  (nan, nan)\n",
      "grad:  (nan, nan)\n",
      "grad:  (nan, nan)\n",
      "grad:  (nan, nan)\n",
      "grad:  (nan, nan)\n",
      "grad:  (nan, nan)\n",
      "grad:  (nan, nan)\n",
      "grad:  (nan, nan)\n",
      "grad:  (nan, nan)\n",
      "grad:  (nan, nan)\n"
     ]
    },
    {
     "name": "stderr",
     "output_type": "stream",
     "text": [
      "C:\\Users\\ayoub\\AppData\\Local\\Temp\\ipykernel_13768\\2432369924.py:3: RuntimeWarning: overflow encountered in square\n",
      "  return np.mean((y - y_pred)**2, axis=0)\n",
      "C:\\Users\\ayoub\\anaconda3\\Lib\\site-packages\\numpy\\core\\_methods.py:181: RuntimeWarning: overflow encountered in reduce\n",
      "  ret = umr_sum(arr, axis, dtype, out, keepdims, where=where)\n",
      "C:\\Users\\ayoub\\AppData\\Local\\Temp\\ipykernel_13768\\1708837584.py:6: RuntimeWarning: overflow encountered in multiply\n",
      "  dW1 = -2 * np.mean((y - y_pred) * X)\n",
      "C:\\Users\\ayoub\\AppData\\Local\\Temp\\ipykernel_13768\\1406304670.py:2: RuntimeWarning: invalid value encountered in scalar subtract\n",
      "  return [w - alpha * g for w, g in zip(W, grad)]\n"
     ]
    }
   ],
   "source": [
    "# Initialisation des paramètres et appel de la descente de gradient\n",
    "initial_w0, initial_w1 = 0, 0\n",
    "alpha = 0.1\n",
    "N_max = 100\n",
    "eps = 0.0001\n",
    "\n",
    "W, errors = Batch_Gradient_Descent(X_train, y_train, [initial_w0, initial_w1], N_max, alpha, eps)"
   ]
  },
  {
   "cell_type": "code",
   "execution_count": 355,
   "id": "a3f24abb",
   "metadata": {},
   "outputs": [
    {
     "data": {
      "text/plain": [
       "[nan, nan]"
      ]
     },
     "execution_count": 355,
     "metadata": {},
     "output_type": "execute_result"
    }
   ],
   "source": [
    "W"
   ]
  },
  {
   "cell_type": "code",
   "execution_count": 356,
   "id": "4d1a8d00",
   "metadata": {},
   "outputs": [
    {
     "data": {
      "text/plain": [
       "[8579583096.280955,\n",
       " 3.003499148846975e+17,\n",
       " 1.051450525316459e+25,\n",
       " 3.6808673896667184e+32,\n",
       " 1.2885803386929734e+40,\n",
       " 4.51100002659004e+47,\n",
       " 1.5791891765581164e+55,\n",
       " 5.528349458342716e+62,\n",
       " 1.9353379688284252e+70,\n",
       " 6.775138007849036e+77,\n",
       " 2.3718077030849598e+85,\n",
       " 8.303110244981005e+92,\n",
       " 2.9067128692868995e+100,\n",
       " 1.017568050428482e+108,\n",
       " 3.562253252440605e+115,\n",
       " 1.2470564724570755e+123,\n",
       " 4.3656352743354395e+130,\n",
       " 1.528300583771508e+138,\n",
       " 5.350201122130814e+145,\n",
       " 1.8729726567669363e+153,\n",
       " 6.556812525207389e+160,\n",
       " 2.2953773689855957e+168,\n",
       " 8.035546610179447e+175,\n",
       " 2.8130454798768897e+183,\n",
       " 9.847774215921183e+190,\n",
       " 3.447461397318263e+198,\n",
       " 1.2068706923423145e+206,\n",
       " 4.2249548295677496e+213,\n",
       " 1.4790518508029887e+221,\n",
       " 5.1777935282388745e+228,\n",
       " 1.812617036144963e+236,\n",
       " 6.3455224736249346e+243,\n",
       " 2.2214099647278653e+251,\n",
       " 7.776605081619528e+258,\n",
       " 2.722396475919258e+266,\n",
       " 9.530434546065585e+273,\n",
       " 3.336368653143018e+281,\n",
       " 1.1679798791830201e+289,\n",
       " 4.088807742787243e+296,\n",
       " 1.4313901339782567e+304,\n",
       " inf,\n",
       " inf,\n",
       " inf,\n",
       " inf,\n",
       " inf,\n",
       " inf,\n",
       " inf,\n",
       " inf,\n",
       " inf,\n",
       " inf,\n",
       " inf,\n",
       " inf,\n",
       " inf,\n",
       " inf,\n",
       " inf,\n",
       " inf,\n",
       " inf,\n",
       " inf,\n",
       " inf,\n",
       " inf,\n",
       " inf,\n",
       " inf,\n",
       " inf,\n",
       " inf,\n",
       " inf,\n",
       " inf,\n",
       " inf,\n",
       " inf,\n",
       " inf,\n",
       " inf,\n",
       " inf,\n",
       " inf,\n",
       " inf,\n",
       " inf,\n",
       " inf,\n",
       " inf,\n",
       " inf,\n",
       " inf,\n",
       " inf,\n",
       " inf,\n",
       " inf,\n",
       " inf,\n",
       " nan,\n",
       " nan,\n",
       " nan,\n",
       " nan,\n",
       " nan,\n",
       " nan,\n",
       " nan,\n",
       " nan,\n",
       " nan,\n",
       " nan,\n",
       " nan,\n",
       " nan,\n",
       " nan,\n",
       " nan,\n",
       " nan,\n",
       " nan,\n",
       " nan,\n",
       " nan]"
      ]
     },
     "execution_count": 356,
     "metadata": {},
     "output_type": "execute_result"
    }
   ],
   "source": [
    "errors"
   ]
  },
  {
   "cell_type": "markdown",
   "id": "64b49d72",
   "metadata": {},
   "source": [
    "### (f) Tracer l'évolution de l'erreur MSE après chaque itération"
   ]
  },
  {
   "cell_type": "code",
   "execution_count": 357,
   "id": "71bf1e36",
   "metadata": {},
   "outputs": [
    {
     "data": {
      "image/png": "[encoded data removed]",
      "text/plain": [
       "<Figure size 640x480 with 1 Axes>"
      ]
     },
     "metadata": {},
     "output_type": "display_data"
    }
   ],
   "source": [
    "plt.plot(errors)\n",
    "plt.xlabel('Iterations')\n",
    "plt.ylabel('MSE')\n",
    "plt.title('Évolution de l\\'erreur MSE')\n",
    "plt.show()"
   ]
  },
  {
   "cell_type": "markdown",
   "id": "4d881d5b",
   "metadata": {},
   "source": [
    "### (g) Donner l’erreur de ce modèle"
   ]
  },
  {
   "cell_type": "code",
   "execution_count": 358,
   "id": "56ec1f05",
   "metadata": {},
   "outputs": [
    {
     "name": "stdout",
     "output_type": "stream",
     "text": [
      "Erreur sur l'ensemble de test (MSE) : nan\n"
     ]
    }
   ],
   "source": [
    "final_w0, final_w1 = W[0], W[1]\n",
    "test_error = MSE(X_test, y_test, final_w0, final_w1)\n",
    "print(f'Erreur sur l\\'ensemble de test (MSE) : {test_error}')"
   ]
  }
 ],
 "metadata": {
  "kernelspec": {
   "display_name": "Python 3 (ipykernel)",
   "language": "python",
   "name": "python3"
  },
  "language_info": {
   "codemirror_mode": {
    "name": "ipython",
    "version": 3
   },
   "file_extension": ".py",
   "mimetype": "text/x-python",
   "name": "python",
   "nbconvert_exporter": "python",
   "pygments_lexer": "ipython3",
   "version": "3.11.4"
  }
 },
 "nbformat": 4,
 "nbformat_minor": 5
}
